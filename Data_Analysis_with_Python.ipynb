{
  "cells": [
    {
      "cell_type": "markdown",
      "metadata": {
        "id": "view-in-github",
        "colab_type": "text"
      },
      "source": [
        "<a href=\"https://colab.research.google.com/github/sMathujan/Analytics/blob/main/Data_Analysis_with_Python.ipynb\" target=\"_parent\"><img src=\"https://colab.research.google.com/assets/colab-badge.svg\" alt=\"Open In Colab\"/></a>"
      ]
    },
    {
      "cell_type": "markdown",
      "id": "7f8eda54",
      "metadata": {
        "id": "7f8eda54"
      },
      "source": [
        "## Numpy"
      ]
    },
    {
      "cell_type": "markdown",
      "id": "9efedd8a",
      "metadata": {
        "id": "9efedd8a"
      },
      "source": [
        "NumPy is a fundamental library for scientific computing in Python. It provides support for arrays and matrices, along with a collection of mathematical functions to operate on these data structures."
      ]
    },
    {
      "cell_type": "code",
      "execution_count": null,
      "id": "a11fa0e6",
      "metadata": {
        "id": "a11fa0e6",
        "outputId": "b669e3fa-7fa3-4e34-c215-5ad07cc46d05"
      },
      "outputs": [
        {
          "name": "stdout",
          "output_type": "stream",
          "text": [
            "Requirement already satisfied: numpy in c:\\users\\dell\\anaconda3\\lib\\site-packages (1.21.5)\n"
          ]
        }
      ],
      "source": [
        "!pip install numpy"
      ]
    },
    {
      "cell_type": "code",
      "execution_count": null,
      "id": "c255f78a",
      "metadata": {
        "id": "c255f78a",
        "outputId": "5ec086c4-535c-423a-a03d-aefde08d6d62"
      },
      "outputs": [
        {
          "name": "stdout",
          "output_type": "stream",
          "text": [
            "[1 2 3 4 5]\n",
            "<class 'numpy.ndarray'>\n",
            "(5,)\n"
          ]
        }
      ],
      "source": [
        "import numpy as np\n",
        "\n",
        "## Create an array using numpy\n",
        "## Create a 1D array\n",
        "\n",
        "arr1 = np.array([1, 2, 3, 4, 5])\n",
        "print(arr1)\n",
        "print(type(arr1))\n",
        "print(arr1.shape)"
      ]
    },
    {
      "cell_type": "code",
      "execution_count": null,
      "id": "e16bdc22",
      "metadata": {
        "id": "e16bdc22",
        "outputId": "4eae63c1-d8e8-45f9-db14-a2e53a5c2557"
      },
      "outputs": [
        {
          "data": {
            "text/plain": [
              "array([[1, 2, 3, 4, 5]])"
            ]
          },
          "execution_count": 3,
          "metadata": {},
          "output_type": "execute_result"
        }
      ],
      "source": [
        "## 1D array\n",
        "arr2 = np.array([1, 2, 3, 4, 5])\n",
        "arr2.reshape(1, 5)  ## 1 row and 5 columns"
      ]
    },
    {
      "cell_type": "code",
      "execution_count": null,
      "id": "40a8ca25",
      "metadata": {
        "id": "40a8ca25",
        "outputId": "fd0b8375-4223-4b7c-a401-047df209796a"
      },
      "outputs": [
        {
          "data": {
            "text/plain": [
              "(1, 5)"
            ]
          },
          "execution_count": 4,
          "metadata": {},
          "output_type": "execute_result"
        }
      ],
      "source": [
        "arr2 = np.array([[1, 2, 3, 4, 5]])\n",
        "arr2.shape"
      ]
    },
    {
      "cell_type": "code",
      "execution_count": null,
      "id": "be25d18b",
      "metadata": {
        "id": "be25d18b",
        "outputId": "0f41bd80-4be5-45a5-c481-1fd47eeb1f7e"
      },
      "outputs": [
        {
          "name": "stdout",
          "output_type": "stream",
          "text": [
            "[[1 2 3 4 5]\n",
            " [2 3 4 5 6]]\n",
            "(2, 5)\n"
          ]
        }
      ],
      "source": [
        "## 2D array\n",
        "arr2 = np.array([[1, 2, 3, 4, 5],[2, 3, 4, 5, 6]])\n",
        "print(arr2)\n",
        "print(arr2.shape)"
      ]
    },
    {
      "cell_type": "code",
      "execution_count": null,
      "id": "6b34c9dd",
      "metadata": {
        "id": "6b34c9dd",
        "outputId": "c2f055ef-d4fb-4c99-f85a-09fdd63e1b64"
      },
      "outputs": [
        {
          "data": {
            "text/plain": [
              "array([[0],\n",
              "       [2],\n",
              "       [4],\n",
              "       [6],\n",
              "       [8]])"
            ]
          },
          "execution_count": 6,
          "metadata": {},
          "output_type": "execute_result"
        }
      ],
      "source": [
        "np.arange(0, 10, 2).reshape(5, 1)"
      ]
    },
    {
      "cell_type": "code",
      "execution_count": null,
      "id": "0a3c782d",
      "metadata": {
        "id": "0a3c782d",
        "outputId": "8c0e430e-7768-49d9-ae0a-18e9620892f1"
      },
      "outputs": [
        {
          "data": {
            "text/plain": [
              "array([[1., 1., 1., 1.],\n",
              "       [1., 1., 1., 1.],\n",
              "       [1., 1., 1., 1.]])"
            ]
          },
          "execution_count": 7,
          "metadata": {},
          "output_type": "execute_result"
        }
      ],
      "source": [
        "np.ones((3, 4))"
      ]
    },
    {
      "cell_type": "code",
      "execution_count": null,
      "id": "31d9c108",
      "metadata": {
        "id": "31d9c108",
        "outputId": "08fe8a8b-7d5a-46f8-dab5-ac8fa3c9857f"
      },
      "outputs": [
        {
          "data": {
            "text/plain": [
              "array([[1., 0., 0.],\n",
              "       [0., 1., 0.],\n",
              "       [0., 0., 1.]])"
            ]
          },
          "execution_count": 8,
          "metadata": {},
          "output_type": "execute_result"
        }
      ],
      "source": [
        "## Identity matrix\n",
        "np.eye(3)"
      ]
    },
    {
      "cell_type": "code",
      "execution_count": null,
      "id": "dc341ad1",
      "metadata": {
        "id": "dc341ad1",
        "outputId": "37fa89f7-5c95-4ba5-9f0f-679e4f2bfe80"
      },
      "outputs": [
        {
          "name": "stdout",
          "output_type": "stream",
          "text": [
            "Array:\n",
            " [[1 2 3]\n",
            " [4 5 6]]\n",
            "Shape: (2, 3)\n",
            "Number of dimensions: 2\n",
            "Size (number of elements): 6\n",
            "Data type: int32\n",
            "Item size (in bytes): 4\n"
          ]
        }
      ],
      "source": [
        "## Attributes of Numpy Array\n",
        "arr = np.array([[1, 2, 3], [4, 5, 6]])\n",
        "\n",
        "print(\"Array:\\n\", arr)\n",
        "print(\"Shape:\", arr.shape)  # Output: (2, 3)\n",
        "print(\"Number of dimensions:\", arr.ndim)  # Output: 2\n",
        "print(\"Size (number of elements):\", arr.size)  # Output: 6\n",
        "print(\"Data type:\", arr.dtype)  # Output: int32 (may vary based on platform)\n",
        "print(\"Item size (in bytes):\", arr.itemsize)  # Output: 8 (may vary based on platform)"
      ]
    },
    {
      "cell_type": "code",
      "execution_count": null,
      "id": "c8ed3051",
      "metadata": {
        "id": "c8ed3051",
        "outputId": "4792e096-429b-4a0b-e936-0a71e3d09bea"
      },
      "outputs": [
        {
          "name": "stdout",
          "output_type": "stream",
          "text": [
            "Addition: [11 22 33 44 55]\n",
            "Substraction: [ -9 -18 -27 -36 -45]\n",
            "Multiplication: [ 10  40  90 160 250]\n",
            "Division: [0.1 0.1 0.1 0.1 0.1]\n"
          ]
        }
      ],
      "source": [
        "## Numpy Vectorized Operation\n",
        "arr1 = np.array([1, 2, 3, 4, 5])\n",
        "arr2 = np.array([10, 20, 30, 40, 50])\n",
        "\n",
        "## Element Wise addition\n",
        "print(\"Addition:\", arr1 + arr2)\n",
        "\n",
        "## Element Wise Substraction\n",
        "print(\"Substraction:\", arr1 - arr2)\n",
        "\n",
        "## Element-wise multiplication\n",
        "print(\"Multiplication:\", arr1 * arr2)\n",
        "\n",
        "## Element-wise division\n",
        "print(\"Division:\", arr1 / arr2)"
      ]
    },
    {
      "cell_type": "code",
      "execution_count": null,
      "id": "d66a5d62",
      "metadata": {
        "id": "d66a5d62",
        "outputId": "e0a05073-3dbf-4e75-a80a-618108ea9448"
      },
      "outputs": [
        {
          "name": "stdout",
          "output_type": "stream",
          "text": [
            "[1.41421356 1.73205081 2.         2.23606798 2.44948974]\n",
            "[  7.3890561   20.08553692  54.59815003 148.4131591  403.42879349]\n",
            "[ 0.90929743  0.14112001 -0.7568025  -0.95892427 -0.2794155 ]\n",
            "[0.69314718 1.09861229 1.38629436 1.60943791 1.79175947]\n"
          ]
        }
      ],
      "source": [
        "## Universal Function\n",
        "\n",
        "arr = np.array([2, 3, 4, 5, 6])\n",
        "\n",
        "## Square root\n",
        "print(np.sqrt(arr))\n",
        "\n",
        "## Exponential\n",
        "print(np.exp(arr))\n",
        "\n",
        "## Sine\n",
        "print(np.sin(arr))\n",
        "\n",
        "## Natural log\n",
        "print(np.log(arr))"
      ]
    },
    {
      "cell_type": "code",
      "execution_count": null,
      "id": "e9d89330",
      "metadata": {
        "id": "e9d89330",
        "outputId": "74a28a82-91f4-4a45-f537-5ba27e3b46bf"
      },
      "outputs": [
        {
          "name": "stdout",
          "output_type": "stream",
          "text": [
            "Array : \n",
            " [[ 1  2  3  4]\n",
            " [ 5  6  7  8]\n",
            " [ 9 10 11 12]]\n"
          ]
        }
      ],
      "source": [
        "## Array Slicing and Indexing\n",
        "\n",
        "arr = np.array([[1,2,3,4],[5,6,7,8],[9,10,11,12]])\n",
        "print(\"Array : \\n\", arr)"
      ]
    },
    {
      "cell_type": "code",
      "execution_count": null,
      "id": "b204889a",
      "metadata": {
        "id": "b204889a",
        "outputId": "f9947936-f791-49df-907c-b44f52525306"
      },
      "outputs": [
        {
          "name": "stdout",
          "output_type": "stream",
          "text": [
            "[[ 6  7]\n",
            " [10 11]]\n"
          ]
        }
      ],
      "source": [
        "print(arr[1:,1:3])"
      ]
    },
    {
      "cell_type": "code",
      "execution_count": null,
      "id": "0cb29384",
      "metadata": {
        "id": "0cb29384",
        "outputId": "be0e95ab-6048-4f67-8053-1e1860ece405"
      },
      "outputs": [
        {
          "name": "stdout",
          "output_type": "stream",
          "text": [
            "1\n"
          ]
        }
      ],
      "source": [
        "print(arr[0][0])"
      ]
    },
    {
      "cell_type": "code",
      "execution_count": null,
      "id": "520d673f",
      "metadata": {
        "id": "520d673f",
        "outputId": "79eeea35-3489-4b3a-b1a4-1745e2f25b2c"
      },
      "outputs": [
        {
          "name": "stdout",
          "output_type": "stream",
          "text": [
            "[[100   2   3   4]\n",
            " [  5   6   7   8]\n",
            " [  9  10  11  12]]\n"
          ]
        }
      ],
      "source": [
        "## Modify array elements\n",
        "arr[0, 0] = 100\n",
        "print(arr)"
      ]
    },
    {
      "cell_type": "code",
      "execution_count": null,
      "id": "1f22bdff",
      "metadata": {
        "id": "1f22bdff",
        "outputId": "6454ecea-084a-4c03-d0d0-a89b493a1fe0"
      },
      "outputs": [
        {
          "name": "stdout",
          "output_type": "stream",
          "text": [
            "[[100   2   3   4]\n",
            " [200 200 200 200]\n",
            " [200 200 200 200]]\n"
          ]
        }
      ],
      "source": [
        "arr[1:] = 200\n",
        "print(arr)"
      ]
    },
    {
      "cell_type": "code",
      "execution_count": null,
      "id": "8ce52da6",
      "metadata": {
        "id": "8ce52da6",
        "outputId": "071b5a44-95ab-431f-a2c7-99ddac20607d"
      },
      "outputs": [
        {
          "name": "stdout",
          "output_type": "stream",
          "text": [
            "Normalized data: [-1.41421356 -0.70710678  0.          0.70710678  1.41421356]\n"
          ]
        }
      ],
      "source": [
        "## Statistical concepts\n",
        "## Normalization -- have a mean of 0 and standard deviation of 1\n",
        "data = np.array([1, 2, 3, 4, 5])\n",
        "\n",
        "# Calculate the mean and standard deviation\n",
        "mean = np.mean(data)\n",
        "std_dev = np.std(data)\n",
        "\n",
        "# Normalize the data\n",
        "normalized_data = (data - mean) / std_dev\n",
        "print(\"Normalized data:\", normalized_data)"
      ]
    },
    {
      "cell_type": "code",
      "execution_count": null,
      "id": "e6129045",
      "metadata": {
        "id": "e6129045",
        "outputId": "39ed31e6-cd4f-46cd-9ded-b0b5d7173166"
      },
      "outputs": [
        {
          "name": "stdout",
          "output_type": "stream",
          "text": [
            "Mean: 5.5\n",
            "Median: 5.5\n",
            "Standard Deviation: 2.8722813232690143\n",
            "Variance: 8.25\n"
          ]
        }
      ],
      "source": [
        "data = np.array([1, 2, 3, 4, 5, 6, 7, 8, 9, 10])\n",
        "\n",
        "# Mean\n",
        "mean = np.mean(data)\n",
        "print(\"Mean:\", mean)\n",
        "\n",
        "# Median\n",
        "median = np.median(data)\n",
        "print(\"Median:\", median)\n",
        "\n",
        "# Standard deviation\n",
        "std_dev = np.std(data)\n",
        "print(\"Standard Deviation:\", std_dev)\n",
        "\n",
        "# Variance\n",
        "variance = np.var(data)\n",
        "print(\"Variance:\", variance)"
      ]
    },
    {
      "cell_type": "code",
      "execution_count": null,
      "id": "53a34da0",
      "metadata": {
        "id": "53a34da0",
        "outputId": "a7eb0e76-4a3f-4090-8056-3bcfd48fa4fe"
      },
      "outputs": [
        {
          "data": {
            "text/plain": [
              "array([5, 6, 7, 8])"
            ]
          },
          "execution_count": 19,
          "metadata": {},
          "output_type": "execute_result"
        }
      ],
      "source": [
        "## Logical operation\n",
        "data = np.array([1, 2, 3, 4, 5, 6, 7, 8, 9, 10])\n",
        "\n",
        "data[(data >= 5) & (data <= 8)]"
      ]
    },
    {
      "cell_type": "markdown",
      "id": "2b51fa07",
      "metadata": {
        "id": "2b51fa07"
      },
      "source": [
        "## Pandas - DataFrame And Series"
      ]
    },
    {
      "cell_type": "markdown",
      "id": "213f5c13",
      "metadata": {
        "id": "213f5c13"
      },
      "source": [
        "Pandas is a powerful data manipulation library in Python, widely used for data analysis and data cleaning. It provides two primary data structures: Series and DataFrame. A Series is a one-dimensional array-like object, while a DataFrame is a two-dimensional, size-mutable, and potentially heterogeneous tabular data structure with labeled axes (rows and columns)."
      ]
    },
    {
      "cell_type": "code",
      "execution_count": null,
      "id": "000ddbb0",
      "metadata": {
        "id": "000ddbb0"
      },
      "outputs": [],
      "source": [
        "import pandas as pd"
      ]
    },
    {
      "cell_type": "code",
      "execution_count": null,
      "id": "5633db9a",
      "metadata": {
        "id": "5633db9a",
        "outputId": "4880c47e-364a-4e5d-e7d2-422b3dc5bd6f"
      },
      "outputs": [
        {
          "name": "stdout",
          "output_type": "stream",
          "text": [
            "Series \n",
            " 0    1\n",
            "1    2\n",
            "2    3\n",
            "3    4\n",
            "4    5\n",
            "dtype: int64\n",
            "<class 'pandas.core.series.Series'>\n"
          ]
        }
      ],
      "source": [
        "## Series\n",
        "## A Pandas Series is a one-dimensional array-like object that can hold any data type.\n",
        "## It is similar to a column in a table.\n",
        "\n",
        "data = [1, 2, 3, 4, 5]\n",
        "series = pd.Series(data)\n",
        "print(\"Series \\n\", series)\n",
        "print(type(series))"
      ]
    },
    {
      "cell_type": "code",
      "execution_count": null,
      "id": "80b70c2c",
      "metadata": {
        "id": "80b70c2c",
        "outputId": "c5727a79-dfe7-4872-809e-67560ffacf81"
      },
      "outputs": [
        {
          "name": "stdout",
          "output_type": "stream",
          "text": [
            "a    1\n",
            "b    2\n",
            "c    3\n",
            "dtype: int64\n"
          ]
        }
      ],
      "source": [
        "## Create a Series from dictionary\n",
        "data = {'a': 1,'b': 2,'c': 3}\n",
        "series_dict = pd.Series(data)\n",
        "print(series_dict)"
      ]
    },
    {
      "cell_type": "code",
      "execution_count": null,
      "id": "cb9b173f",
      "metadata": {
        "id": "cb9b173f",
        "outputId": "33177393-a5de-4fd9-aad1-390ba7786438"
      },
      "outputs": [
        {
          "data": {
            "text/plain": [
              "a    10\n",
              "b    20\n",
              "c    30\n",
              "dtype: int64"
            ]
          },
          "execution_count": 23,
          "metadata": {},
          "output_type": "execute_result"
        }
      ],
      "source": [
        "data = [10, 20, 30]\n",
        "index = ['a', 'b', 'c']\n",
        "pd.Series(data, index=index)"
      ]
    },
    {
      "cell_type": "code",
      "execution_count": null,
      "id": "3925de7c",
      "metadata": {
        "id": "3925de7c",
        "outputId": "24f39461-fa64-4653-ba18-34e7aa33e31a"
      },
      "outputs": [
        {
          "name": "stdout",
          "output_type": "stream",
          "text": [
            "       Name  Age      City\n",
            "0  Mathujan   25    London\n",
            "1      John   30  New York\n",
            "2      Jack   45   Florida\n",
            "<class 'pandas.core.frame.DataFrame'>\n"
          ]
        }
      ],
      "source": [
        "## Dataframe\n",
        "## Create a Dataframe from a dictionary of list\n",
        "\n",
        "data = {\n",
        "    'Name': ['Mathujan', 'John', 'Jack'],\n",
        "    'Age': [25, 30, 45],\n",
        "    'City': ['London', 'New York', 'Florida']\n",
        "}\n",
        "df = pd.DataFrame(data)\n",
        "print(df)\n",
        "print(type(df))"
      ]
    },
    {
      "cell_type": "code",
      "execution_count": null,
      "id": "2764a752",
      "metadata": {
        "id": "2764a752",
        "outputId": "88554b8e-66da-47f3-b112-46b72aed8018"
      },
      "outputs": [
        {
          "name": "stdout",
          "output_type": "stream",
          "text": [
            "       Name  Age        City\n",
            "0  Mathujan   12      London\n",
            "1      John   34    New York\n",
            "2      Mike   32  Birmingham\n",
            "3      Jack   32     Florida\n",
            "<class 'pandas.core.frame.DataFrame'>\n"
          ]
        }
      ],
      "source": [
        "## Create a Data frame from a list of dictionaries\n",
        "\n",
        "data = [\n",
        "    {'Name':'Mathujan','Age':12,'City':'London'},\n",
        "    {'Name':'John','Age':34,'City':'New York'},\n",
        "    {'Name':'Mike','Age':32,'City':'Birmingham'},\n",
        "    {'Name':'Jack','Age':32,'City':'Florida'}\n",
        "\n",
        "]\n",
        "df = pd.DataFrame(data)\n",
        "print(df)\n",
        "print(type(df))"
      ]
    },
    {
      "cell_type": "code",
      "execution_count": null,
      "id": "b353f539",
      "metadata": {
        "id": "b353f539",
        "outputId": "e5537da0-c86d-483e-a034-68f7de43b1dc"
      },
      "outputs": [
        {
          "data": {
            "text/html": [
              "<div>\n",
              "<style scoped>\n",
              "    .dataframe tbody tr th:only-of-type {\n",
              "        vertical-align: middle;\n",
              "    }\n",
              "\n",
              "    .dataframe tbody tr th {\n",
              "        vertical-align: top;\n",
              "    }\n",
              "\n",
              "    .dataframe thead th {\n",
              "        text-align: right;\n",
              "    }\n",
              "</style>\n",
              "<table border=\"1\" class=\"dataframe\">\n",
              "  <thead>\n",
              "    <tr style=\"text-align: right;\">\n",
              "      <th></th>\n",
              "      <th>Name</th>\n",
              "      <th>Age</th>\n",
              "      <th>City</th>\n",
              "    </tr>\n",
              "  </thead>\n",
              "  <tbody>\n",
              "    <tr>\n",
              "      <th>0</th>\n",
              "      <td>Mathujan</td>\n",
              "      <td>12</td>\n",
              "      <td>London</td>\n",
              "    </tr>\n",
              "    <tr>\n",
              "      <th>1</th>\n",
              "      <td>John</td>\n",
              "      <td>34</td>\n",
              "      <td>New York</td>\n",
              "    </tr>\n",
              "    <tr>\n",
              "      <th>2</th>\n",
              "      <td>Mike</td>\n",
              "      <td>32</td>\n",
              "      <td>Birmingham</td>\n",
              "    </tr>\n",
              "    <tr>\n",
              "      <th>3</th>\n",
              "      <td>Jack</td>\n",
              "      <td>32</td>\n",
              "      <td>Florida</td>\n",
              "    </tr>\n",
              "  </tbody>\n",
              "</table>\n",
              "</div>"
            ],
            "text/plain": [
              "       Name  Age        City\n",
              "0  Mathujan   12      London\n",
              "1      John   34    New York\n",
              "2      Mike   32  Birmingham\n",
              "3      Jack   32     Florida"
            ]
          },
          "execution_count": 26,
          "metadata": {},
          "output_type": "execute_result"
        }
      ],
      "source": [
        "## Accessing Data From Dataframe\n",
        "df"
      ]
    },
    {
      "cell_type": "code",
      "execution_count": null,
      "id": "ed92f757",
      "metadata": {
        "id": "ed92f757",
        "outputId": "ce6b547c-254f-4fe2-98dd-d38426075c13"
      },
      "outputs": [
        {
          "data": {
            "text/plain": [
              "0    Mathujan\n",
              "1        John\n",
              "2        Mike\n",
              "3        Jack\n",
              "Name: Name, dtype: object"
            ]
          },
          "execution_count": 27,
          "metadata": {},
          "output_type": "execute_result"
        }
      ],
      "source": [
        "df['Name']"
      ]
    },
    {
      "cell_type": "code",
      "execution_count": null,
      "id": "241b25de",
      "metadata": {
        "id": "241b25de"
      },
      "outputs": [],
      "source": [
        "## Use .loc when you know the labels (names) of the rows/columns.\n",
        "## Use .iloc when you know the integer positions of the rows/columns."
      ]
    },
    {
      "cell_type": "code",
      "execution_count": null,
      "id": "d2a1eb81",
      "metadata": {
        "id": "d2a1eb81",
        "outputId": "02a8a8e1-74f6-443d-c325-e13c75e002d5"
      },
      "outputs": [
        {
          "data": {
            "text/plain": [
              "Name    Mathujan\n",
              "Age           12\n",
              "City      London\n",
              "Name: 0, dtype: object"
            ]
          },
          "execution_count": 33,
          "metadata": {},
          "output_type": "execute_result"
        }
      ],
      "source": [
        "df.loc[0]"
      ]
    },
    {
      "cell_type": "code",
      "execution_count": null,
      "id": "8ac1de85",
      "metadata": {
        "id": "8ac1de85",
        "outputId": "8464adc4-706d-4c9b-bd90-5c60d1df8f24"
      },
      "outputs": [
        {
          "data": {
            "text/plain": [
              "Name    Mathujan\n",
              "Age           12\n",
              "City      London\n",
              "Name: 0, dtype: object"
            ]
          },
          "execution_count": 29,
          "metadata": {},
          "output_type": "execute_result"
        }
      ],
      "source": [
        "df.iloc[0]"
      ]
    },
    {
      "cell_type": "code",
      "execution_count": null,
      "id": "8202c297",
      "metadata": {
        "id": "8202c297",
        "outputId": "d9808bb8-16e6-4c8e-c539-7bdc2285e4e1"
      },
      "outputs": [
        {
          "data": {
            "text/plain": [
              "32"
            ]
          },
          "execution_count": 35,
          "metadata": {},
          "output_type": "execute_result"
        }
      ],
      "source": [
        "## Accessing a specified element\n",
        "df.at[2, 'Age']"
      ]
    },
    {
      "cell_type": "code",
      "execution_count": null,
      "id": "e0cd1b9b",
      "metadata": {
        "id": "e0cd1b9b",
        "outputId": "23caf5ca-8fef-4a5a-c0d0-ade6c147638e"
      },
      "outputs": [
        {
          "data": {
            "text/plain": [
              "'Jack'"
            ]
          },
          "execution_count": 37,
          "metadata": {},
          "output_type": "execute_result"
        }
      ],
      "source": [
        "df.at[3, 'Name']"
      ]
    },
    {
      "cell_type": "code",
      "execution_count": null,
      "id": "01dc3858",
      "metadata": {
        "id": "01dc3858",
        "outputId": "2f148483-d554-405b-cdcc-b8459861c90d"
      },
      "outputs": [
        {
          "data": {
            "text/plain": [
              "'Birmingham'"
            ]
          },
          "execution_count": 38,
          "metadata": {},
          "output_type": "execute_result"
        }
      ],
      "source": [
        "## Accessing a specified element using iat\n",
        "df.iat[2, 2]"
      ]
    },
    {
      "cell_type": "code",
      "execution_count": null,
      "id": "e40cd665",
      "metadata": {
        "id": "e40cd665",
        "outputId": "9b354dc3-7129-4b2a-e24c-f91cef58366a"
      },
      "outputs": [
        {
          "data": {
            "text/html": [
              "<div>\n",
              "<style scoped>\n",
              "    .dataframe tbody tr th:only-of-type {\n",
              "        vertical-align: middle;\n",
              "    }\n",
              "\n",
              "    .dataframe tbody tr th {\n",
              "        vertical-align: top;\n",
              "    }\n",
              "\n",
              "    .dataframe thead th {\n",
              "        text-align: right;\n",
              "    }\n",
              "</style>\n",
              "<table border=\"1\" class=\"dataframe\">\n",
              "  <thead>\n",
              "    <tr style=\"text-align: right;\">\n",
              "      <th></th>\n",
              "      <th>Name</th>\n",
              "      <th>Age</th>\n",
              "      <th>City</th>\n",
              "    </tr>\n",
              "  </thead>\n",
              "  <tbody>\n",
              "    <tr>\n",
              "      <th>0</th>\n",
              "      <td>Mathujan</td>\n",
              "      <td>12</td>\n",
              "      <td>London</td>\n",
              "    </tr>\n",
              "    <tr>\n",
              "      <th>1</th>\n",
              "      <td>John</td>\n",
              "      <td>34</td>\n",
              "      <td>New York</td>\n",
              "    </tr>\n",
              "    <tr>\n",
              "      <th>2</th>\n",
              "      <td>Mike</td>\n",
              "      <td>32</td>\n",
              "      <td>Birmingham</td>\n",
              "    </tr>\n",
              "    <tr>\n",
              "      <th>3</th>\n",
              "      <td>Jack</td>\n",
              "      <td>32</td>\n",
              "      <td>Florida</td>\n",
              "    </tr>\n",
              "  </tbody>\n",
              "</table>\n",
              "</div>"
            ],
            "text/plain": [
              "       Name  Age        City\n",
              "0  Mathujan   12      London\n",
              "1      John   34    New York\n",
              "2      Mike   32  Birmingham\n",
              "3      Jack   32     Florida"
            ]
          },
          "execution_count": 39,
          "metadata": {},
          "output_type": "execute_result"
        }
      ],
      "source": [
        "## Data Manipulation with Dataframe\n",
        "df"
      ]
    },
    {
      "cell_type": "code",
      "execution_count": null,
      "id": "6a9cdb88",
      "metadata": {
        "id": "6a9cdb88",
        "outputId": "5f70b3e1-cc59-462d-dafe-0538b996b452"
      },
      "outputs": [
        {
          "data": {
            "text/html": [
              "<div>\n",
              "<style scoped>\n",
              "    .dataframe tbody tr th:only-of-type {\n",
              "        vertical-align: middle;\n",
              "    }\n",
              "\n",
              "    .dataframe tbody tr th {\n",
              "        vertical-align: top;\n",
              "    }\n",
              "\n",
              "    .dataframe thead th {\n",
              "        text-align: right;\n",
              "    }\n",
              "</style>\n",
              "<table border=\"1\" class=\"dataframe\">\n",
              "  <thead>\n",
              "    <tr style=\"text-align: right;\">\n",
              "      <th></th>\n",
              "      <th>Name</th>\n",
              "      <th>Age</th>\n",
              "      <th>City</th>\n",
              "      <th>Salary</th>\n",
              "    </tr>\n",
              "  </thead>\n",
              "  <tbody>\n",
              "    <tr>\n",
              "      <th>0</th>\n",
              "      <td>Mathujan</td>\n",
              "      <td>12</td>\n",
              "      <td>London</td>\n",
              "      <td>90000</td>\n",
              "    </tr>\n",
              "    <tr>\n",
              "      <th>1</th>\n",
              "      <td>John</td>\n",
              "      <td>34</td>\n",
              "      <td>New York</td>\n",
              "      <td>80000</td>\n",
              "    </tr>\n",
              "    <tr>\n",
              "      <th>2</th>\n",
              "      <td>Mike</td>\n",
              "      <td>32</td>\n",
              "      <td>Birmingham</td>\n",
              "      <td>70000</td>\n",
              "    </tr>\n",
              "    <tr>\n",
              "      <th>3</th>\n",
              "      <td>Jack</td>\n",
              "      <td>32</td>\n",
              "      <td>Florida</td>\n",
              "      <td>60000</td>\n",
              "    </tr>\n",
              "  </tbody>\n",
              "</table>\n",
              "</div>"
            ],
            "text/plain": [
              "       Name  Age        City  Salary\n",
              "0  Mathujan   12      London   90000\n",
              "1      John   34    New York   80000\n",
              "2      Mike   32  Birmingham   70000\n",
              "3      Jack   32     Florida   60000"
            ]
          },
          "execution_count": 40,
          "metadata": {},
          "output_type": "execute_result"
        }
      ],
      "source": [
        "## Adding a column\n",
        "df['Salary'] = [90000, 80000, 70000, 60000]\n",
        "df"
      ]
    },
    {
      "cell_type": "code",
      "execution_count": null,
      "id": "2c53bfc2",
      "metadata": {
        "id": "2c53bfc2",
        "outputId": "83f9a8ea-865b-4161-dcb7-b50fa85cac43"
      },
      "outputs": [
        {
          "data": {
            "text/html": [
              "<div>\n",
              "<style scoped>\n",
              "    .dataframe tbody tr th:only-of-type {\n",
              "        vertical-align: middle;\n",
              "    }\n",
              "\n",
              "    .dataframe tbody tr th {\n",
              "        vertical-align: top;\n",
              "    }\n",
              "\n",
              "    .dataframe thead th {\n",
              "        text-align: right;\n",
              "    }\n",
              "</style>\n",
              "<table border=\"1\" class=\"dataframe\">\n",
              "  <thead>\n",
              "    <tr style=\"text-align: right;\">\n",
              "      <th></th>\n",
              "      <th>Name</th>\n",
              "      <th>Age</th>\n",
              "      <th>City</th>\n",
              "    </tr>\n",
              "  </thead>\n",
              "  <tbody>\n",
              "    <tr>\n",
              "      <th>0</th>\n",
              "      <td>Mathujan</td>\n",
              "      <td>12</td>\n",
              "      <td>London</td>\n",
              "    </tr>\n",
              "    <tr>\n",
              "      <th>1</th>\n",
              "      <td>John</td>\n",
              "      <td>34</td>\n",
              "      <td>New York</td>\n",
              "    </tr>\n",
              "    <tr>\n",
              "      <th>2</th>\n",
              "      <td>Mike</td>\n",
              "      <td>32</td>\n",
              "      <td>Birmingham</td>\n",
              "    </tr>\n",
              "    <tr>\n",
              "      <th>3</th>\n",
              "      <td>Jack</td>\n",
              "      <td>32</td>\n",
              "      <td>Florida</td>\n",
              "    </tr>\n",
              "  </tbody>\n",
              "</table>\n",
              "</div>"
            ],
            "text/plain": [
              "       Name  Age        City\n",
              "0  Mathujan   12      London\n",
              "1      John   34    New York\n",
              "2      Mike   32  Birmingham\n",
              "3      Jack   32     Florida"
            ]
          },
          "execution_count": 41,
          "metadata": {},
          "output_type": "execute_result"
        }
      ],
      "source": [
        "## Remove a column\n",
        "df.drop('Salary', axis=1, inplace=True)\n",
        "df"
      ]
    },
    {
      "cell_type": "code",
      "execution_count": null,
      "id": "6b98636e",
      "metadata": {
        "id": "6b98636e",
        "outputId": "71b1dc87-853c-4241-a165-89b8e6232744"
      },
      "outputs": [
        {
          "data": {
            "text/html": [
              "<div>\n",
              "<style scoped>\n",
              "    .dataframe tbody tr th:only-of-type {\n",
              "        vertical-align: middle;\n",
              "    }\n",
              "\n",
              "    .dataframe tbody tr th {\n",
              "        vertical-align: top;\n",
              "    }\n",
              "\n",
              "    .dataframe thead th {\n",
              "        text-align: right;\n",
              "    }\n",
              "</style>\n",
              "<table border=\"1\" class=\"dataframe\">\n",
              "  <thead>\n",
              "    <tr style=\"text-align: right;\">\n",
              "      <th></th>\n",
              "      <th>Name</th>\n",
              "      <th>Age</th>\n",
              "      <th>City</th>\n",
              "    </tr>\n",
              "  </thead>\n",
              "  <tbody>\n",
              "    <tr>\n",
              "      <th>0</th>\n",
              "      <td>Mathujan</td>\n",
              "      <td>14</td>\n",
              "      <td>London</td>\n",
              "    </tr>\n",
              "    <tr>\n",
              "      <th>1</th>\n",
              "      <td>John</td>\n",
              "      <td>36</td>\n",
              "      <td>New York</td>\n",
              "    </tr>\n",
              "    <tr>\n",
              "      <th>2</th>\n",
              "      <td>Mike</td>\n",
              "      <td>34</td>\n",
              "      <td>Birmingham</td>\n",
              "    </tr>\n",
              "    <tr>\n",
              "      <th>3</th>\n",
              "      <td>Jack</td>\n",
              "      <td>34</td>\n",
              "      <td>Florida</td>\n",
              "    </tr>\n",
              "  </tbody>\n",
              "</table>\n",
              "</div>"
            ],
            "text/plain": [
              "       Name  Age        City\n",
              "0  Mathujan   14      London\n",
              "1      John   36    New York\n",
              "2      Mike   34  Birmingham\n",
              "3      Jack   34     Florida"
            ]
          },
          "execution_count": 42,
          "metadata": {},
          "output_type": "execute_result"
        }
      ],
      "source": [
        "## Add age to the column\n",
        "df['Age'] = df['Age'] + 2\n",
        "df"
      ]
    },
    {
      "cell_type": "code",
      "execution_count": null,
      "id": "e6fc9a3b",
      "metadata": {
        "id": "e6fc9a3b",
        "outputId": "3e7d83b7-8d05-4ffd-d4bf-72259a94eea5"
      },
      "outputs": [
        {
          "data": {
            "text/html": [
              "<div>\n",
              "<style scoped>\n",
              "    .dataframe tbody tr th:only-of-type {\n",
              "        vertical-align: middle;\n",
              "    }\n",
              "\n",
              "    .dataframe tbody tr th {\n",
              "        vertical-align: top;\n",
              "    }\n",
              "\n",
              "    .dataframe thead th {\n",
              "        text-align: right;\n",
              "    }\n",
              "</style>\n",
              "<table border=\"1\" class=\"dataframe\">\n",
              "  <thead>\n",
              "    <tr style=\"text-align: right;\">\n",
              "      <th></th>\n",
              "      <th>Name</th>\n",
              "      <th>Age</th>\n",
              "      <th>City</th>\n",
              "    </tr>\n",
              "  </thead>\n",
              "  <tbody>\n",
              "    <tr>\n",
              "      <th>0</th>\n",
              "      <td>Mathujan</td>\n",
              "      <td>14</td>\n",
              "      <td>London</td>\n",
              "    </tr>\n",
              "    <tr>\n",
              "      <th>2</th>\n",
              "      <td>Mike</td>\n",
              "      <td>34</td>\n",
              "      <td>Birmingham</td>\n",
              "    </tr>\n",
              "    <tr>\n",
              "      <th>3</th>\n",
              "      <td>Jack</td>\n",
              "      <td>34</td>\n",
              "      <td>Florida</td>\n",
              "    </tr>\n",
              "  </tbody>\n",
              "</table>\n",
              "</div>"
            ],
            "text/plain": [
              "       Name  Age        City\n",
              "0  Mathujan   14      London\n",
              "2      Mike   34  Birmingham\n",
              "3      Jack   34     Florida"
            ]
          },
          "execution_count": 43,
          "metadata": {},
          "output_type": "execute_result"
        }
      ],
      "source": [
        "df.drop(1, inplace=True)\n",
        "df"
      ]
    },
    {
      "cell_type": "markdown",
      "id": "12ef761f",
      "metadata": {
        "id": "12ef761f"
      },
      "source": [
        "## Data Manipulation and Analysis with Pandas"
      ]
    },
    {
      "cell_type": "code",
      "execution_count": null,
      "id": "6bbcf699",
      "metadata": {
        "id": "6bbcf699",
        "outputId": "2bfe99e9-ffe4-4ebd-e8c2-89f49a73c416"
      },
      "outputs": [
        {
          "data": {
            "text/html": [
              "<div>\n",
              "<style scoped>\n",
              "    .dataframe tbody tr th:only-of-type {\n",
              "        vertical-align: middle;\n",
              "    }\n",
              "\n",
              "    .dataframe tbody tr th {\n",
              "        vertical-align: top;\n",
              "    }\n",
              "\n",
              "    .dataframe thead th {\n",
              "        text-align: right;\n",
              "    }\n",
              "</style>\n",
              "<table border=\"1\" class=\"dataframe\">\n",
              "  <thead>\n",
              "    <tr style=\"text-align: right;\">\n",
              "      <th></th>\n",
              "      <th>Date</th>\n",
              "      <th>Category</th>\n",
              "      <th>Value</th>\n",
              "      <th>Product</th>\n",
              "      <th>Sales</th>\n",
              "      <th>Region</th>\n",
              "    </tr>\n",
              "  </thead>\n",
              "  <tbody>\n",
              "    <tr>\n",
              "      <th>0</th>\n",
              "      <td>2023-01-01</td>\n",
              "      <td>A</td>\n",
              "      <td>28.0</td>\n",
              "      <td>Product1</td>\n",
              "      <td>754.0</td>\n",
              "      <td>East</td>\n",
              "    </tr>\n",
              "    <tr>\n",
              "      <th>1</th>\n",
              "      <td>2023-01-02</td>\n",
              "      <td>B</td>\n",
              "      <td>39.0</td>\n",
              "      <td>Product3</td>\n",
              "      <td>110.0</td>\n",
              "      <td>North</td>\n",
              "    </tr>\n",
              "    <tr>\n",
              "      <th>2</th>\n",
              "      <td>2023-01-03</td>\n",
              "      <td>C</td>\n",
              "      <td>32.0</td>\n",
              "      <td>Product2</td>\n",
              "      <td>398.0</td>\n",
              "      <td>East</td>\n",
              "    </tr>\n",
              "    <tr>\n",
              "      <th>3</th>\n",
              "      <td>2023-01-04</td>\n",
              "      <td>B</td>\n",
              "      <td>8.0</td>\n",
              "      <td>Product1</td>\n",
              "      <td>522.0</td>\n",
              "      <td>East</td>\n",
              "    </tr>\n",
              "    <tr>\n",
              "      <th>4</th>\n",
              "      <td>2023-01-05</td>\n",
              "      <td>B</td>\n",
              "      <td>26.0</td>\n",
              "      <td>Product3</td>\n",
              "      <td>869.0</td>\n",
              "      <td>North</td>\n",
              "    </tr>\n",
              "  </tbody>\n",
              "</table>\n",
              "</div>"
            ],
            "text/plain": [
              "         Date Category  Value   Product  Sales Region\n",
              "0  2023-01-01        A   28.0  Product1  754.0   East\n",
              "1  2023-01-02        B   39.0  Product3  110.0  North\n",
              "2  2023-01-03        C   32.0  Product2  398.0   East\n",
              "3  2023-01-04        B    8.0  Product1  522.0   East\n",
              "4  2023-01-05        B   26.0  Product3  869.0  North"
            ]
          },
          "execution_count": 5,
          "metadata": {},
          "output_type": "execute_result"
        }
      ],
      "source": [
        "df = pd.read_csv('data.csv')\n",
        "\n",
        "## Fecth the first 5 rows\n",
        "df.head(5)"
      ]
    },
    {
      "cell_type": "code",
      "execution_count": null,
      "id": "95fa4231",
      "metadata": {
        "id": "95fa4231",
        "outputId": "9c7dda51-d1ec-44d5-9d5a-57ef5d3ef0d2"
      },
      "outputs": [
        {
          "data": {
            "text/html": [
              "<div>\n",
              "<style scoped>\n",
              "    .dataframe tbody tr th:only-of-type {\n",
              "        vertical-align: middle;\n",
              "    }\n",
              "\n",
              "    .dataframe tbody tr th {\n",
              "        vertical-align: top;\n",
              "    }\n",
              "\n",
              "    .dataframe thead th {\n",
              "        text-align: right;\n",
              "    }\n",
              "</style>\n",
              "<table border=\"1\" class=\"dataframe\">\n",
              "  <thead>\n",
              "    <tr style=\"text-align: right;\">\n",
              "      <th></th>\n",
              "      <th>Date</th>\n",
              "      <th>Category</th>\n",
              "      <th>Value</th>\n",
              "      <th>Product</th>\n",
              "      <th>Sales</th>\n",
              "      <th>Region</th>\n",
              "    </tr>\n",
              "  </thead>\n",
              "  <tbody>\n",
              "    <tr>\n",
              "      <th>45</th>\n",
              "      <td>2023-02-15</td>\n",
              "      <td>B</td>\n",
              "      <td>99.0</td>\n",
              "      <td>Product2</td>\n",
              "      <td>599.0</td>\n",
              "      <td>West</td>\n",
              "    </tr>\n",
              "    <tr>\n",
              "      <th>46</th>\n",
              "      <td>2023-02-16</td>\n",
              "      <td>B</td>\n",
              "      <td>6.0</td>\n",
              "      <td>Product1</td>\n",
              "      <td>938.0</td>\n",
              "      <td>South</td>\n",
              "    </tr>\n",
              "    <tr>\n",
              "      <th>47</th>\n",
              "      <td>2023-02-17</td>\n",
              "      <td>B</td>\n",
              "      <td>69.0</td>\n",
              "      <td>Product3</td>\n",
              "      <td>143.0</td>\n",
              "      <td>West</td>\n",
              "    </tr>\n",
              "    <tr>\n",
              "      <th>48</th>\n",
              "      <td>2023-02-18</td>\n",
              "      <td>C</td>\n",
              "      <td>65.0</td>\n",
              "      <td>Product3</td>\n",
              "      <td>182.0</td>\n",
              "      <td>North</td>\n",
              "    </tr>\n",
              "    <tr>\n",
              "      <th>49</th>\n",
              "      <td>2023-02-19</td>\n",
              "      <td>C</td>\n",
              "      <td>11.0</td>\n",
              "      <td>Product3</td>\n",
              "      <td>708.0</td>\n",
              "      <td>North</td>\n",
              "    </tr>\n",
              "  </tbody>\n",
              "</table>\n",
              "</div>"
            ],
            "text/plain": [
              "          Date Category  Value   Product  Sales Region\n",
              "45  2023-02-15        B   99.0  Product2  599.0   West\n",
              "46  2023-02-16        B    6.0  Product1  938.0  South\n",
              "47  2023-02-17        B   69.0  Product3  143.0   West\n",
              "48  2023-02-18        C   65.0  Product3  182.0  North\n",
              "49  2023-02-19        C   11.0  Product3  708.0  North"
            ]
          },
          "execution_count": 6,
          "metadata": {},
          "output_type": "execute_result"
        }
      ],
      "source": [
        "df.tail(5)"
      ]
    },
    {
      "cell_type": "code",
      "execution_count": null,
      "id": "9bd2ddea",
      "metadata": {
        "id": "9bd2ddea",
        "outputId": "614a4b8d-08ce-4024-c2e3-1dc0905de5f1"
      },
      "outputs": [
        {
          "data": {
            "text/html": [
              "<div>\n",
              "<style scoped>\n",
              "    .dataframe tbody tr th:only-of-type {\n",
              "        vertical-align: middle;\n",
              "    }\n",
              "\n",
              "    .dataframe tbody tr th {\n",
              "        vertical-align: top;\n",
              "    }\n",
              "\n",
              "    .dataframe thead th {\n",
              "        text-align: right;\n",
              "    }\n",
              "</style>\n",
              "<table border=\"1\" class=\"dataframe\">\n",
              "  <thead>\n",
              "    <tr style=\"text-align: right;\">\n",
              "      <th></th>\n",
              "      <th>Value</th>\n",
              "      <th>Sales</th>\n",
              "    </tr>\n",
              "  </thead>\n",
              "  <tbody>\n",
              "    <tr>\n",
              "      <th>count</th>\n",
              "      <td>47.000000</td>\n",
              "      <td>46.000000</td>\n",
              "    </tr>\n",
              "    <tr>\n",
              "      <th>mean</th>\n",
              "      <td>51.744681</td>\n",
              "      <td>557.130435</td>\n",
              "    </tr>\n",
              "    <tr>\n",
              "      <th>std</th>\n",
              "      <td>29.050532</td>\n",
              "      <td>274.598584</td>\n",
              "    </tr>\n",
              "    <tr>\n",
              "      <th>min</th>\n",
              "      <td>2.000000</td>\n",
              "      <td>108.000000</td>\n",
              "    </tr>\n",
              "    <tr>\n",
              "      <th>25%</th>\n",
              "      <td>27.500000</td>\n",
              "      <td>339.000000</td>\n",
              "    </tr>\n",
              "    <tr>\n",
              "      <th>50%</th>\n",
              "      <td>54.000000</td>\n",
              "      <td>591.500000</td>\n",
              "    </tr>\n",
              "    <tr>\n",
              "      <th>75%</th>\n",
              "      <td>70.000000</td>\n",
              "      <td>767.500000</td>\n",
              "    </tr>\n",
              "    <tr>\n",
              "      <th>max</th>\n",
              "      <td>99.000000</td>\n",
              "      <td>992.000000</td>\n",
              "    </tr>\n",
              "  </tbody>\n",
              "</table>\n",
              "</div>"
            ],
            "text/plain": [
              "           Value       Sales\n",
              "count  47.000000   46.000000\n",
              "mean   51.744681  557.130435\n",
              "std    29.050532  274.598584\n",
              "min     2.000000  108.000000\n",
              "25%    27.500000  339.000000\n",
              "50%    54.000000  591.500000\n",
              "75%    70.000000  767.500000\n",
              "max    99.000000  992.000000"
            ]
          },
          "execution_count": 7,
          "metadata": {},
          "output_type": "execute_result"
        }
      ],
      "source": [
        "df.describe()"
      ]
    },
    {
      "cell_type": "code",
      "execution_count": null,
      "id": "7360e4b3",
      "metadata": {
        "id": "7360e4b3",
        "outputId": "7d5217e8-e739-413e-bf69-4f6144231391"
      },
      "outputs": [
        {
          "data": {
            "text/plain": [
              "Date         object\n",
              "Category     object\n",
              "Value       float64\n",
              "Product      object\n",
              "Sales       float64\n",
              "Region       object\n",
              "dtype: object"
            ]
          },
          "execution_count": 8,
          "metadata": {},
          "output_type": "execute_result"
        }
      ],
      "source": [
        "df.dtypes"
      ]
    },
    {
      "cell_type": "code",
      "execution_count": null,
      "id": "7e697eaf",
      "metadata": {
        "id": "7e697eaf",
        "outputId": "5fe9ad0e-f1b3-419a-c8af-a32982a80321"
      },
      "outputs": [
        {
          "data": {
            "text/plain": [
              "Date        False\n",
              "Category    False\n",
              "Value        True\n",
              "Product     False\n",
              "Sales        True\n",
              "Region      False\n",
              "dtype: bool"
            ]
          },
          "execution_count": 9,
          "metadata": {},
          "output_type": "execute_result"
        }
      ],
      "source": [
        "## Handling Missing Values\n",
        "df.isnull().any()"
      ]
    },
    {
      "cell_type": "code",
      "execution_count": null,
      "id": "e18d6675",
      "metadata": {
        "id": "e18d6675",
        "outputId": "dd6f1f61-0184-487e-9f17-56c3f6b05f3b"
      },
      "outputs": [
        {
          "data": {
            "text/plain": [
              "Date        0\n",
              "Category    0\n",
              "Value       3\n",
              "Product     0\n",
              "Sales       4\n",
              "Region      0\n",
              "dtype: int64"
            ]
          },
          "execution_count": 10,
          "metadata": {},
          "output_type": "execute_result"
        }
      ],
      "source": [
        "df.isnull().sum()"
      ]
    },
    {
      "cell_type": "code",
      "execution_count": null,
      "id": "01ff64e5",
      "metadata": {
        "id": "01ff64e5",
        "outputId": "8047fa03-5179-4e28-a637-b5795239c35b"
      },
      "outputs": [
        {
          "data": {
            "text/html": [
              "<div>\n",
              "<style scoped>\n",
              "    .dataframe tbody tr th:only-of-type {\n",
              "        vertical-align: middle;\n",
              "    }\n",
              "\n",
              "    .dataframe tbody tr th {\n",
              "        vertical-align: top;\n",
              "    }\n",
              "\n",
              "    .dataframe thead th {\n",
              "        text-align: right;\n",
              "    }\n",
              "</style>\n",
              "<table border=\"1\" class=\"dataframe\">\n",
              "  <thead>\n",
              "    <tr style=\"text-align: right;\">\n",
              "      <th></th>\n",
              "      <th>Date</th>\n",
              "      <th>Category</th>\n",
              "      <th>Value</th>\n",
              "      <th>Product</th>\n",
              "      <th>Sales</th>\n",
              "      <th>Region</th>\n",
              "      <th>Sales_fillNA</th>\n",
              "    </tr>\n",
              "  </thead>\n",
              "  <tbody>\n",
              "    <tr>\n",
              "      <th>0</th>\n",
              "      <td>2023-01-01</td>\n",
              "      <td>A</td>\n",
              "      <td>28.0</td>\n",
              "      <td>Product1</td>\n",
              "      <td>754.0</td>\n",
              "      <td>East</td>\n",
              "      <td>754.000000</td>\n",
              "    </tr>\n",
              "    <tr>\n",
              "      <th>1</th>\n",
              "      <td>2023-01-02</td>\n",
              "      <td>B</td>\n",
              "      <td>39.0</td>\n",
              "      <td>Product3</td>\n",
              "      <td>110.0</td>\n",
              "      <td>North</td>\n",
              "      <td>110.000000</td>\n",
              "    </tr>\n",
              "    <tr>\n",
              "      <th>2</th>\n",
              "      <td>2023-01-03</td>\n",
              "      <td>C</td>\n",
              "      <td>32.0</td>\n",
              "      <td>Product2</td>\n",
              "      <td>398.0</td>\n",
              "      <td>East</td>\n",
              "      <td>398.000000</td>\n",
              "    </tr>\n",
              "    <tr>\n",
              "      <th>3</th>\n",
              "      <td>2023-01-04</td>\n",
              "      <td>B</td>\n",
              "      <td>8.0</td>\n",
              "      <td>Product1</td>\n",
              "      <td>522.0</td>\n",
              "      <td>East</td>\n",
              "      <td>522.000000</td>\n",
              "    </tr>\n",
              "    <tr>\n",
              "      <th>4</th>\n",
              "      <td>2023-01-05</td>\n",
              "      <td>B</td>\n",
              "      <td>26.0</td>\n",
              "      <td>Product3</td>\n",
              "      <td>869.0</td>\n",
              "      <td>North</td>\n",
              "      <td>869.000000</td>\n",
              "    </tr>\n",
              "    <tr>\n",
              "      <th>5</th>\n",
              "      <td>2023-01-06</td>\n",
              "      <td>B</td>\n",
              "      <td>54.0</td>\n",
              "      <td>Product3</td>\n",
              "      <td>192.0</td>\n",
              "      <td>West</td>\n",
              "      <td>192.000000</td>\n",
              "    </tr>\n",
              "    <tr>\n",
              "      <th>6</th>\n",
              "      <td>2023-01-07</td>\n",
              "      <td>A</td>\n",
              "      <td>16.0</td>\n",
              "      <td>Product1</td>\n",
              "      <td>936.0</td>\n",
              "      <td>East</td>\n",
              "      <td>936.000000</td>\n",
              "    </tr>\n",
              "    <tr>\n",
              "      <th>7</th>\n",
              "      <td>2023-01-08</td>\n",
              "      <td>C</td>\n",
              "      <td>89.0</td>\n",
              "      <td>Product1</td>\n",
              "      <td>488.0</td>\n",
              "      <td>West</td>\n",
              "      <td>488.000000</td>\n",
              "    </tr>\n",
              "    <tr>\n",
              "      <th>8</th>\n",
              "      <td>2023-01-09</td>\n",
              "      <td>C</td>\n",
              "      <td>37.0</td>\n",
              "      <td>Product3</td>\n",
              "      <td>772.0</td>\n",
              "      <td>West</td>\n",
              "      <td>772.000000</td>\n",
              "    </tr>\n",
              "    <tr>\n",
              "      <th>9</th>\n",
              "      <td>2023-01-10</td>\n",
              "      <td>A</td>\n",
              "      <td>22.0</td>\n",
              "      <td>Product2</td>\n",
              "      <td>834.0</td>\n",
              "      <td>West</td>\n",
              "      <td>834.000000</td>\n",
              "    </tr>\n",
              "    <tr>\n",
              "      <th>10</th>\n",
              "      <td>2023-01-11</td>\n",
              "      <td>B</td>\n",
              "      <td>7.0</td>\n",
              "      <td>Product1</td>\n",
              "      <td>842.0</td>\n",
              "      <td>North</td>\n",
              "      <td>842.000000</td>\n",
              "    </tr>\n",
              "    <tr>\n",
              "      <th>11</th>\n",
              "      <td>2023-01-12</td>\n",
              "      <td>B</td>\n",
              "      <td>60.0</td>\n",
              "      <td>Product2</td>\n",
              "      <td>NaN</td>\n",
              "      <td>West</td>\n",
              "      <td>557.130435</td>\n",
              "    </tr>\n",
              "    <tr>\n",
              "      <th>12</th>\n",
              "      <td>2023-01-13</td>\n",
              "      <td>A</td>\n",
              "      <td>70.0</td>\n",
              "      <td>Product3</td>\n",
              "      <td>628.0</td>\n",
              "      <td>South</td>\n",
              "      <td>628.000000</td>\n",
              "    </tr>\n",
              "    <tr>\n",
              "      <th>13</th>\n",
              "      <td>2023-01-14</td>\n",
              "      <td>A</td>\n",
              "      <td>69.0</td>\n",
              "      <td>Product1</td>\n",
              "      <td>423.0</td>\n",
              "      <td>East</td>\n",
              "      <td>423.000000</td>\n",
              "    </tr>\n",
              "    <tr>\n",
              "      <th>14</th>\n",
              "      <td>2023-01-15</td>\n",
              "      <td>A</td>\n",
              "      <td>47.0</td>\n",
              "      <td>Product2</td>\n",
              "      <td>893.0</td>\n",
              "      <td>West</td>\n",
              "      <td>893.000000</td>\n",
              "    </tr>\n",
              "    <tr>\n",
              "      <th>15</th>\n",
              "      <td>2023-01-16</td>\n",
              "      <td>C</td>\n",
              "      <td>NaN</td>\n",
              "      <td>Product1</td>\n",
              "      <td>895.0</td>\n",
              "      <td>North</td>\n",
              "      <td>895.000000</td>\n",
              "    </tr>\n",
              "    <tr>\n",
              "      <th>16</th>\n",
              "      <td>2023-01-17</td>\n",
              "      <td>C</td>\n",
              "      <td>93.0</td>\n",
              "      <td>Product2</td>\n",
              "      <td>511.0</td>\n",
              "      <td>South</td>\n",
              "      <td>511.000000</td>\n",
              "    </tr>\n",
              "    <tr>\n",
              "      <th>17</th>\n",
              "      <td>2023-01-18</td>\n",
              "      <td>C</td>\n",
              "      <td>NaN</td>\n",
              "      <td>Product1</td>\n",
              "      <td>108.0</td>\n",
              "      <td>West</td>\n",
              "      <td>108.000000</td>\n",
              "    </tr>\n",
              "    <tr>\n",
              "      <th>18</th>\n",
              "      <td>2023-01-19</td>\n",
              "      <td>A</td>\n",
              "      <td>31.0</td>\n",
              "      <td>Product2</td>\n",
              "      <td>578.0</td>\n",
              "      <td>West</td>\n",
              "      <td>578.000000</td>\n",
              "    </tr>\n",
              "    <tr>\n",
              "      <th>19</th>\n",
              "      <td>2023-01-20</td>\n",
              "      <td>A</td>\n",
              "      <td>59.0</td>\n",
              "      <td>Product1</td>\n",
              "      <td>736.0</td>\n",
              "      <td>East</td>\n",
              "      <td>736.000000</td>\n",
              "    </tr>\n",
              "    <tr>\n",
              "      <th>20</th>\n",
              "      <td>2023-01-21</td>\n",
              "      <td>C</td>\n",
              "      <td>82.0</td>\n",
              "      <td>Product3</td>\n",
              "      <td>606.0</td>\n",
              "      <td>South</td>\n",
              "      <td>606.000000</td>\n",
              "    </tr>\n",
              "    <tr>\n",
              "      <th>21</th>\n",
              "      <td>2023-01-22</td>\n",
              "      <td>C</td>\n",
              "      <td>37.0</td>\n",
              "      <td>Product2</td>\n",
              "      <td>992.0</td>\n",
              "      <td>South</td>\n",
              "      <td>992.000000</td>\n",
              "    </tr>\n",
              "    <tr>\n",
              "      <th>22</th>\n",
              "      <td>2023-01-23</td>\n",
              "      <td>B</td>\n",
              "      <td>62.0</td>\n",
              "      <td>Product3</td>\n",
              "      <td>942.0</td>\n",
              "      <td>North</td>\n",
              "      <td>942.000000</td>\n",
              "    </tr>\n",
              "    <tr>\n",
              "      <th>23</th>\n",
              "      <td>2023-01-24</td>\n",
              "      <td>C</td>\n",
              "      <td>92.0</td>\n",
              "      <td>Product2</td>\n",
              "      <td>342.0</td>\n",
              "      <td>West</td>\n",
              "      <td>342.000000</td>\n",
              "    </tr>\n",
              "    <tr>\n",
              "      <th>24</th>\n",
              "      <td>2023-01-25</td>\n",
              "      <td>A</td>\n",
              "      <td>24.0</td>\n",
              "      <td>Product2</td>\n",
              "      <td>458.0</td>\n",
              "      <td>East</td>\n",
              "      <td>458.000000</td>\n",
              "    </tr>\n",
              "    <tr>\n",
              "      <th>25</th>\n",
              "      <td>2023-01-26</td>\n",
              "      <td>C</td>\n",
              "      <td>95.0</td>\n",
              "      <td>Product1</td>\n",
              "      <td>584.0</td>\n",
              "      <td>West</td>\n",
              "      <td>584.000000</td>\n",
              "    </tr>\n",
              "    <tr>\n",
              "      <th>26</th>\n",
              "      <td>2023-01-27</td>\n",
              "      <td>C</td>\n",
              "      <td>71.0</td>\n",
              "      <td>Product2</td>\n",
              "      <td>619.0</td>\n",
              "      <td>North</td>\n",
              "      <td>619.000000</td>\n",
              "    </tr>\n",
              "    <tr>\n",
              "      <th>27</th>\n",
              "      <td>2023-01-28</td>\n",
              "      <td>C</td>\n",
              "      <td>56.0</td>\n",
              "      <td>Product2</td>\n",
              "      <td>224.0</td>\n",
              "      <td>North</td>\n",
              "      <td>224.000000</td>\n",
              "    </tr>\n",
              "    <tr>\n",
              "      <th>28</th>\n",
              "      <td>2023-01-29</td>\n",
              "      <td>B</td>\n",
              "      <td>NaN</td>\n",
              "      <td>Product3</td>\n",
              "      <td>617.0</td>\n",
              "      <td>North</td>\n",
              "      <td>617.000000</td>\n",
              "    </tr>\n",
              "    <tr>\n",
              "      <th>29</th>\n",
              "      <td>2023-01-30</td>\n",
              "      <td>C</td>\n",
              "      <td>51.0</td>\n",
              "      <td>Product2</td>\n",
              "      <td>737.0</td>\n",
              "      <td>South</td>\n",
              "      <td>737.000000</td>\n",
              "    </tr>\n",
              "    <tr>\n",
              "      <th>30</th>\n",
              "      <td>2023-01-31</td>\n",
              "      <td>B</td>\n",
              "      <td>50.0</td>\n",
              "      <td>Product3</td>\n",
              "      <td>735.0</td>\n",
              "      <td>West</td>\n",
              "      <td>735.000000</td>\n",
              "    </tr>\n",
              "    <tr>\n",
              "      <th>31</th>\n",
              "      <td>2023-02-01</td>\n",
              "      <td>A</td>\n",
              "      <td>17.0</td>\n",
              "      <td>Product2</td>\n",
              "      <td>189.0</td>\n",
              "      <td>West</td>\n",
              "      <td>189.000000</td>\n",
              "    </tr>\n",
              "    <tr>\n",
              "      <th>32</th>\n",
              "      <td>2023-02-02</td>\n",
              "      <td>B</td>\n",
              "      <td>63.0</td>\n",
              "      <td>Product3</td>\n",
              "      <td>338.0</td>\n",
              "      <td>South</td>\n",
              "      <td>338.000000</td>\n",
              "    </tr>\n",
              "    <tr>\n",
              "      <th>33</th>\n",
              "      <td>2023-02-03</td>\n",
              "      <td>C</td>\n",
              "      <td>27.0</td>\n",
              "      <td>Product3</td>\n",
              "      <td>NaN</td>\n",
              "      <td>East</td>\n",
              "      <td>557.130435</td>\n",
              "    </tr>\n",
              "    <tr>\n",
              "      <th>34</th>\n",
              "      <td>2023-02-04</td>\n",
              "      <td>C</td>\n",
              "      <td>70.0</td>\n",
              "      <td>Product3</td>\n",
              "      <td>669.0</td>\n",
              "      <td>West</td>\n",
              "      <td>669.000000</td>\n",
              "    </tr>\n",
              "    <tr>\n",
              "      <th>35</th>\n",
              "      <td>2023-02-05</td>\n",
              "      <td>B</td>\n",
              "      <td>60.0</td>\n",
              "      <td>Product2</td>\n",
              "      <td>NaN</td>\n",
              "      <td>West</td>\n",
              "      <td>557.130435</td>\n",
              "    </tr>\n",
              "    <tr>\n",
              "      <th>36</th>\n",
              "      <td>2023-02-06</td>\n",
              "      <td>C</td>\n",
              "      <td>36.0</td>\n",
              "      <td>Product3</td>\n",
              "      <td>177.0</td>\n",
              "      <td>East</td>\n",
              "      <td>177.000000</td>\n",
              "    </tr>\n",
              "    <tr>\n",
              "      <th>37</th>\n",
              "      <td>2023-02-07</td>\n",
              "      <td>C</td>\n",
              "      <td>2.0</td>\n",
              "      <td>Product1</td>\n",
              "      <td>NaN</td>\n",
              "      <td>North</td>\n",
              "      <td>557.130435</td>\n",
              "    </tr>\n",
              "    <tr>\n",
              "      <th>38</th>\n",
              "      <td>2023-02-08</td>\n",
              "      <td>C</td>\n",
              "      <td>94.0</td>\n",
              "      <td>Product1</td>\n",
              "      <td>408.0</td>\n",
              "      <td>South</td>\n",
              "      <td>408.000000</td>\n",
              "    </tr>\n",
              "    <tr>\n",
              "      <th>39</th>\n",
              "      <td>2023-02-09</td>\n",
              "      <td>A</td>\n",
              "      <td>62.0</td>\n",
              "      <td>Product1</td>\n",
              "      <td>155.0</td>\n",
              "      <td>West</td>\n",
              "      <td>155.000000</td>\n",
              "    </tr>\n",
              "    <tr>\n",
              "      <th>40</th>\n",
              "      <td>2023-02-10</td>\n",
              "      <td>B</td>\n",
              "      <td>15.0</td>\n",
              "      <td>Product1</td>\n",
              "      <td>578.0</td>\n",
              "      <td>East</td>\n",
              "      <td>578.000000</td>\n",
              "    </tr>\n",
              "    <tr>\n",
              "      <th>41</th>\n",
              "      <td>2023-02-11</td>\n",
              "      <td>C</td>\n",
              "      <td>97.0</td>\n",
              "      <td>Product1</td>\n",
              "      <td>256.0</td>\n",
              "      <td>East</td>\n",
              "      <td>256.000000</td>\n",
              "    </tr>\n",
              "    <tr>\n",
              "      <th>42</th>\n",
              "      <td>2023-02-12</td>\n",
              "      <td>A</td>\n",
              "      <td>93.0</td>\n",
              "      <td>Product3</td>\n",
              "      <td>164.0</td>\n",
              "      <td>West</td>\n",
              "      <td>164.000000</td>\n",
              "    </tr>\n",
              "    <tr>\n",
              "      <th>43</th>\n",
              "      <td>2023-02-13</td>\n",
              "      <td>A</td>\n",
              "      <td>43.0</td>\n",
              "      <td>Product3</td>\n",
              "      <td>949.0</td>\n",
              "      <td>East</td>\n",
              "      <td>949.000000</td>\n",
              "    </tr>\n",
              "    <tr>\n",
              "      <th>44</th>\n",
              "      <td>2023-02-14</td>\n",
              "      <td>A</td>\n",
              "      <td>96.0</td>\n",
              "      <td>Product3</td>\n",
              "      <td>830.0</td>\n",
              "      <td>East</td>\n",
              "      <td>830.000000</td>\n",
              "    </tr>\n",
              "    <tr>\n",
              "      <th>45</th>\n",
              "      <td>2023-02-15</td>\n",
              "      <td>B</td>\n",
              "      <td>99.0</td>\n",
              "      <td>Product2</td>\n",
              "      <td>599.0</td>\n",
              "      <td>West</td>\n",
              "      <td>599.000000</td>\n",
              "    </tr>\n",
              "    <tr>\n",
              "      <th>46</th>\n",
              "      <td>2023-02-16</td>\n",
              "      <td>B</td>\n",
              "      <td>6.0</td>\n",
              "      <td>Product1</td>\n",
              "      <td>938.0</td>\n",
              "      <td>South</td>\n",
              "      <td>938.000000</td>\n",
              "    </tr>\n",
              "    <tr>\n",
              "      <th>47</th>\n",
              "      <td>2023-02-17</td>\n",
              "      <td>B</td>\n",
              "      <td>69.0</td>\n",
              "      <td>Product3</td>\n",
              "      <td>143.0</td>\n",
              "      <td>West</td>\n",
              "      <td>143.000000</td>\n",
              "    </tr>\n",
              "    <tr>\n",
              "      <th>48</th>\n",
              "      <td>2023-02-18</td>\n",
              "      <td>C</td>\n",
              "      <td>65.0</td>\n",
              "      <td>Product3</td>\n",
              "      <td>182.0</td>\n",
              "      <td>North</td>\n",
              "      <td>182.000000</td>\n",
              "    </tr>\n",
              "    <tr>\n",
              "      <th>49</th>\n",
              "      <td>2023-02-19</td>\n",
              "      <td>C</td>\n",
              "      <td>11.0</td>\n",
              "      <td>Product3</td>\n",
              "      <td>708.0</td>\n",
              "      <td>North</td>\n",
              "      <td>708.000000</td>\n",
              "    </tr>\n",
              "  </tbody>\n",
              "</table>\n",
              "</div>"
            ],
            "text/plain": [
              "          Date Category  Value   Product  Sales Region  Sales_fillNA\n",
              "0   2023-01-01        A   28.0  Product1  754.0   East    754.000000\n",
              "1   2023-01-02        B   39.0  Product3  110.0  North    110.000000\n",
              "2   2023-01-03        C   32.0  Product2  398.0   East    398.000000\n",
              "3   2023-01-04        B    8.0  Product1  522.0   East    522.000000\n",
              "4   2023-01-05        B   26.0  Product3  869.0  North    869.000000\n",
              "5   2023-01-06        B   54.0  Product3  192.0   West    192.000000\n",
              "6   2023-01-07        A   16.0  Product1  936.0   East    936.000000\n",
              "7   2023-01-08        C   89.0  Product1  488.0   West    488.000000\n",
              "8   2023-01-09        C   37.0  Product3  772.0   West    772.000000\n",
              "9   2023-01-10        A   22.0  Product2  834.0   West    834.000000\n",
              "10  2023-01-11        B    7.0  Product1  842.0  North    842.000000\n",
              "11  2023-01-12        B   60.0  Product2    NaN   West    557.130435\n",
              "12  2023-01-13        A   70.0  Product3  628.0  South    628.000000\n",
              "13  2023-01-14        A   69.0  Product1  423.0   East    423.000000\n",
              "14  2023-01-15        A   47.0  Product2  893.0   West    893.000000\n",
              "15  2023-01-16        C    NaN  Product1  895.0  North    895.000000\n",
              "16  2023-01-17        C   93.0  Product2  511.0  South    511.000000\n",
              "17  2023-01-18        C    NaN  Product1  108.0   West    108.000000\n",
              "18  2023-01-19        A   31.0  Product2  578.0   West    578.000000\n",
              "19  2023-01-20        A   59.0  Product1  736.0   East    736.000000\n",
              "20  2023-01-21        C   82.0  Product3  606.0  South    606.000000\n",
              "21  2023-01-22        C   37.0  Product2  992.0  South    992.000000\n",
              "22  2023-01-23        B   62.0  Product3  942.0  North    942.000000\n",
              "23  2023-01-24        C   92.0  Product2  342.0   West    342.000000\n",
              "24  2023-01-25        A   24.0  Product2  458.0   East    458.000000\n",
              "25  2023-01-26        C   95.0  Product1  584.0   West    584.000000\n",
              "26  2023-01-27        C   71.0  Product2  619.0  North    619.000000\n",
              "27  2023-01-28        C   56.0  Product2  224.0  North    224.000000\n",
              "28  2023-01-29        B    NaN  Product3  617.0  North    617.000000\n",
              "29  2023-01-30        C   51.0  Product2  737.0  South    737.000000\n",
              "30  2023-01-31        B   50.0  Product3  735.0   West    735.000000\n",
              "31  2023-02-01        A   17.0  Product2  189.0   West    189.000000\n",
              "32  2023-02-02        B   63.0  Product3  338.0  South    338.000000\n",
              "33  2023-02-03        C   27.0  Product3    NaN   East    557.130435\n",
              "34  2023-02-04        C   70.0  Product3  669.0   West    669.000000\n",
              "35  2023-02-05        B   60.0  Product2    NaN   West    557.130435\n",
              "36  2023-02-06        C   36.0  Product3  177.0   East    177.000000\n",
              "37  2023-02-07        C    2.0  Product1    NaN  North    557.130435\n",
              "38  2023-02-08        C   94.0  Product1  408.0  South    408.000000\n",
              "39  2023-02-09        A   62.0  Product1  155.0   West    155.000000\n",
              "40  2023-02-10        B   15.0  Product1  578.0   East    578.000000\n",
              "41  2023-02-11        C   97.0  Product1  256.0   East    256.000000\n",
              "42  2023-02-12        A   93.0  Product3  164.0   West    164.000000\n",
              "43  2023-02-13        A   43.0  Product3  949.0   East    949.000000\n",
              "44  2023-02-14        A   96.0  Product3  830.0   East    830.000000\n",
              "45  2023-02-15        B   99.0  Product2  599.0   West    599.000000\n",
              "46  2023-02-16        B    6.0  Product1  938.0  South    938.000000\n",
              "47  2023-02-17        B   69.0  Product3  143.0   West    143.000000\n",
              "48  2023-02-18        C   65.0  Product3  182.0  North    182.000000\n",
              "49  2023-02-19        C   11.0  Product3  708.0  North    708.000000"
            ]
          },
          "execution_count": 11,
          "metadata": {},
          "output_type": "execute_result"
        }
      ],
      "source": [
        "## Filling missing values with the mean of the column\n",
        "df['Sales_fillNA'] = df['Sales'].fillna(df['Sales'].mean())\n",
        "df"
      ]
    },
    {
      "cell_type": "code",
      "execution_count": null,
      "id": "3211215f",
      "metadata": {
        "id": "3211215f",
        "outputId": "5e88dfd3-f260-470c-c5f6-4d9d21485120"
      },
      "outputs": [
        {
          "data": {
            "text/html": [
              "<div>\n",
              "<style scoped>\n",
              "    .dataframe tbody tr th:only-of-type {\n",
              "        vertical-align: middle;\n",
              "    }\n",
              "\n",
              "    .dataframe tbody tr th {\n",
              "        vertical-align: top;\n",
              "    }\n",
              "\n",
              "    .dataframe thead th {\n",
              "        text-align: right;\n",
              "    }\n",
              "</style>\n",
              "<table border=\"1\" class=\"dataframe\">\n",
              "  <thead>\n",
              "    <tr style=\"text-align: right;\">\n",
              "      <th></th>\n",
              "      <th>Sales Date</th>\n",
              "      <th>Category</th>\n",
              "      <th>Value</th>\n",
              "      <th>Product</th>\n",
              "      <th>Sales</th>\n",
              "      <th>Region</th>\n",
              "      <th>Sales_fillNA</th>\n",
              "    </tr>\n",
              "  </thead>\n",
              "  <tbody>\n",
              "    <tr>\n",
              "      <th>0</th>\n",
              "      <td>2023-01-01</td>\n",
              "      <td>A</td>\n",
              "      <td>28.0</td>\n",
              "      <td>Product1</td>\n",
              "      <td>754.0</td>\n",
              "      <td>East</td>\n",
              "      <td>754.0</td>\n",
              "    </tr>\n",
              "    <tr>\n",
              "      <th>1</th>\n",
              "      <td>2023-01-02</td>\n",
              "      <td>B</td>\n",
              "      <td>39.0</td>\n",
              "      <td>Product3</td>\n",
              "      <td>110.0</td>\n",
              "      <td>North</td>\n",
              "      <td>110.0</td>\n",
              "    </tr>\n",
              "    <tr>\n",
              "      <th>2</th>\n",
              "      <td>2023-01-03</td>\n",
              "      <td>C</td>\n",
              "      <td>32.0</td>\n",
              "      <td>Product2</td>\n",
              "      <td>398.0</td>\n",
              "      <td>East</td>\n",
              "      <td>398.0</td>\n",
              "    </tr>\n",
              "    <tr>\n",
              "      <th>3</th>\n",
              "      <td>2023-01-04</td>\n",
              "      <td>B</td>\n",
              "      <td>8.0</td>\n",
              "      <td>Product1</td>\n",
              "      <td>522.0</td>\n",
              "      <td>East</td>\n",
              "      <td>522.0</td>\n",
              "    </tr>\n",
              "    <tr>\n",
              "      <th>4</th>\n",
              "      <td>2023-01-05</td>\n",
              "      <td>B</td>\n",
              "      <td>26.0</td>\n",
              "      <td>Product3</td>\n",
              "      <td>869.0</td>\n",
              "      <td>North</td>\n",
              "      <td>869.0</td>\n",
              "    </tr>\n",
              "  </tbody>\n",
              "</table>\n",
              "</div>"
            ],
            "text/plain": [
              "   Sales Date Category  Value   Product  Sales Region  Sales_fillNA\n",
              "0  2023-01-01        A   28.0  Product1  754.0   East         754.0\n",
              "1  2023-01-02        B   39.0  Product3  110.0  North         110.0\n",
              "2  2023-01-03        C   32.0  Product2  398.0   East         398.0\n",
              "3  2023-01-04        B    8.0  Product1  522.0   East         522.0\n",
              "4  2023-01-05        B   26.0  Product3  869.0  North         869.0"
            ]
          },
          "execution_count": 17,
          "metadata": {},
          "output_type": "execute_result"
        }
      ],
      "source": [
        "## Renaming Columns\n",
        "df = df.rename(columns={'Date':'Sales Date'})\n",
        "df.head()"
      ]
    },
    {
      "cell_type": "code",
      "execution_count": null,
      "id": "5016a201",
      "metadata": {
        "id": "5016a201",
        "outputId": "f686958d-b40e-4810-8733-65bab6247ed1"
      },
      "outputs": [
        {
          "data": {
            "text/html": [
              "<div>\n",
              "<style scoped>\n",
              "    .dataframe tbody tr th:only-of-type {\n",
              "        vertical-align: middle;\n",
              "    }\n",
              "\n",
              "    .dataframe tbody tr th {\n",
              "        vertical-align: top;\n",
              "    }\n",
              "\n",
              "    .dataframe thead th {\n",
              "        text-align: right;\n",
              "    }\n",
              "</style>\n",
              "<table border=\"1\" class=\"dataframe\">\n",
              "  <thead>\n",
              "    <tr style=\"text-align: right;\">\n",
              "      <th></th>\n",
              "      <th>Sales Date</th>\n",
              "      <th>Category</th>\n",
              "      <th>Value</th>\n",
              "      <th>Product</th>\n",
              "      <th>Sales</th>\n",
              "      <th>Region</th>\n",
              "      <th>Sales_fillNA</th>\n",
              "      <th>Value_new</th>\n",
              "    </tr>\n",
              "  </thead>\n",
              "  <tbody>\n",
              "    <tr>\n",
              "      <th>0</th>\n",
              "      <td>2023-01-01</td>\n",
              "      <td>A</td>\n",
              "      <td>28.0</td>\n",
              "      <td>Product1</td>\n",
              "      <td>754.0</td>\n",
              "      <td>East</td>\n",
              "      <td>754.0</td>\n",
              "      <td>28</td>\n",
              "    </tr>\n",
              "    <tr>\n",
              "      <th>1</th>\n",
              "      <td>2023-01-02</td>\n",
              "      <td>B</td>\n",
              "      <td>39.0</td>\n",
              "      <td>Product3</td>\n",
              "      <td>110.0</td>\n",
              "      <td>North</td>\n",
              "      <td>110.0</td>\n",
              "      <td>39</td>\n",
              "    </tr>\n",
              "    <tr>\n",
              "      <th>2</th>\n",
              "      <td>2023-01-03</td>\n",
              "      <td>C</td>\n",
              "      <td>32.0</td>\n",
              "      <td>Product2</td>\n",
              "      <td>398.0</td>\n",
              "      <td>East</td>\n",
              "      <td>398.0</td>\n",
              "      <td>32</td>\n",
              "    </tr>\n",
              "    <tr>\n",
              "      <th>3</th>\n",
              "      <td>2023-01-04</td>\n",
              "      <td>B</td>\n",
              "      <td>8.0</td>\n",
              "      <td>Product1</td>\n",
              "      <td>522.0</td>\n",
              "      <td>East</td>\n",
              "      <td>522.0</td>\n",
              "      <td>8</td>\n",
              "    </tr>\n",
              "    <tr>\n",
              "      <th>4</th>\n",
              "      <td>2023-01-05</td>\n",
              "      <td>B</td>\n",
              "      <td>26.0</td>\n",
              "      <td>Product3</td>\n",
              "      <td>869.0</td>\n",
              "      <td>North</td>\n",
              "      <td>869.0</td>\n",
              "      <td>26</td>\n",
              "    </tr>\n",
              "  </tbody>\n",
              "</table>\n",
              "</div>"
            ],
            "text/plain": [
              "   Sales Date Category  Value   Product  Sales Region  Sales_fillNA  Value_new\n",
              "0  2023-01-01        A   28.0  Product1  754.0   East         754.0         28\n",
              "1  2023-01-02        B   39.0  Product3  110.0  North         110.0         39\n",
              "2  2023-01-03        C   32.0  Product2  398.0   East         398.0         32\n",
              "3  2023-01-04        B    8.0  Product1  522.0   East         522.0          8\n",
              "4  2023-01-05        B   26.0  Product3  869.0  North         869.0         26"
            ]
          },
          "execution_count": 18,
          "metadata": {},
          "output_type": "execute_result"
        }
      ],
      "source": [
        "## Change datatypes\n",
        "df['Value_new'] = df['Value'].fillna(df['Value'].mean()).astype(int)\n",
        "df.head()"
      ]
    },
    {
      "cell_type": "code",
      "execution_count": null,
      "id": "a51ffac6",
      "metadata": {
        "id": "a51ffac6",
        "outputId": "b4e2909c-9b91-4cb7-8060-3453618e881b"
      },
      "outputs": [
        {
          "data": {
            "text/html": [
              "<div>\n",
              "<style scoped>\n",
              "    .dataframe tbody tr th:only-of-type {\n",
              "        vertical-align: middle;\n",
              "    }\n",
              "\n",
              "    .dataframe tbody tr th {\n",
              "        vertical-align: top;\n",
              "    }\n",
              "\n",
              "    .dataframe thead th {\n",
              "        text-align: right;\n",
              "    }\n",
              "</style>\n",
              "<table border=\"1\" class=\"dataframe\">\n",
              "  <thead>\n",
              "    <tr style=\"text-align: right;\">\n",
              "      <th></th>\n",
              "      <th>Sales Date</th>\n",
              "      <th>Category</th>\n",
              "      <th>Value</th>\n",
              "      <th>Product</th>\n",
              "      <th>Sales</th>\n",
              "      <th>Region</th>\n",
              "      <th>Sales_fillNA</th>\n",
              "      <th>Value_new</th>\n",
              "      <th>New Value</th>\n",
              "    </tr>\n",
              "  </thead>\n",
              "  <tbody>\n",
              "    <tr>\n",
              "      <th>0</th>\n",
              "      <td>2023-01-01</td>\n",
              "      <td>A</td>\n",
              "      <td>28.0</td>\n",
              "      <td>Product1</td>\n",
              "      <td>754.0</td>\n",
              "      <td>East</td>\n",
              "      <td>754.0</td>\n",
              "      <td>28</td>\n",
              "      <td>56.0</td>\n",
              "    </tr>\n",
              "    <tr>\n",
              "      <th>1</th>\n",
              "      <td>2023-01-02</td>\n",
              "      <td>B</td>\n",
              "      <td>39.0</td>\n",
              "      <td>Product3</td>\n",
              "      <td>110.0</td>\n",
              "      <td>North</td>\n",
              "      <td>110.0</td>\n",
              "      <td>39</td>\n",
              "      <td>78.0</td>\n",
              "    </tr>\n",
              "    <tr>\n",
              "      <th>2</th>\n",
              "      <td>2023-01-03</td>\n",
              "      <td>C</td>\n",
              "      <td>32.0</td>\n",
              "      <td>Product2</td>\n",
              "      <td>398.0</td>\n",
              "      <td>East</td>\n",
              "      <td>398.0</td>\n",
              "      <td>32</td>\n",
              "      <td>64.0</td>\n",
              "    </tr>\n",
              "    <tr>\n",
              "      <th>3</th>\n",
              "      <td>2023-01-04</td>\n",
              "      <td>B</td>\n",
              "      <td>8.0</td>\n",
              "      <td>Product1</td>\n",
              "      <td>522.0</td>\n",
              "      <td>East</td>\n",
              "      <td>522.0</td>\n",
              "      <td>8</td>\n",
              "      <td>16.0</td>\n",
              "    </tr>\n",
              "    <tr>\n",
              "      <th>4</th>\n",
              "      <td>2023-01-05</td>\n",
              "      <td>B</td>\n",
              "      <td>26.0</td>\n",
              "      <td>Product3</td>\n",
              "      <td>869.0</td>\n",
              "      <td>North</td>\n",
              "      <td>869.0</td>\n",
              "      <td>26</td>\n",
              "      <td>52.0</td>\n",
              "    </tr>\n",
              "  </tbody>\n",
              "</table>\n",
              "</div>"
            ],
            "text/plain": [
              "   Sales Date Category  Value   Product  Sales Region  Sales_fillNA  \\\n",
              "0  2023-01-01        A   28.0  Product1  754.0   East         754.0   \n",
              "1  2023-01-02        B   39.0  Product3  110.0  North         110.0   \n",
              "2  2023-01-03        C   32.0  Product2  398.0   East         398.0   \n",
              "3  2023-01-04        B    8.0  Product1  522.0   East         522.0   \n",
              "4  2023-01-05        B   26.0  Product3  869.0  North         869.0   \n",
              "\n",
              "   Value_new  New Value  \n",
              "0         28       56.0  \n",
              "1         39       78.0  \n",
              "2         32       64.0  \n",
              "3          8       16.0  \n",
              "4         26       52.0  "
            ]
          },
          "execution_count": 19,
          "metadata": {},
          "output_type": "execute_result"
        }
      ],
      "source": [
        "df['New Value'] = df['Value'].apply(lambda x:x*2)\n",
        "df.head()"
      ]
    },
    {
      "cell_type": "code",
      "execution_count": null,
      "id": "44c83d51",
      "metadata": {
        "id": "44c83d51",
        "outputId": "3c2ecb56-8d18-4bd8-d491-5008467eb973"
      },
      "outputs": [
        {
          "name": "stdout",
          "output_type": "stream",
          "text": [
            "Product\n",
            "Product1    46.214286\n",
            "Product2    52.800000\n",
            "Product3    55.166667\n",
            "Name: Value, dtype: float64\n"
          ]
        }
      ],
      "source": [
        "## Data Aggregating And Grouping\n",
        "\n",
        "grouped_mean = df.groupby('Product')['Value'].mean()\n",
        "print(grouped_mean)"
      ]
    },
    {
      "cell_type": "code",
      "execution_count": null,
      "id": "d86696ca",
      "metadata": {
        "id": "d86696ca",
        "outputId": "3ec06e6e-64ea-4265-af44-22adc32387af"
      },
      "outputs": [
        {
          "name": "stdout",
          "output_type": "stream",
          "text": [
            "Product   Region\n",
            "Product1  East      292.0\n",
            "          North       9.0\n",
            "          South     100.0\n",
            "          West      246.0\n",
            "Product2  East       56.0\n",
            "          North     127.0\n",
            "          South     181.0\n",
            "          West      428.0\n",
            "Product3  East      202.0\n",
            "          North     203.0\n",
            "          South     215.0\n",
            "          West      373.0\n",
            "Name: Value, dtype: float64\n"
          ]
        }
      ],
      "source": [
        "grouped_sum = df.groupby(['Product','Region'])['Value'].sum()\n",
        "print(grouped_sum)"
      ]
    },
    {
      "cell_type": "code",
      "execution_count": null,
      "id": "8291fb37",
      "metadata": {
        "id": "8291fb37",
        "outputId": "be3ba902-9a5e-4167-bce8-4bdc982e74fc"
      },
      "outputs": [
        {
          "data": {
            "text/html": [
              "<div>\n",
              "<style scoped>\n",
              "    .dataframe tbody tr th:only-of-type {\n",
              "        vertical-align: middle;\n",
              "    }\n",
              "\n",
              "    .dataframe tbody tr th {\n",
              "        vertical-align: top;\n",
              "    }\n",
              "\n",
              "    .dataframe thead th {\n",
              "        text-align: right;\n",
              "    }\n",
              "</style>\n",
              "<table border=\"1\" class=\"dataframe\">\n",
              "  <thead>\n",
              "    <tr style=\"text-align: right;\">\n",
              "      <th></th>\n",
              "      <th>mean</th>\n",
              "      <th>sum</th>\n",
              "      <th>count</th>\n",
              "    </tr>\n",
              "    <tr>\n",
              "      <th>Region</th>\n",
              "      <th></th>\n",
              "      <th></th>\n",
              "      <th></th>\n",
              "    </tr>\n",
              "  </thead>\n",
              "  <tbody>\n",
              "    <tr>\n",
              "      <th>East</th>\n",
              "      <td>42.307692</td>\n",
              "      <td>550.0</td>\n",
              "      <td>13</td>\n",
              "    </tr>\n",
              "    <tr>\n",
              "      <th>North</th>\n",
              "      <td>37.666667</td>\n",
              "      <td>339.0</td>\n",
              "      <td>9</td>\n",
              "    </tr>\n",
              "    <tr>\n",
              "      <th>South</th>\n",
              "      <td>62.000000</td>\n",
              "      <td>496.0</td>\n",
              "      <td>8</td>\n",
              "    </tr>\n",
              "    <tr>\n",
              "      <th>West</th>\n",
              "      <td>61.588235</td>\n",
              "      <td>1047.0</td>\n",
              "      <td>17</td>\n",
              "    </tr>\n",
              "  </tbody>\n",
              "</table>\n",
              "</div>"
            ],
            "text/plain": [
              "             mean     sum  count\n",
              "Region                          \n",
              "East    42.307692   550.0     13\n",
              "North   37.666667   339.0      9\n",
              "South   62.000000   496.0      8\n",
              "West    61.588235  1047.0     17"
            ]
          },
          "execution_count": 22,
          "metadata": {},
          "output_type": "execute_result"
        }
      ],
      "source": [
        "## Aggregate multiple functions\n",
        "\n",
        "groudped_agg = df.groupby('Region')['Value'].agg(['mean','sum','count'])\n",
        "groudped_agg"
      ]
    },
    {
      "cell_type": "code",
      "execution_count": null,
      "id": "f9e162c1",
      "metadata": {
        "id": "f9e162c1"
      },
      "outputs": [],
      "source": [
        "## Merging and Joining Dataframes\n",
        "\n",
        "## Create sample DataFrames\n",
        "df1 = pd.DataFrame({'Key': ['A', 'B', 'C'], 'Value1': [1, 2, 3]})\n",
        "df2 = pd.DataFrame({'Key': ['A', 'B', 'D'], 'Value2': [4, 5, 6]})"
      ]
    },
    {
      "cell_type": "code",
      "execution_count": null,
      "id": "f351cd5c",
      "metadata": {
        "id": "f351cd5c",
        "outputId": "73353f9d-7c45-4e2d-9fcf-11916122e23a"
      },
      "outputs": [
        {
          "data": {
            "text/html": [
              "<div>\n",
              "<style scoped>\n",
              "    .dataframe tbody tr th:only-of-type {\n",
              "        vertical-align: middle;\n",
              "    }\n",
              "\n",
              "    .dataframe tbody tr th {\n",
              "        vertical-align: top;\n",
              "    }\n",
              "\n",
              "    .dataframe thead th {\n",
              "        text-align: right;\n",
              "    }\n",
              "</style>\n",
              "<table border=\"1\" class=\"dataframe\">\n",
              "  <thead>\n",
              "    <tr style=\"text-align: right;\">\n",
              "      <th></th>\n",
              "      <th>Key</th>\n",
              "      <th>Value1</th>\n",
              "    </tr>\n",
              "  </thead>\n",
              "  <tbody>\n",
              "    <tr>\n",
              "      <th>0</th>\n",
              "      <td>A</td>\n",
              "      <td>1</td>\n",
              "    </tr>\n",
              "    <tr>\n",
              "      <th>1</th>\n",
              "      <td>B</td>\n",
              "      <td>2</td>\n",
              "    </tr>\n",
              "    <tr>\n",
              "      <th>2</th>\n",
              "      <td>C</td>\n",
              "      <td>3</td>\n",
              "    </tr>\n",
              "  </tbody>\n",
              "</table>\n",
              "</div>"
            ],
            "text/plain": [
              "  Key  Value1\n",
              "0   A       1\n",
              "1   B       2\n",
              "2   C       3"
            ]
          },
          "execution_count": 24,
          "metadata": {},
          "output_type": "execute_result"
        }
      ],
      "source": [
        "df1"
      ]
    },
    {
      "cell_type": "code",
      "execution_count": null,
      "id": "ab41b5e1",
      "metadata": {
        "id": "ab41b5e1",
        "outputId": "e72c469a-b2b8-4795-823e-5ff90fc77298"
      },
      "outputs": [
        {
          "data": {
            "text/html": [
              "<div>\n",
              "<style scoped>\n",
              "    .dataframe tbody tr th:only-of-type {\n",
              "        vertical-align: middle;\n",
              "    }\n",
              "\n",
              "    .dataframe tbody tr th {\n",
              "        vertical-align: top;\n",
              "    }\n",
              "\n",
              "    .dataframe thead th {\n",
              "        text-align: right;\n",
              "    }\n",
              "</style>\n",
              "<table border=\"1\" class=\"dataframe\">\n",
              "  <thead>\n",
              "    <tr style=\"text-align: right;\">\n",
              "      <th></th>\n",
              "      <th>Key</th>\n",
              "      <th>Value2</th>\n",
              "    </tr>\n",
              "  </thead>\n",
              "  <tbody>\n",
              "    <tr>\n",
              "      <th>0</th>\n",
              "      <td>A</td>\n",
              "      <td>4</td>\n",
              "    </tr>\n",
              "    <tr>\n",
              "      <th>1</th>\n",
              "      <td>B</td>\n",
              "      <td>5</td>\n",
              "    </tr>\n",
              "    <tr>\n",
              "      <th>2</th>\n",
              "      <td>D</td>\n",
              "      <td>6</td>\n",
              "    </tr>\n",
              "  </tbody>\n",
              "</table>\n",
              "</div>"
            ],
            "text/plain": [
              "  Key  Value2\n",
              "0   A       4\n",
              "1   B       5\n",
              "2   D       6"
            ]
          },
          "execution_count": 25,
          "metadata": {},
          "output_type": "execute_result"
        }
      ],
      "source": [
        "df2"
      ]
    },
    {
      "cell_type": "code",
      "execution_count": null,
      "id": "95249733",
      "metadata": {
        "id": "95249733",
        "outputId": "c1340b37-cb46-4cb7-946a-783e801a1791"
      },
      "outputs": [
        {
          "data": {
            "text/html": [
              "<div>\n",
              "<style scoped>\n",
              "    .dataframe tbody tr th:only-of-type {\n",
              "        vertical-align: middle;\n",
              "    }\n",
              "\n",
              "    .dataframe tbody tr th {\n",
              "        vertical-align: top;\n",
              "    }\n",
              "\n",
              "    .dataframe thead th {\n",
              "        text-align: right;\n",
              "    }\n",
              "</style>\n",
              "<table border=\"1\" class=\"dataframe\">\n",
              "  <thead>\n",
              "    <tr style=\"text-align: right;\">\n",
              "      <th></th>\n",
              "      <th>Key</th>\n",
              "      <th>Value1</th>\n",
              "      <th>Value2</th>\n",
              "    </tr>\n",
              "  </thead>\n",
              "  <tbody>\n",
              "    <tr>\n",
              "      <th>0</th>\n",
              "      <td>A</td>\n",
              "      <td>1</td>\n",
              "      <td>4</td>\n",
              "    </tr>\n",
              "    <tr>\n",
              "      <th>1</th>\n",
              "      <td>B</td>\n",
              "      <td>2</td>\n",
              "      <td>5</td>\n",
              "    </tr>\n",
              "  </tbody>\n",
              "</table>\n",
              "</div>"
            ],
            "text/plain": [
              "  Key  Value1  Value2\n",
              "0   A       1       4\n",
              "1   B       2       5"
            ]
          },
          "execution_count": 26,
          "metadata": {},
          "output_type": "execute_result"
        }
      ],
      "source": [
        "## Merge Dataframes on the 'Key Columns'\n",
        "pd.merge(df1, df2, on=\"Key\", how=\"inner\")"
      ]
    },
    {
      "cell_type": "code",
      "execution_count": null,
      "id": "f80abaa7",
      "metadata": {
        "id": "f80abaa7",
        "outputId": "fd547244-034c-4ab4-ce58-61ca25dc8432"
      },
      "outputs": [
        {
          "data": {
            "text/html": [
              "<div>\n",
              "<style scoped>\n",
              "    .dataframe tbody tr th:only-of-type {\n",
              "        vertical-align: middle;\n",
              "    }\n",
              "\n",
              "    .dataframe tbody tr th {\n",
              "        vertical-align: top;\n",
              "    }\n",
              "\n",
              "    .dataframe thead th {\n",
              "        text-align: right;\n",
              "    }\n",
              "</style>\n",
              "<table border=\"1\" class=\"dataframe\">\n",
              "  <thead>\n",
              "    <tr style=\"text-align: right;\">\n",
              "      <th></th>\n",
              "      <th>Key</th>\n",
              "      <th>Value1</th>\n",
              "      <th>Value2</th>\n",
              "    </tr>\n",
              "  </thead>\n",
              "  <tbody>\n",
              "    <tr>\n",
              "      <th>0</th>\n",
              "      <td>A</td>\n",
              "      <td>1.0</td>\n",
              "      <td>4.0</td>\n",
              "    </tr>\n",
              "    <tr>\n",
              "      <th>1</th>\n",
              "      <td>B</td>\n",
              "      <td>2.0</td>\n",
              "      <td>5.0</td>\n",
              "    </tr>\n",
              "    <tr>\n",
              "      <th>2</th>\n",
              "      <td>C</td>\n",
              "      <td>3.0</td>\n",
              "      <td>NaN</td>\n",
              "    </tr>\n",
              "    <tr>\n",
              "      <th>3</th>\n",
              "      <td>D</td>\n",
              "      <td>NaN</td>\n",
              "      <td>6.0</td>\n",
              "    </tr>\n",
              "  </tbody>\n",
              "</table>\n",
              "</div>"
            ],
            "text/plain": [
              "  Key  Value1  Value2\n",
              "0   A     1.0     4.0\n",
              "1   B     2.0     5.0\n",
              "2   C     3.0     NaN\n",
              "3   D     NaN     6.0"
            ]
          },
          "execution_count": 27,
          "metadata": {},
          "output_type": "execute_result"
        }
      ],
      "source": [
        "pd.merge(df1, df2, on=\"Key\", how=\"outer\")"
      ]
    },
    {
      "cell_type": "code",
      "execution_count": null,
      "id": "a88e5a15",
      "metadata": {
        "id": "a88e5a15",
        "outputId": "71bdc7ae-14af-4b9d-d6a5-039169e364b9"
      },
      "outputs": [
        {
          "data": {
            "text/html": [
              "<div>\n",
              "<style scoped>\n",
              "    .dataframe tbody tr th:only-of-type {\n",
              "        vertical-align: middle;\n",
              "    }\n",
              "\n",
              "    .dataframe tbody tr th {\n",
              "        vertical-align: top;\n",
              "    }\n",
              "\n",
              "    .dataframe thead th {\n",
              "        text-align: right;\n",
              "    }\n",
              "</style>\n",
              "<table border=\"1\" class=\"dataframe\">\n",
              "  <thead>\n",
              "    <tr style=\"text-align: right;\">\n",
              "      <th></th>\n",
              "      <th>Key</th>\n",
              "      <th>Value1</th>\n",
              "      <th>Value2</th>\n",
              "    </tr>\n",
              "  </thead>\n",
              "  <tbody>\n",
              "    <tr>\n",
              "      <th>0</th>\n",
              "      <td>A</td>\n",
              "      <td>1</td>\n",
              "      <td>4.0</td>\n",
              "    </tr>\n",
              "    <tr>\n",
              "      <th>1</th>\n",
              "      <td>B</td>\n",
              "      <td>2</td>\n",
              "      <td>5.0</td>\n",
              "    </tr>\n",
              "    <tr>\n",
              "      <th>2</th>\n",
              "      <td>C</td>\n",
              "      <td>3</td>\n",
              "      <td>NaN</td>\n",
              "    </tr>\n",
              "  </tbody>\n",
              "</table>\n",
              "</div>"
            ],
            "text/plain": [
              "  Key  Value1  Value2\n",
              "0   A       1     4.0\n",
              "1   B       2     5.0\n",
              "2   C       3     NaN"
            ]
          },
          "execution_count": 28,
          "metadata": {},
          "output_type": "execute_result"
        }
      ],
      "source": [
        "pd.merge(df1, df2, on=\"Key\", how=\"left\")"
      ]
    },
    {
      "cell_type": "code",
      "execution_count": null,
      "id": "d672fdd7",
      "metadata": {
        "id": "d672fdd7",
        "outputId": "fa912477-ff49-41fe-f693-532cf1ef67b6"
      },
      "outputs": [
        {
          "data": {
            "text/html": [
              "<div>\n",
              "<style scoped>\n",
              "    .dataframe tbody tr th:only-of-type {\n",
              "        vertical-align: middle;\n",
              "    }\n",
              "\n",
              "    .dataframe tbody tr th {\n",
              "        vertical-align: top;\n",
              "    }\n",
              "\n",
              "    .dataframe thead th {\n",
              "        text-align: right;\n",
              "    }\n",
              "</style>\n",
              "<table border=\"1\" class=\"dataframe\">\n",
              "  <thead>\n",
              "    <tr style=\"text-align: right;\">\n",
              "      <th></th>\n",
              "      <th>Key</th>\n",
              "      <th>Value1</th>\n",
              "      <th>Value2</th>\n",
              "    </tr>\n",
              "  </thead>\n",
              "  <tbody>\n",
              "    <tr>\n",
              "      <th>0</th>\n",
              "      <td>A</td>\n",
              "      <td>1.0</td>\n",
              "      <td>4</td>\n",
              "    </tr>\n",
              "    <tr>\n",
              "      <th>1</th>\n",
              "      <td>B</td>\n",
              "      <td>2.0</td>\n",
              "      <td>5</td>\n",
              "    </tr>\n",
              "    <tr>\n",
              "      <th>2</th>\n",
              "      <td>D</td>\n",
              "      <td>NaN</td>\n",
              "      <td>6</td>\n",
              "    </tr>\n",
              "  </tbody>\n",
              "</table>\n",
              "</div>"
            ],
            "text/plain": [
              "  Key  Value1  Value2\n",
              "0   A     1.0       4\n",
              "1   B     2.0       5\n",
              "2   D     NaN       6"
            ]
          },
          "execution_count": 29,
          "metadata": {},
          "output_type": "execute_result"
        }
      ],
      "source": [
        "pd.merge(df1, df2, on=\"Key\", how=\"right\")"
      ]
    },
    {
      "cell_type": "markdown",
      "id": "89cc6ef3",
      "metadata": {
        "id": "89cc6ef3"
      },
      "source": [
        "## Reading Data from Different Sources"
      ]
    },
    {
      "cell_type": "code",
      "execution_count": null,
      "id": "2fdde88c",
      "metadata": {
        "id": "2fdde88c",
        "outputId": "acccf756-657e-41b3-f166-c811aaf52d12"
      },
      "outputs": [
        {
          "data": {
            "text/html": [
              "<div>\n",
              "<style scoped>\n",
              "    .dataframe tbody tr th:only-of-type {\n",
              "        vertical-align: middle;\n",
              "    }\n",
              "\n",
              "    .dataframe tbody tr th {\n",
              "        vertical-align: top;\n",
              "    }\n",
              "\n",
              "    .dataframe thead th {\n",
              "        text-align: right;\n",
              "    }\n",
              "</style>\n",
              "<table border=\"1\" class=\"dataframe\">\n",
              "  <thead>\n",
              "    <tr style=\"text-align: right;\">\n",
              "      <th></th>\n",
              "      <th>employee_name</th>\n",
              "      <th>email</th>\n",
              "      <th>job_profile</th>\n",
              "    </tr>\n",
              "  </thead>\n",
              "  <tbody>\n",
              "    <tr>\n",
              "      <th>0</th>\n",
              "      <td>James</td>\n",
              "      <td>james@gmail.com</td>\n",
              "      <td>{'title1': 'Team Lead', 'title2': 'Sr. Develop...</td>\n",
              "    </tr>\n",
              "  </tbody>\n",
              "</table>\n",
              "</div>"
            ],
            "text/plain": [
              "  employee_name            email  \\\n",
              "0         James  james@gmail.com   \n",
              "\n",
              "                                         job_profile  \n",
              "0  {'title1': 'Team Lead', 'title2': 'Sr. Develop...  "
            ]
          },
          "execution_count": 30,
          "metadata": {},
          "output_type": "execute_result"
        }
      ],
      "source": [
        "from io import StringIO\n",
        "\n",
        "Data = '{\"employee_name\": \"James\", \"email\": \"james@gmail.com\", \"job_profile\": [{\"title1\":\"Team Lead\", \"title2\":\"Sr. Developer\"}]}'\n",
        "df = pd.read_json(StringIO(Data))\n",
        "df"
      ]
    },
    {
      "cell_type": "code",
      "execution_count": null,
      "id": "46ef5362",
      "metadata": {
        "id": "46ef5362",
        "outputId": "4faf7899-1199-46eb-9e14-88549d880fc5"
      },
      "outputs": [
        {
          "data": {
            "text/plain": [
              "'{\"employee_name\":{\"0\":\"James\"},\"email\":{\"0\":\"james@gmail.com\"},\"job_profile\":{\"0\":{\"title1\":\"Team Lead\",\"title2\":\"Sr. Developer\"}}}'"
            ]
          },
          "execution_count": 31,
          "metadata": {},
          "output_type": "execute_result"
        }
      ],
      "source": [
        "df.to_json()"
      ]
    },
    {
      "cell_type": "code",
      "execution_count": null,
      "id": "6e11272d",
      "metadata": {
        "id": "6e11272d",
        "outputId": "106269c5-c131-4faa-e7eb-95e18f4b2be4"
      },
      "outputs": [
        {
          "data": {
            "text/plain": [
              "'{\"0\":{\"employee_name\":\"James\",\"email\":\"james@gmail.com\",\"job_profile\":{\"title1\":\"Team Lead\",\"title2\":\"Sr. Developer\"}}}'"
            ]
          },
          "execution_count": 32,
          "metadata": {},
          "output_type": "execute_result"
        }
      ],
      "source": [
        "df.to_json(orient = 'index')"
      ]
    },
    {
      "cell_type": "code",
      "execution_count": null,
      "id": "2ae884f6",
      "metadata": {
        "id": "2ae884f6",
        "outputId": "bbbf8ef1-61ae-456c-ece8-6ce6d281cb83"
      },
      "outputs": [
        {
          "data": {
            "text/plain": [
              "'[{\"employee_name\":\"James\",\"email\":\"james@gmail.com\",\"job_profile\":{\"title1\":\"Team Lead\",\"title2\":\"Sr. Developer\"}}]'"
            ]
          },
          "execution_count": 33,
          "metadata": {},
          "output_type": "execute_result"
        }
      ],
      "source": [
        "df.to_json(orient = 'records')"
      ]
    },
    {
      "cell_type": "code",
      "execution_count": null,
      "id": "e1aaef70",
      "metadata": {
        "id": "e1aaef70",
        "outputId": "d8b466ca-1d88-4803-e062-afcd01b47509"
      },
      "outputs": [
        {
          "data": {
            "text/html": [
              "<div>\n",
              "<style scoped>\n",
              "    .dataframe tbody tr th:only-of-type {\n",
              "        vertical-align: middle;\n",
              "    }\n",
              "\n",
              "    .dataframe tbody tr th {\n",
              "        vertical-align: top;\n",
              "    }\n",
              "\n",
              "    .dataframe thead th {\n",
              "        text-align: right;\n",
              "    }\n",
              "</style>\n",
              "<table border=\"1\" class=\"dataframe\">\n",
              "  <thead>\n",
              "    <tr style=\"text-align: right;\">\n",
              "      <th></th>\n",
              "      <th>0</th>\n",
              "      <th>1</th>\n",
              "      <th>2</th>\n",
              "      <th>3</th>\n",
              "      <th>4</th>\n",
              "      <th>5</th>\n",
              "      <th>6</th>\n",
              "      <th>7</th>\n",
              "      <th>8</th>\n",
              "      <th>9</th>\n",
              "      <th>10</th>\n",
              "      <th>11</th>\n",
              "      <th>12</th>\n",
              "      <th>13</th>\n",
              "    </tr>\n",
              "  </thead>\n",
              "  <tbody>\n",
              "    <tr>\n",
              "      <th>0</th>\n",
              "      <td>1</td>\n",
              "      <td>14.23</td>\n",
              "      <td>1.71</td>\n",
              "      <td>2.43</td>\n",
              "      <td>15.6</td>\n",
              "      <td>127</td>\n",
              "      <td>2.80</td>\n",
              "      <td>3.06</td>\n",
              "      <td>0.28</td>\n",
              "      <td>2.29</td>\n",
              "      <td>5.64</td>\n",
              "      <td>1.04</td>\n",
              "      <td>3.92</td>\n",
              "      <td>1065</td>\n",
              "    </tr>\n",
              "    <tr>\n",
              "      <th>1</th>\n",
              "      <td>1</td>\n",
              "      <td>13.20</td>\n",
              "      <td>1.78</td>\n",
              "      <td>2.14</td>\n",
              "      <td>11.2</td>\n",
              "      <td>100</td>\n",
              "      <td>2.65</td>\n",
              "      <td>2.76</td>\n",
              "      <td>0.26</td>\n",
              "      <td>1.28</td>\n",
              "      <td>4.38</td>\n",
              "      <td>1.05</td>\n",
              "      <td>3.40</td>\n",
              "      <td>1050</td>\n",
              "    </tr>\n",
              "    <tr>\n",
              "      <th>2</th>\n",
              "      <td>1</td>\n",
              "      <td>13.16</td>\n",
              "      <td>2.36</td>\n",
              "      <td>2.67</td>\n",
              "      <td>18.6</td>\n",
              "      <td>101</td>\n",
              "      <td>2.80</td>\n",
              "      <td>3.24</td>\n",
              "      <td>0.30</td>\n",
              "      <td>2.81</td>\n",
              "      <td>5.68</td>\n",
              "      <td>1.03</td>\n",
              "      <td>3.17</td>\n",
              "      <td>1185</td>\n",
              "    </tr>\n",
              "    <tr>\n",
              "      <th>3</th>\n",
              "      <td>1</td>\n",
              "      <td>14.37</td>\n",
              "      <td>1.95</td>\n",
              "      <td>2.50</td>\n",
              "      <td>16.8</td>\n",
              "      <td>113</td>\n",
              "      <td>3.85</td>\n",
              "      <td>3.49</td>\n",
              "      <td>0.24</td>\n",
              "      <td>2.18</td>\n",
              "      <td>7.80</td>\n",
              "      <td>0.86</td>\n",
              "      <td>3.45</td>\n",
              "      <td>1480</td>\n",
              "    </tr>\n",
              "    <tr>\n",
              "      <th>4</th>\n",
              "      <td>1</td>\n",
              "      <td>13.24</td>\n",
              "      <td>2.59</td>\n",
              "      <td>2.87</td>\n",
              "      <td>21.0</td>\n",
              "      <td>118</td>\n",
              "      <td>2.80</td>\n",
              "      <td>2.69</td>\n",
              "      <td>0.39</td>\n",
              "      <td>1.82</td>\n",
              "      <td>4.32</td>\n",
              "      <td>1.04</td>\n",
              "      <td>2.93</td>\n",
              "      <td>735</td>\n",
              "    </tr>\n",
              "  </tbody>\n",
              "</table>\n",
              "</div>"
            ],
            "text/plain": [
              "   0      1     2     3     4    5     6     7     8     9     10    11    12  \\\n",
              "0   1  14.23  1.71  2.43  15.6  127  2.80  3.06  0.28  2.29  5.64  1.04  3.92   \n",
              "1   1  13.20  1.78  2.14  11.2  100  2.65  2.76  0.26  1.28  4.38  1.05  3.40   \n",
              "2   1  13.16  2.36  2.67  18.6  101  2.80  3.24  0.30  2.81  5.68  1.03  3.17   \n",
              "3   1  14.37  1.95  2.50  16.8  113  3.85  3.49  0.24  2.18  7.80  0.86  3.45   \n",
              "4   1  13.24  2.59  2.87  21.0  118  2.80  2.69  0.39  1.82  4.32  1.04  2.93   \n",
              "\n",
              "     13  \n",
              "0  1065  \n",
              "1  1050  \n",
              "2  1185  \n",
              "3  1480  \n",
              "4   735  "
            ]
          },
          "execution_count": 35,
          "metadata": {},
          "output_type": "execute_result"
        }
      ],
      "source": [
        "df = pd.read_csv(\"https://archive.ics.uci.edu/ml/machine-learning-databases/wine/wine.data\", header=None)\n",
        "df.head()"
      ]
    },
    {
      "cell_type": "code",
      "execution_count": null,
      "id": "1d6003e6",
      "metadata": {
        "id": "1d6003e6"
      },
      "outputs": [],
      "source": [
        "df.to_csv(\"wine.csv\")"
      ]
    },
    {
      "cell_type": "code",
      "execution_count": null,
      "id": "8b29a9e0",
      "metadata": {
        "id": "8b29a9e0",
        "outputId": "ea0151cd-5703-479e-97c4-f2de1ac45447"
      },
      "outputs": [
        {
          "data": {
            "text/html": [
              "<div>\n",
              "<style scoped>\n",
              "    .dataframe tbody tr th:only-of-type {\n",
              "        vertical-align: middle;\n",
              "    }\n",
              "\n",
              "    .dataframe tbody tr th {\n",
              "        vertical-align: top;\n",
              "    }\n",
              "\n",
              "    .dataframe thead th {\n",
              "        text-align: right;\n",
              "    }\n",
              "</style>\n",
              "<table border=\"1\" class=\"dataframe\">\n",
              "  <thead>\n",
              "    <tr style=\"text-align: right;\">\n",
              "      <th></th>\n",
              "      <th>Bank Name</th>\n",
              "      <th>City</th>\n",
              "      <th>State</th>\n",
              "      <th>Cert</th>\n",
              "      <th>Acquiring Institution</th>\n",
              "      <th>Closing Date</th>\n",
              "      <th>Fund  Sort ascending</th>\n",
              "    </tr>\n",
              "  </thead>\n",
              "  <tbody>\n",
              "    <tr>\n",
              "      <th>0</th>\n",
              "      <td>Pulaski Savings Bank</td>\n",
              "      <td>Chicago</td>\n",
              "      <td>Illinois</td>\n",
              "      <td>28611</td>\n",
              "      <td>Millennium Bank</td>\n",
              "      <td>January 17, 2025</td>\n",
              "      <td>10548</td>\n",
              "    </tr>\n",
              "    <tr>\n",
              "      <th>1</th>\n",
              "      <td>The First National Bank of Lindsay</td>\n",
              "      <td>Lindsay</td>\n",
              "      <td>Oklahoma</td>\n",
              "      <td>4134</td>\n",
              "      <td>First Bank &amp; Trust Co., Duncan, OK</td>\n",
              "      <td>October 18, 2024</td>\n",
              "      <td>10547</td>\n",
              "    </tr>\n",
              "    <tr>\n",
              "      <th>2</th>\n",
              "      <td>Republic First Bank dba Republic Bank</td>\n",
              "      <td>Philadelphia</td>\n",
              "      <td>Pennsylvania</td>\n",
              "      <td>27332</td>\n",
              "      <td>Fulton Bank, National Association</td>\n",
              "      <td>April 26, 2024</td>\n",
              "      <td>10546</td>\n",
              "    </tr>\n",
              "    <tr>\n",
              "      <th>3</th>\n",
              "      <td>Citizens Bank</td>\n",
              "      <td>Sac City</td>\n",
              "      <td>Iowa</td>\n",
              "      <td>8758</td>\n",
              "      <td>Iowa Trust &amp; Savings Bank</td>\n",
              "      <td>November 3, 2023</td>\n",
              "      <td>10545</td>\n",
              "    </tr>\n",
              "    <tr>\n",
              "      <th>4</th>\n",
              "      <td>Heartland Tri-State Bank</td>\n",
              "      <td>Elkhart</td>\n",
              "      <td>Kansas</td>\n",
              "      <td>25851</td>\n",
              "      <td>Dream First Bank, N.A.</td>\n",
              "      <td>July 28, 2023</td>\n",
              "      <td>10544</td>\n",
              "    </tr>\n",
              "    <tr>\n",
              "      <th>5</th>\n",
              "      <td>First Republic Bank</td>\n",
              "      <td>San Francisco</td>\n",
              "      <td>California</td>\n",
              "      <td>59017</td>\n",
              "      <td>JPMorgan Chase Bank, N.A.</td>\n",
              "      <td>May 1, 2023</td>\n",
              "      <td>10543</td>\n",
              "    </tr>\n",
              "    <tr>\n",
              "      <th>6</th>\n",
              "      <td>Signature Bank</td>\n",
              "      <td>New York</td>\n",
              "      <td>New York</td>\n",
              "      <td>57053</td>\n",
              "      <td>Flagstar Bank, N.A.</td>\n",
              "      <td>March 12, 2023</td>\n",
              "      <td>10540</td>\n",
              "    </tr>\n",
              "    <tr>\n",
              "      <th>7</th>\n",
              "      <td>Silicon Valley Bank</td>\n",
              "      <td>Santa Clara</td>\n",
              "      <td>California</td>\n",
              "      <td>24735</td>\n",
              "      <td>First Citizens Bank &amp; Trust Company</td>\n",
              "      <td>March 10, 2023</td>\n",
              "      <td>10539</td>\n",
              "    </tr>\n",
              "    <tr>\n",
              "      <th>8</th>\n",
              "      <td>Almena State Bank</td>\n",
              "      <td>Almena</td>\n",
              "      <td>Kansas</td>\n",
              "      <td>15426</td>\n",
              "      <td>Equity Bank</td>\n",
              "      <td>October 23, 2020</td>\n",
              "      <td>10538</td>\n",
              "    </tr>\n",
              "    <tr>\n",
              "      <th>9</th>\n",
              "      <td>First City Bank of Florida</td>\n",
              "      <td>Fort Walton Beach</td>\n",
              "      <td>Florida</td>\n",
              "      <td>16748</td>\n",
              "      <td>United Fidelity Bank, fsb</td>\n",
              "      <td>October 16, 2020</td>\n",
              "      <td>10537</td>\n",
              "    </tr>\n",
              "  </tbody>\n",
              "</table>\n",
              "</div>"
            ],
            "text/plain": [
              "                               Bank Name               City         State  \\\n",
              "0                   Pulaski Savings Bank            Chicago      Illinois   \n",
              "1     The First National Bank of Lindsay            Lindsay      Oklahoma   \n",
              "2  Republic First Bank dba Republic Bank       Philadelphia  Pennsylvania   \n",
              "3                          Citizens Bank           Sac City          Iowa   \n",
              "4               Heartland Tri-State Bank            Elkhart        Kansas   \n",
              "5                    First Republic Bank      San Francisco    California   \n",
              "6                         Signature Bank           New York      New York   \n",
              "7                    Silicon Valley Bank        Santa Clara    California   \n",
              "8                      Almena State Bank             Almena        Kansas   \n",
              "9             First City Bank of Florida  Fort Walton Beach       Florida   \n",
              "\n",
              "    Cert                Acquiring Institution      Closing Date  \\\n",
              "0  28611                      Millennium Bank  January 17, 2025   \n",
              "1   4134   First Bank & Trust Co., Duncan, OK  October 18, 2024   \n",
              "2  27332    Fulton Bank, National Association    April 26, 2024   \n",
              "3   8758            Iowa Trust & Savings Bank  November 3, 2023   \n",
              "4  25851               Dream First Bank, N.A.     July 28, 2023   \n",
              "5  59017            JPMorgan Chase Bank, N.A.       May 1, 2023   \n",
              "6  57053                  Flagstar Bank, N.A.    March 12, 2023   \n",
              "7  24735  First Citizens Bank & Trust Company    March 10, 2023   \n",
              "8  15426                          Equity Bank  October 23, 2020   \n",
              "9  16748            United Fidelity Bank, fsb  October 16, 2020   \n",
              "\n",
              "   Fund  Sort ascending  \n",
              "0                 10548  \n",
              "1                 10547  \n",
              "2                 10546  \n",
              "3                 10545  \n",
              "4                 10544  \n",
              "5                 10543  \n",
              "6                 10540  \n",
              "7                 10539  \n",
              "8                 10538  \n",
              "9                 10537  "
            ]
          },
          "execution_count": 40,
          "metadata": {},
          "output_type": "execute_result"
        }
      ],
      "source": [
        "url = \"https://www.fdic.gov/resources/resolutions/bank-failures/failed-bank-list/\"\n",
        "\n",
        "df = pd.read_html(url)\n",
        "df[0]"
      ]
    },
    {
      "cell_type": "code",
      "execution_count": null,
      "id": "f7878f4c",
      "metadata": {
        "id": "f7878f4c"
      },
      "outputs": [],
      "source": [
        "# !pip install lxml\n",
        "# !pip install html5lib\n",
        "# !pip install beautifulsoup4\n",
        "# !pip install openpyxl"
      ]
    },
    {
      "cell_type": "markdown",
      "id": "58c73c68",
      "metadata": {
        "id": "58c73c68"
      },
      "source": [
        "## Data Visualisation with Matplotlib"
      ]
    },
    {
      "cell_type": "code",
      "execution_count": null,
      "id": "48fab0c8",
      "metadata": {
        "id": "48fab0c8"
      },
      "outputs": [],
      "source": [
        "import matplotlib.pyplot as plt"
      ]
    },
    {
      "cell_type": "code",
      "execution_count": null,
      "id": "791063f8",
      "metadata": {
        "id": "791063f8",
        "outputId": "6154a613-035b-4053-9a81-b6491cea6914"
      },
      "outputs": [
        {
          "data": {
            "image/png": "[encoded data removed]",
            "text/plain": [
              "<Figure size 640x480 with 1 Axes>"
            ]
          },
          "metadata": {},
          "output_type": "display_data"
        }
      ],
      "source": [
        "x = [1, 2, 3, 4, 5]\n",
        "y = [1, 4, 9, 16, 25]\n",
        "\n",
        "## Create a line plot\n",
        "plt.plot(x, y)\n",
        "plt.xlabel('X axis')\n",
        "plt.ylabel('Y Axis')\n",
        "plt.title(\"Basic Line Plot\")\n",
        "plt.show()"
      ]
    },
    {
      "cell_type": "code",
      "execution_count": null,
      "id": "59e1ec74",
      "metadata": {
        "id": "59e1ec74",
        "outputId": "9cfcca67-2803-4389-a6bc-f770f679a46d"
      },
      "outputs": [
        {
          "data": {
            "image/png": "[encoded data removed]",
            "text/plain": [
              "<Figure size 640x480 with 1 Axes>"
            ]
          },
          "metadata": {},
          "output_type": "display_data"
        }
      ],
      "source": [
        "x = [1, 2, 3, 4, 5]\n",
        "y = [1, 4, 9, 16, 25]\n",
        "\n",
        "## Create a customized line plot\n",
        "plt.plot(x, y, color='red', linestyle='--', marker='o', linewidth=3, markersize=9)\n",
        "plt.grid(True)"
      ]
    },
    {
      "cell_type": "code",
      "execution_count": null,
      "id": "f343d4a9",
      "metadata": {
        "id": "f343d4a9",
        "outputId": "dcbf4ea8-0889-4adb-e818-846aa619576e"
      },
      "outputs": [
        {
          "data": {
            "text/plain": [
              "Text(0.5, 1.0, 'Plot 4')"
            ]
          },
          "execution_count": 7,
          "metadata": {},
          "output_type": "execute_result"
        },
        {
          "data": {
            "image/png": "[encoded data removed]",
            "text/plain": [
              "<Figure size 900x500 with 4 Axes>"
            ]
          },
          "metadata": {},
          "output_type": "display_data"
        }
      ],
      "source": [
        "## Multiple Plots\n",
        "## Sample data\n",
        "x = [1, 2, 3, 4, 5]\n",
        "y1 = [1, 4, 9, 16, 25]\n",
        "y2 = [1, 2, 3, 4, 5]\n",
        "\n",
        "plt.figure(figsize=(9, 5))\n",
        "\n",
        "plt.subplot(2, 2, 1)\n",
        "plt.plot(x, y1, color='green')\n",
        "plt.title(\"Plot 1\")\n",
        "\n",
        "plt.subplot(2, 2, 2)\n",
        "plt.plot(y1, x, color='red')\n",
        "plt.title(\"Plot 2\")\n",
        "\n",
        "plt.subplot(2, 2, 3)\n",
        "plt.plot(x, y2, color='blue')\n",
        "plt.title(\"Plot 3\")\n",
        "\n",
        "plt.subplot(2, 2, 4)\n",
        "plt.plot(x, y2, color='green')\n",
        "plt.title(\"Plot 4\")"
      ]
    },
    {
      "cell_type": "code",
      "execution_count": null,
      "id": "b00678a1",
      "metadata": {
        "id": "b00678a1",
        "outputId": "61d0223e-7be5-49b7-89f3-bd6bc2007937"
      },
      "outputs": [
        {
          "data": {
            "image/png": "[encoded data removed]",
            "text/plain": [
              "<Figure size 640x480 with 1 Axes>"
            ]
          },
          "metadata": {},
          "output_type": "display_data"
        }
      ],
      "source": [
        "## Bar Plot\n",
        "categories = ['A', 'B', 'C', 'D', 'E']\n",
        "values = [5, 7, 3, 8, 6]\n",
        "\n",
        "## Create a bar plot\n",
        "plt.bar(categories, values, color='purple')\n",
        "plt.xlabel('Categories')\n",
        "plt.ylabel('Values')\n",
        "plt.title('Bar Plot')\n",
        "plt.show()"
      ]
    },
    {
      "cell_type": "code",
      "execution_count": null,
      "id": "8de1ca8c",
      "metadata": {
        "id": "8de1ca8c",
        "outputId": "7c2bd21d-2a7e-4d79-89d7-69629ee660aa"
      },
      "outputs": [
        {
          "data": {
            "text/plain": [
              "(array([1., 2., 3., 4., 5.]),\n",
              " array([1. , 1.8, 2.6, 3.4, 4.2, 5. ]),\n",
              " <BarContainer object of 5 artists>)"
            ]
          },
          "execution_count": 9,
          "metadata": {},
          "output_type": "execute_result"
        },
        {
          "data": {
            "image/png": "[encoded data removed]",
            "text/plain": [
              "<Figure size 640x480 with 1 Axes>"
            ]
          },
          "metadata": {},
          "output_type": "display_data"
        }
      ],
      "source": [
        "## Histograms are used to represent the distribution of a dataset.\n",
        "## They divide the data into bins and count the number of data points in each bin.\n",
        "\n",
        "# Sample data\n",
        "data = [1, 2, 2, 3, 3, 3, 4, 4, 4, 4, 5, 5, 5, 5, 5]\n",
        "\n",
        "## Create a histogram\n",
        "plt.hist(data, bins=5, color='orange', edgecolor='black')"
      ]
    },
    {
      "cell_type": "code",
      "execution_count": null,
      "id": "098b33dd",
      "metadata": {
        "id": "098b33dd",
        "outputId": "fad7c525-b4b7-4dfd-ce1f-586efc7b1a41"
      },
      "outputs": [
        {
          "data": {
            "text/plain": [
              "<matplotlib.collections.PathCollection at 0x2b3846161b0>"
            ]
          },
          "execution_count": 10,
          "metadata": {},
          "output_type": "execute_result"
        },
        {
          "data": {
            "image/png": "[encoded data removed]",
            "text/plain": [
              "<Figure size 640x480 with 1 Axes>"
            ]
          },
          "metadata": {},
          "output_type": "display_data"
        }
      ],
      "source": [
        "## Create a scatter plot\n",
        "## Sample data\n",
        "x = [1, 2, 3, 4, 5]\n",
        "y = [2, 3, 4, 5, 6]\n",
        "\n",
        "plt.scatter(x, y, color=\"blue\", marker='x')"
      ]
    },
    {
      "cell_type": "code",
      "execution_count": null,
      "id": "642e1a9d",
      "metadata": {
        "id": "642e1a9d",
        "outputId": "bc7d70f1-14ab-4f4c-a823-3981423144c7"
      },
      "outputs": [
        {
          "data": {
            "text/plain": [
              "([<matplotlib.patches.Wedge at 0x2b3877abb60>,\n",
              "  <matplotlib.patches.Wedge at 0x2b387ca7d40>,\n",
              "  <matplotlib.patches.Wedge at 0x2b387cc3530>,\n",
              "  <matplotlib.patches.Wedge at 0x2b387cc3d40>],\n",
              " [Text(0.7641207377093499, 1.0517221582730485, 'A'),\n",
              "  Text(-0.8899187390319623, 0.6465637152823859, 'B'),\n",
              "  Text(-0.3399188151951704, -1.046162128485022, 'C'),\n",
              "  Text(1.0461621838648125, -0.339918644753721, 'D')],\n",
              " [Text(0.47022814628267684, 0.6472136358603374, '30.0%'),\n",
              "  Text(-0.4854102212901612, 0.3526711174267559, '20.0%'),\n",
              "  Text(-0.1854102628337293, -0.5706338882645574, '40.0%'),\n",
              "  Text(0.5706339184717159, -0.185410169865666, '10.0%')])"
            ]
          },
          "execution_count": 11,
          "metadata": {},
          "output_type": "execute_result"
        },
        {
          "data": {
            "image/png": "[encoded data removed]",
            "text/plain": [
              "<Figure size 640x480 with 1 Axes>"
            ]
          },
          "metadata": {},
          "output_type": "display_data"
        }
      ],
      "source": [
        "## Pie chart\n",
        "\n",
        "labels = ['A', 'B', 'C', 'D']\n",
        "sizes = [30, 20, 40, 10]\n",
        "colors = ['gold', 'yellowgreen', 'lightcoral', 'lightskyblue']\n",
        "explode = (0.2, 0, 0, 0) ## move out the 1st slice\n",
        "\n",
        "## Create a pie chart\n",
        "plt.pie(sizes, explode=explode, labels=labels, colors=colors, autopct=\"%1.1f%%\", shadow=True)"
      ]
    },
    {
      "cell_type": "markdown",
      "id": "ac372d9a",
      "metadata": {
        "id": "ac372d9a"
      },
      "source": [
        "## Data Visualisation with Seaborn"
      ]
    },
    {
      "cell_type": "code",
      "execution_count": null,
      "id": "c50dc81e",
      "metadata": {
        "id": "c50dc81e"
      },
      "outputs": [],
      "source": [
        "## Seaborn is a Python visualization library based on Matplotlib that provides a\n",
        "## high-level interface for drawing attractive and informative statistical graphics."
      ]
    },
    {
      "cell_type": "code",
      "execution_count": null,
      "id": "c048885e",
      "metadata": {
        "id": "c048885e"
      },
      "outputs": [],
      "source": [
        "import seaborn as sns\n",
        "import matplotlib.pyplot as plt"
      ]
    },
    {
      "cell_type": "code",
      "execution_count": null,
      "id": "6da05b12",
      "metadata": {
        "id": "6da05b12",
        "outputId": "274fdabe-f381-4842-ce7b-0c3ef2e8894c"
      },
      "outputs": [
        {
          "data": {
            "text/html": [
              "<div>\n",
              "<style scoped>\n",
              "    .dataframe tbody tr th:only-of-type {\n",
              "        vertical-align: middle;\n",
              "    }\n",
              "\n",
              "    .dataframe tbody tr th {\n",
              "        vertical-align: top;\n",
              "    }\n",
              "\n",
              "    .dataframe thead th {\n",
              "        text-align: right;\n",
              "    }\n",
              "</style>\n",
              "<table border=\"1\" class=\"dataframe\">\n",
              "  <thead>\n",
              "    <tr style=\"text-align: right;\">\n",
              "      <th></th>\n",
              "      <th>total_bill</th>\n",
              "      <th>tip</th>\n",
              "      <th>sex</th>\n",
              "      <th>smoker</th>\n",
              "      <th>day</th>\n",
              "      <th>time</th>\n",
              "      <th>size</th>\n",
              "    </tr>\n",
              "  </thead>\n",
              "  <tbody>\n",
              "    <tr>\n",
              "      <th>0</th>\n",
              "      <td>16.99</td>\n",
              "      <td>1.01</td>\n",
              "      <td>Female</td>\n",
              "      <td>No</td>\n",
              "      <td>Sun</td>\n",
              "      <td>Dinner</td>\n",
              "      <td>2</td>\n",
              "    </tr>\n",
              "    <tr>\n",
              "      <th>1</th>\n",
              "      <td>10.34</td>\n",
              "      <td>1.66</td>\n",
              "      <td>Male</td>\n",
              "      <td>No</td>\n",
              "      <td>Sun</td>\n",
              "      <td>Dinner</td>\n",
              "      <td>3</td>\n",
              "    </tr>\n",
              "    <tr>\n",
              "      <th>2</th>\n",
              "      <td>21.01</td>\n",
              "      <td>3.50</td>\n",
              "      <td>Male</td>\n",
              "      <td>No</td>\n",
              "      <td>Sun</td>\n",
              "      <td>Dinner</td>\n",
              "      <td>3</td>\n",
              "    </tr>\n",
              "    <tr>\n",
              "      <th>3</th>\n",
              "      <td>23.68</td>\n",
              "      <td>3.31</td>\n",
              "      <td>Male</td>\n",
              "      <td>No</td>\n",
              "      <td>Sun</td>\n",
              "      <td>Dinner</td>\n",
              "      <td>2</td>\n",
              "    </tr>\n",
              "    <tr>\n",
              "      <th>4</th>\n",
              "      <td>24.59</td>\n",
              "      <td>3.61</td>\n",
              "      <td>Female</td>\n",
              "      <td>No</td>\n",
              "      <td>Sun</td>\n",
              "      <td>Dinner</td>\n",
              "      <td>4</td>\n",
              "    </tr>\n",
              "    <tr>\n",
              "      <th>...</th>\n",
              "      <td>...</td>\n",
              "      <td>...</td>\n",
              "      <td>...</td>\n",
              "      <td>...</td>\n",
              "      <td>...</td>\n",
              "      <td>...</td>\n",
              "      <td>...</td>\n",
              "    </tr>\n",
              "    <tr>\n",
              "      <th>239</th>\n",
              "      <td>29.03</td>\n",
              "      <td>5.92</td>\n",
              "      <td>Male</td>\n",
              "      <td>No</td>\n",
              "      <td>Sat</td>\n",
              "      <td>Dinner</td>\n",
              "      <td>3</td>\n",
              "    </tr>\n",
              "    <tr>\n",
              "      <th>240</th>\n",
              "      <td>27.18</td>\n",
              "      <td>2.00</td>\n",
              "      <td>Female</td>\n",
              "      <td>Yes</td>\n",
              "      <td>Sat</td>\n",
              "      <td>Dinner</td>\n",
              "      <td>2</td>\n",
              "    </tr>\n",
              "    <tr>\n",
              "      <th>241</th>\n",
              "      <td>22.67</td>\n",
              "      <td>2.00</td>\n",
              "      <td>Male</td>\n",
              "      <td>Yes</td>\n",
              "      <td>Sat</td>\n",
              "      <td>Dinner</td>\n",
              "      <td>2</td>\n",
              "    </tr>\n",
              "    <tr>\n",
              "      <th>242</th>\n",
              "      <td>17.82</td>\n",
              "      <td>1.75</td>\n",
              "      <td>Male</td>\n",
              "      <td>No</td>\n",
              "      <td>Sat</td>\n",
              "      <td>Dinner</td>\n",
              "      <td>2</td>\n",
              "    </tr>\n",
              "    <tr>\n",
              "      <th>243</th>\n",
              "      <td>18.78</td>\n",
              "      <td>3.00</td>\n",
              "      <td>Female</td>\n",
              "      <td>No</td>\n",
              "      <td>Thur</td>\n",
              "      <td>Dinner</td>\n",
              "      <td>2</td>\n",
              "    </tr>\n",
              "  </tbody>\n",
              "</table>\n",
              "<p>244 rows × 7 columns</p>\n",
              "</div>"
            ],
            "text/plain": [
              "     total_bill   tip     sex smoker   day    time  size\n",
              "0         16.99  1.01  Female     No   Sun  Dinner     2\n",
              "1         10.34  1.66    Male     No   Sun  Dinner     3\n",
              "2         21.01  3.50    Male     No   Sun  Dinner     3\n",
              "3         23.68  3.31    Male     No   Sun  Dinner     2\n",
              "4         24.59  3.61  Female     No   Sun  Dinner     4\n",
              "..          ...   ...     ...    ...   ...     ...   ...\n",
              "239       29.03  5.92    Male     No   Sat  Dinner     3\n",
              "240       27.18  2.00  Female    Yes   Sat  Dinner     2\n",
              "241       22.67  2.00    Male    Yes   Sat  Dinner     2\n",
              "242       17.82  1.75    Male     No   Sat  Dinner     2\n",
              "243       18.78  3.00  Female     No  Thur  Dinner     2\n",
              "\n",
              "[244 rows x 7 columns]"
            ]
          },
          "execution_count": 15,
          "metadata": {},
          "output_type": "execute_result"
        }
      ],
      "source": [
        "## Basic Plotting with Seaborn\n",
        "tips = sns.load_dataset('tips')\n",
        "tips"
      ]
    },
    {
      "cell_type": "code",
      "execution_count": null,
      "id": "7411197b",
      "metadata": {
        "id": "7411197b",
        "outputId": "b9e5759d-bbad-4296-a4ee-782fa10a326a"
      },
      "outputs": [
        {
          "data": {
            "image/png": "[encoded data removed]",
            "text/plain": [
              "<Figure size 640x480 with 1 Axes>"
            ]
          },
          "metadata": {},
          "output_type": "display_data"
        }
      ],
      "source": [
        "## Create a scatter plot\n",
        "\n",
        "sns.scatterplot(x='total_bill', y='tip', data=tips)\n",
        "plt.title(\"Scatter Plot of Total Bill vs Tip\")\n",
        "plt.show()"
      ]
    },
    {
      "cell_type": "code",
      "execution_count": null,
      "id": "09e0c300",
      "metadata": {
        "id": "09e0c300",
        "outputId": "088fbbec-5c12-4776-dd50-c841a292542a"
      },
      "outputs": [
        {
          "data": {
            "image/png": "[encoded data removed]",
            "text/plain": [
              "<Figure size 640x480 with 1 Axes>"
            ]
          },
          "metadata": {},
          "output_type": "display_data"
        }
      ],
      "source": [
        "## Line Plot\n",
        "\n",
        "sns.lineplot(x='size', y='total_bill', data=tips)\n",
        "plt.title(\"Line Plot of Total bill by size\")\n",
        "plt.show()"
      ]
    },
    {
      "cell_type": "code",
      "execution_count": null,
      "id": "06bfe225",
      "metadata": {
        "id": "06bfe225",
        "outputId": "71c76712-4005-48d5-83ec-6f255bd56acd"
      },
      "outputs": [
        {
          "data": {
            "image/png": "[encoded data removed]",
            "text/plain": [
              "<Figure size 640x480 with 1 Axes>"
            ]
          },
          "metadata": {},
          "output_type": "display_data"
        }
      ],
      "source": [
        "## Bar Plot\n",
        "sns.barplot(x='day', y='total_bill', data=tips)\n",
        "plt.title('Bar Plot of Total Bill By Day')\n",
        "plt.show()"
      ]
    },
    {
      "cell_type": "code",
      "execution_count": null,
      "id": "9e68de6a",
      "metadata": {
        "id": "9e68de6a",
        "outputId": "d27504c9-572a-4e53-ee1c-d2670245d357"
      },
      "outputs": [
        {
          "data": {
            "image/png": "[encoded data removed]",
            "text/plain": [
              "<Figure size 640x480 with 1 Axes>"
            ]
          },
          "metadata": {},
          "output_type": "display_data"
        }
      ],
      "source": [
        "## Box Plot\n",
        "sns.boxplot(x=\"day\", y='total_bill', data=tips)\n",
        "plt.title('Box Plot of Total Bill By Day')\n",
        "plt.show()"
      ]
    },
    {
      "cell_type": "code",
      "execution_count": null,
      "id": "df4a6c9c",
      "metadata": {
        "id": "df4a6c9c",
        "outputId": "10551a3d-9682-4bcb-87aa-ad3e3208282e"
      },
      "outputs": [
        {
          "data": {
            "image/png": "[encoded data removed]",
            "text/plain": [
              "<Figure size 640x480 with 1 Axes>"
            ]
          },
          "metadata": {},
          "output_type": "display_data"
        }
      ],
      "source": [
        "## Violin Plot\n",
        "\n",
        "sns.violinplot(x='day', y='total_bill', data=tips)\n",
        "plt.title('Violin Plot of Total Bill By Day')\n",
        "plt.show()"
      ]
    },
    {
      "cell_type": "code",
      "execution_count": null,
      "id": "aa0805a6",
      "metadata": {
        "id": "aa0805a6",
        "outputId": "11c227ff-c7ea-4d8d-e13c-85e08d780cf5"
      },
      "outputs": [
        {
          "data": {
            "image/png": "[encoded data removed]",
            "text/plain": [
              "<Figure size 640x480 with 1 Axes>"
            ]
          },
          "metadata": {},
          "output_type": "display_data"
        }
      ],
      "source": [
        "## Histograms\n",
        "sns.histplot(tips['total_bill'], bins=10, kde=True)\n",
        "plt.title('Histogram of Total Bill')\n",
        "plt.show()"
      ]
    },
    {
      "cell_type": "code",
      "execution_count": null,
      "id": "03102cae",
      "metadata": {
        "id": "03102cae",
        "outputId": "c3e6e00d-7ab3-4c70-ba6f-19673c5d6832"
      },
      "outputs": [
        {
          "data": {
            "image/png": "[encoded data removed]",
            "text/plain": [
              "<Figure size 640x480 with 1 Axes>"
            ]
          },
          "metadata": {},
          "output_type": "display_data"
        }
      ],
      "source": [
        "## KDE Plot\n",
        "sns.kdeplot(tips['total_bill'], fill=True)\n",
        "plt.title('KDE Plot of Total Bill')\n",
        "plt.show()"
      ]
    },
    {
      "cell_type": "code",
      "execution_count": null,
      "id": "879d6318",
      "metadata": {
        "id": "879d6318",
        "outputId": "45fc5469-8367-4be7-de26-ca613d9ad782"
      },
      "outputs": [
        {
          "data": {
            "image/png": "[encoded data removed]",
            "text/plain": [
              "<Figure size 750x750 with 12 Axes>"
            ]
          },
          "metadata": {},
          "output_type": "display_data"
        }
      ],
      "source": [
        "## Pairplot\n",
        "sns.pairplot(tips)\n",
        "plt.show()"
      ]
    },
    {
      "cell_type": "code",
      "execution_count": null,
      "id": "77024656",
      "metadata": {
        "id": "77024656",
        "outputId": "879a1dfa-b2b8-4d72-b6a0-edb0a9a4bd64"
      },
      "outputs": [
        {
          "data": {
            "text/html": [
              "<div>\n",
              "<style scoped>\n",
              "    .dataframe tbody tr th:only-of-type {\n",
              "        vertical-align: middle;\n",
              "    }\n",
              "\n",
              "    .dataframe tbody tr th {\n",
              "        vertical-align: top;\n",
              "    }\n",
              "\n",
              "    .dataframe thead th {\n",
              "        text-align: right;\n",
              "    }\n",
              "</style>\n",
              "<table border=\"1\" class=\"dataframe\">\n",
              "  <thead>\n",
              "    <tr style=\"text-align: right;\">\n",
              "      <th></th>\n",
              "      <th>total_bill</th>\n",
              "      <th>tip</th>\n",
              "      <th>size</th>\n",
              "    </tr>\n",
              "  </thead>\n",
              "  <tbody>\n",
              "    <tr>\n",
              "      <th>total_bill</th>\n",
              "      <td>1.000000</td>\n",
              "      <td>0.675734</td>\n",
              "      <td>0.598315</td>\n",
              "    </tr>\n",
              "    <tr>\n",
              "      <th>tip</th>\n",
              "      <td>0.675734</td>\n",
              "      <td>1.000000</td>\n",
              "      <td>0.489299</td>\n",
              "    </tr>\n",
              "    <tr>\n",
              "      <th>size</th>\n",
              "      <td>0.598315</td>\n",
              "      <td>0.489299</td>\n",
              "      <td>1.000000</td>\n",
              "    </tr>\n",
              "  </tbody>\n",
              "</table>\n",
              "</div>"
            ],
            "text/plain": [
              "            total_bill       tip      size\n",
              "total_bill    1.000000  0.675734  0.598315\n",
              "tip           0.675734  1.000000  0.489299\n",
              "size          0.598315  0.489299  1.000000"
            ]
          },
          "execution_count": 25,
          "metadata": {},
          "output_type": "execute_result"
        }
      ],
      "source": [
        "## Correlation\n",
        "corr = tips[['total_bill', 'tip', 'size']].corr()\n",
        "corr"
      ]
    },
    {
      "cell_type": "code",
      "execution_count": null,
      "id": "59091f9b",
      "metadata": {
        "id": "59091f9b",
        "outputId": "cf430e89-a430-44df-de1e-db4c7470b866"
      },
      "outputs": [
        {
          "data": {
            "image/png": "[encoded data removed]",
            "text/plain": [
              "<Figure size 640x480 with 2 Axes>"
            ]
          },
          "metadata": {},
          "output_type": "display_data"
        }
      ],
      "source": [
        "## Heatmap\n",
        "sns.heatmap(corr, annot=True, cmap='coolwarm')\n",
        "plt.show()"
      ]
    }
  ],
  "metadata": {
    "kernelspec": {
      "display_name": "Python 3",
      "language": "python",
      "name": "python3"
    },
    "language_info": {
      "codemirror_mode": {
        "name": "ipython",
        "version": 3
      },
      "file_extension": ".py",
      "mimetype": "text/x-python",
      "name": "python",
      "nbconvert_exporter": "python",
      "pygments_lexer": "ipython3",
      "version": "3.12.0"
    },
    "colab": {
      "provenance": [],
      "include_colab_link": true
    }
  },
  "nbformat": 4,
  "nbformat_minor": 5
}
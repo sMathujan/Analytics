{
  "cells": [
    {
      "cell_type": "markdown",
      "metadata": {
        "id": "view-in-github",
        "colab_type": "text"
      },
      "source": [
        "<a href=\"https://colab.research.google.com/github/sMathujan/Analytics/blob/main/Python_for_Data_Analytics.ipynb\" target=\"_parent\"><img src=\"https://colab.research.google.com/assets/colab-badge.svg\" alt=\"Open In Colab\"/></a>"
      ]
    },
    {
      "cell_type": "markdown",
      "id": "ef0d8ab9",
      "metadata": {
        "id": "ef0d8ab9"
      },
      "source": [
        "## Python Basics"
      ]
    },
    {
      "cell_type": "markdown",
      "id": "b15d969c",
      "metadata": {
        "id": "b15d969c"
      },
      "source": [
        "### 1 - Syntax and Semantics in Python"
      ]
    },
    {
      "cell_type": "code",
      "execution_count": null,
      "id": "42a1daf8",
      "metadata": {
        "id": "42a1daf8",
        "outputId": "6cb463e4-efdc-4770-b93a-d834f2cd4284"
      },
      "outputs": [
        {
          "name": "stdout",
          "output_type": "stream",
          "text": [
            "Mathujan\n",
            "Sivananthan\n"
          ]
        }
      ],
      "source": [
        "## Python is case sensitive\n",
        "\n",
        "name = \"Mathujan\"\n",
        "Name = \"Sivananthan\"\n",
        "\n",
        "print(name)\n",
        "print(Name)"
      ]
    },
    {
      "cell_type": "code",
      "execution_count": null,
      "id": "a81b7438",
      "metadata": {
        "id": "a81b7438",
        "outputId": "724408f8-3b7f-45ce-f028-589586498d0a"
      },
      "outputs": [
        {
          "name": "stdout",
          "output_type": "stream",
          "text": [
            "32\n",
            "32\n"
          ]
        }
      ],
      "source": [
        "## Python uses indentation to define blocks of code. Consistent use of spaces (commonly 4) or a tab is required.\n",
        "\n",
        "age=32\n",
        "if age>30:\n",
        "    print(age)\n",
        "\n",
        "print(age)"
      ]
    },
    {
      "cell_type": "code",
      "execution_count": null,
      "id": "9ee15761",
      "metadata": {
        "id": "9ee15761",
        "outputId": "2c40e375-39c0-45fe-b238-a07572f6640a"
      },
      "outputs": [
        {
          "name": "stdout",
          "output_type": "stream",
          "text": [
            "Hello World\n"
          ]
        }
      ],
      "source": [
        "## This is a single line comment\n",
        "\n",
        "print(\"Hello World\")"
      ]
    },
    {
      "cell_type": "code",
      "execution_count": null,
      "id": "e3c54230",
      "metadata": {
        "id": "e3c54230",
        "outputId": "d27a5b2c-e2d3-4626-b5ce-d60ba616e230"
      },
      "outputs": [
        {
          "name": "stdout",
          "output_type": "stream",
          "text": [
            "43\n"
          ]
        }
      ],
      "source": [
        "## Line Continuation\n",
        "## Use a backslash (\\) to continue a statement to the next line\n",
        "\n",
        "total = 1+2+3+4+5+6+7+\\\n",
        "4+5+6\n",
        "\n",
        "print(total)"
      ]
    },
    {
      "cell_type": "code",
      "execution_count": null,
      "id": "a6ae7a2d",
      "metadata": {
        "id": "a6ae7a2d",
        "outputId": "0dba7d7c-a358-46c3-8e5b-d90bcfd97cde"
      },
      "outputs": [
        {
          "name": "stdout",
          "output_type": "stream",
          "text": [
            "15\n"
          ]
        }
      ],
      "source": [
        "## Multiple Statements on a single line\n",
        "\n",
        "x=5;y=10;z=x+y\n",
        "print(z)"
      ]
    },
    {
      "cell_type": "code",
      "execution_count": null,
      "id": "1bda9838",
      "metadata": {
        "id": "1bda9838"
      },
      "outputs": [],
      "source": [
        "## Understand  Semnatics in Python\n",
        "\n",
        "# Variable assignment\n",
        "age = 32 ##age is an integer\n",
        "name = \"Mathujan\" ##name is a string"
      ]
    },
    {
      "cell_type": "code",
      "execution_count": null,
      "id": "38d98333",
      "metadata": {
        "id": "38d98333",
        "outputId": "0dc775d2-c31d-4410-e890-586812868300"
      },
      "outputs": [
        {
          "data": {
            "text/plain": [
              "int"
            ]
          },
          "execution_count": 7,
          "metadata": {},
          "output_type": "execute_result"
        }
      ],
      "source": [
        "type(age)"
      ]
    },
    {
      "cell_type": "code",
      "execution_count": null,
      "id": "ca74565f",
      "metadata": {
        "id": "ca74565f",
        "outputId": "766ea91c-5358-4887-8df3-6f66ba41320d"
      },
      "outputs": [
        {
          "data": {
            "text/plain": [
              "str"
            ]
          },
          "execution_count": 8,
          "metadata": {},
          "output_type": "execute_result"
        }
      ],
      "source": [
        "type(name)"
      ]
    },
    {
      "cell_type": "code",
      "execution_count": null,
      "id": "6f7e31eb",
      "metadata": {
        "id": "6f7e31eb",
        "outputId": "da9a7734-60a9-444c-f311-b6d0196a4f55"
      },
      "outputs": [
        {
          "name": "stdout",
          "output_type": "stream",
          "text": [
            "<class 'int'>\n",
            "<class 'str'>\n"
          ]
        }
      ],
      "source": [
        "## Type Inference\n",
        "\n",
        "variable = 10\n",
        "print(type(variable))\n",
        "\n",
        "variable = \"Mathujan\"\n",
        "print(type(variable))"
      ]
    },
    {
      "cell_type": "markdown",
      "id": "2bdc8fa0",
      "metadata": {
        "id": "2bdc8fa0"
      },
      "source": [
        "### 2 - Variables"
      ]
    },
    {
      "cell_type": "code",
      "execution_count": null,
      "id": "2ab06d6f",
      "metadata": {
        "id": "2ab06d6f"
      },
      "outputs": [],
      "source": [
        "# Invalid variable names\n",
        "\n",
        "# 2age = 10\n",
        "# first-name = \"Mathujan\"\n",
        "# @name = \"Mathujan\""
      ]
    },
    {
      "cell_type": "code",
      "execution_count": null,
      "id": "52d24a25",
      "metadata": {
        "id": "52d24a25",
        "outputId": "f9fb121e-7025-4a9f-9b1a-7666601e133d"
      },
      "outputs": [
        {
          "name": "stdout",
          "output_type": "stream",
          "text": [
            "<class 'str'>\n",
            "<class 'int'>\n"
          ]
        }
      ],
      "source": [
        "## Python is dynamically typed, type of a variable is determined at runtime\n",
        "\n",
        "age='25'\n",
        "print(type(age))\n",
        "print(type(int(age)))"
      ]
    },
    {
      "cell_type": "code",
      "execution_count": null,
      "id": "6a07b6d0",
      "metadata": {
        "id": "6a07b6d0",
        "outputId": "d9866f32-46f5-47b8-d3e2-8fc5bf4752c4"
      },
      "outputs": [
        {
          "ename": "ValueError",
          "evalue": "invalid literal for int() with base 10: 'Mathujan'",
          "output_type": "error",
          "traceback": [
            "\u001b[31m---------------------------------------------------------------------------\u001b[39m",
            "\u001b[31mValueError\u001b[39m                                Traceback (most recent call last)",
            "\u001b[36mCell\u001b[39m\u001b[36m \u001b[39m\u001b[32mIn[18]\u001b[39m\u001b[32m, line 2\u001b[39m\n\u001b[32m      1\u001b[39m name = \u001b[33m\"\u001b[39m\u001b[33mMathujan\u001b[39m\u001b[33m\"\u001b[39m\n\u001b[32m----> \u001b[39m\u001b[32m2\u001b[39m \u001b[38;5;28;43mint\u001b[39;49m\u001b[43m(\u001b[49m\u001b[43mname\u001b[49m\u001b[43m)\u001b[49m\n",
            "\u001b[31mValueError\u001b[39m: invalid literal for int() with base 10: 'Mathujan'"
          ]
        }
      ],
      "source": [
        "name = \"Mathujan\"\n",
        "int(name)"
      ]
    },
    {
      "cell_type": "code",
      "execution_count": null,
      "id": "6ffa6f8a",
      "metadata": {
        "id": "6ffa6f8a",
        "outputId": "f114d0ed-77be-4527-8bbe-a9c0307da77c"
      },
      "outputs": [
        {
          "data": {
            "text/plain": [
              "float"
            ]
          },
          "execution_count": 21,
          "metadata": {},
          "output_type": "execute_result"
        }
      ],
      "source": [
        "height = 6.2\n",
        "type(height)"
      ]
    },
    {
      "cell_type": "code",
      "execution_count": null,
      "id": "a6b04634",
      "metadata": {
        "id": "a6b04634",
        "outputId": "31c8e9f8-c600-47df-f43a-2191d46e5d56"
      },
      "outputs": [
        {
          "data": {
            "text/plain": [
              "6.0"
            ]
          },
          "execution_count": 22,
          "metadata": {},
          "output_type": "execute_result"
        }
      ],
      "source": [
        "float(int(height))"
      ]
    },
    {
      "cell_type": "code",
      "execution_count": null,
      "id": "409e4e72",
      "metadata": {
        "id": "409e4e72",
        "outputId": "4569f836-311c-4484-b799-94f8b5cc24f0"
      },
      "outputs": [
        {
          "name": "stdout",
          "output_type": "stream",
          "text": [
            "10 <class 'int'>\n",
            "Hello <class 'str'>\n",
            "3.14 <class 'float'>\n"
          ]
        }
      ],
      "source": [
        "## Python allows the type of a vraible to change as the program executes\n",
        "\n",
        "var = 10\n",
        "print(var, type(var))\n",
        "\n",
        "var = \"Hello\"\n",
        "print(var, type(var))\n",
        "\n",
        "var = 3.14\n",
        "print(var, type(var))"
      ]
    },
    {
      "cell_type": "code",
      "execution_count": null,
      "id": "d41e4ce8",
      "metadata": {
        "id": "d41e4ce8",
        "outputId": "4074927f-4241-48db-f8ed-ab80cb25cb85"
      },
      "outputs": [
        {
          "name": "stdout",
          "output_type": "stream",
          "text": [
            "23 <class 'int'>\n"
          ]
        }
      ],
      "source": [
        "## Input\n",
        "\n",
        "age = int(input(\"What is your age?\"))\n",
        "print(age, type(age))"
      ]
    },
    {
      "cell_type": "markdown",
      "id": "46dd0293",
      "metadata": {
        "id": "46dd0293"
      },
      "source": [
        "### 3 - Data Types"
      ]
    },
    {
      "cell_type": "code",
      "execution_count": null,
      "id": "1b168ee5",
      "metadata": {
        "id": "1b168ee5",
        "outputId": "a27d3e9a-b9b4-422c-cfdb-ad17a7c4a34a"
      },
      "outputs": [
        {
          "data": {
            "text/plain": [
              "int"
            ]
          },
          "execution_count": 25,
          "metadata": {},
          "output_type": "execute_result"
        }
      ],
      "source": [
        "## Integer\n",
        "age = 12\n",
        "type(age)"
      ]
    },
    {
      "cell_type": "code",
      "execution_count": null,
      "id": "d444deba",
      "metadata": {
        "id": "d444deba",
        "outputId": "692faf7a-8222-4cf4-fb51-b2a859554563"
      },
      "outputs": [
        {
          "name": "stdout",
          "output_type": "stream",
          "text": [
            "5.11\n",
            "<class 'float'>\n"
          ]
        }
      ],
      "source": [
        "## Floating point\n",
        "\n",
        "height = 5.11\n",
        "print(height)\n",
        "print(type(height))"
      ]
    },
    {
      "cell_type": "code",
      "execution_count": null,
      "id": "47df0911",
      "metadata": {
        "id": "47df0911",
        "outputId": "4b7c44d8-b0cb-4d04-b8e3-176e7389d4c1"
      },
      "outputs": [
        {
          "name": "stdout",
          "output_type": "stream",
          "text": [
            "Mathujan\n",
            "<class 'str'>\n"
          ]
        }
      ],
      "source": [
        "## String\n",
        "\n",
        "name = \"Mathujan\"\n",
        "print(name)\n",
        "print(type(name))"
      ]
    },
    {
      "cell_type": "code",
      "execution_count": null,
      "id": "bc360803",
      "metadata": {
        "id": "bc360803",
        "outputId": "2bb83238-c4a5-4d4f-ee28-1af3373fc865"
      },
      "outputs": [
        {
          "data": {
            "text/plain": [
              "bool"
            ]
          },
          "execution_count": 28,
          "metadata": {},
          "output_type": "execute_result"
        }
      ],
      "source": [
        "## Boolean\n",
        "\n",
        "is_true = True\n",
        "type(is_true)"
      ]
    },
    {
      "cell_type": "code",
      "execution_count": null,
      "id": "96518936",
      "metadata": {
        "id": "96518936",
        "outputId": "e881a2ea-ce53-4785-a237-661adebdae02"
      },
      "outputs": [
        {
          "data": {
            "text/plain": [
              "bool"
            ]
          },
          "execution_count": 29,
          "metadata": {},
          "output_type": "execute_result"
        }
      ],
      "source": [
        "a = 10\n",
        "b = 10\n",
        "\n",
        "type(a==b)"
      ]
    },
    {
      "cell_type": "code",
      "execution_count": null,
      "id": "eebe5f4e",
      "metadata": {
        "id": "eebe5f4e",
        "outputId": "565ca71e-3c2b-45a2-d567-74afd1c1e122"
      },
      "outputs": [
        {
          "ename": "TypeError",
          "evalue": "can only concatenate str (not \"int\") to str",
          "output_type": "error",
          "traceback": [
            "\u001b[31m---------------------------------------------------------------------------\u001b[39m",
            "\u001b[31mTypeError\u001b[39m                                 Traceback (most recent call last)",
            "\u001b[36mCell\u001b[39m\u001b[36m \u001b[39m\u001b[32mIn[30]\u001b[39m\u001b[32m, line 1\u001b[39m\n\u001b[32m----> \u001b[39m\u001b[32m1\u001b[39m result = \u001b[33;43m\"\u001b[39;49m\u001b[33;43mHello\u001b[39;49m\u001b[33;43m\"\u001b[39;49m\u001b[43m \u001b[49m\u001b[43m+\u001b[49m\u001b[43m \u001b[49m\u001b[32;43m5\u001b[39;49m\n",
            "\u001b[31mTypeError\u001b[39m: can only concatenate str (not \"int\") to str"
          ]
        }
      ],
      "source": [
        "result = \"Hello\" + 5"
      ]
    },
    {
      "cell_type": "code",
      "execution_count": null,
      "id": "76f0b03c",
      "metadata": {
        "id": "76f0b03c",
        "outputId": "c6dce391-33cf-466c-87e8-3fa3e6757698"
      },
      "outputs": [
        {
          "name": "stdout",
          "output_type": "stream",
          "text": [
            "Hello5\n"
          ]
        }
      ],
      "source": [
        "result = \"Hello\" + str(5)\n",
        "print(result)"
      ]
    },
    {
      "cell_type": "markdown",
      "id": "d4bbe9a5",
      "metadata": {
        "id": "d4bbe9a5"
      },
      "source": [
        "### 4 - Operators"
      ]
    },
    {
      "cell_type": "code",
      "execution_count": null,
      "id": "a493a051",
      "metadata": {
        "id": "a493a051",
        "outputId": "c715748e-8bf5-4a8f-cdda-6b284743ef5c"
      },
      "outputs": [
        {
          "name": "stdout",
          "output_type": "stream",
          "text": [
            "add_result:  15\n",
            "sub_result:  5\n",
            "mult_result:  50\n",
            "div_result:  2.0\n",
            "floor_div_result:  2\n",
            "modulus_result:  0\n",
            "exponent_result:  100000\n"
          ]
        }
      ],
      "source": [
        "## Arithmethic Operation\n",
        "\n",
        "a = 10\n",
        "b = 5\n",
        "\n",
        "add_result = a+b  #addition\n",
        "sub_result = a-b  #substraction\n",
        "mult_result = a*b #multiplication\n",
        "div_result = a/b  #division\n",
        "floor_div_result = a//b #floor division\n",
        "modulus_result = a%b #modulus operation\n",
        "exponent_result = a**b #exponentiation\n",
        "\n",
        "\n",
        "print(\"add_result: \",add_result)\n",
        "print(\"sub_result: \",sub_result)\n",
        "print(\"mult_result: \",mult_result)\n",
        "print(\"div_result: \",div_result)\n",
        "print(\"floor_div_result: \",floor_div_result)\n",
        "print(\"modulus_result: \",modulus_result)\n",
        "print(\"exponent_result: \",exponent_result)"
      ]
    },
    {
      "cell_type": "code",
      "execution_count": null,
      "id": "59172bb1",
      "metadata": {
        "id": "59172bb1",
        "outputId": "ed51e3d4-5043-4895-f334-4d28c4b75458"
      },
      "outputs": [
        {
          "data": {
            "text/plain": [
              "True"
            ]
          },
          "execution_count": 36,
          "metadata": {},
          "output_type": "execute_result"
        }
      ],
      "source": [
        "## Comparison Operators\n",
        "\n",
        "## == Equal to\n",
        "a = 10\n",
        "b = 10\n",
        "\n",
        "a == b"
      ]
    },
    {
      "cell_type": "code",
      "execution_count": null,
      "id": "3c61127f",
      "metadata": {
        "id": "3c61127f",
        "outputId": "4556493a-7032-44df-82a8-68ee872204af"
      },
      "outputs": [
        {
          "data": {
            "text/plain": [
              "True"
            ]
          },
          "execution_count": 37,
          "metadata": {},
          "output_type": "execute_result"
        }
      ],
      "source": [
        "str1 = \"Mathujan\"\n",
        "str2 = \"Mathujan\"\n",
        "\n",
        "str1 == str2"
      ]
    },
    {
      "cell_type": "code",
      "execution_count": null,
      "id": "26455a90",
      "metadata": {
        "id": "26455a90",
        "outputId": "090840a0-e840-4ad5-e209-f8e0378bef74"
      },
      "outputs": [
        {
          "data": {
            "text/plain": [
              "False"
            ]
          },
          "execution_count": 38,
          "metadata": {},
          "output_type": "execute_result"
        }
      ],
      "source": [
        "## != Not Equal to\n",
        "str1 != str2"
      ]
    },
    {
      "cell_type": "code",
      "execution_count": null,
      "id": "65f071f2",
      "metadata": {
        "id": "65f071f2",
        "outputId": "3f4a275c-16d8-4844-acf7-59bb12cbe099"
      },
      "outputs": [
        {
          "data": {
            "text/plain": [
              "True"
            ]
          },
          "execution_count": 39,
          "metadata": {},
          "output_type": "execute_result"
        }
      ],
      "source": [
        "str3 = \"Mathujan\"\n",
        "str4 = \"mathujan\"\n",
        "\n",
        "str3 != str4"
      ]
    },
    {
      "cell_type": "code",
      "execution_count": null,
      "id": "231bcfcd",
      "metadata": {
        "id": "231bcfcd",
        "outputId": "0902c12d-06a1-44f4-e2fc-00b76e54dfb2"
      },
      "outputs": [
        {
          "data": {
            "text/plain": [
              "False"
            ]
          },
          "execution_count": 40,
          "metadata": {},
          "output_type": "execute_result"
        }
      ],
      "source": [
        "## greater than >\n",
        "\n",
        "num1 = 45\n",
        "num2 = 55\n",
        "\n",
        "num1 > num2"
      ]
    },
    {
      "cell_type": "code",
      "execution_count": null,
      "id": "bd26f62f",
      "metadata": {
        "id": "bd26f62f",
        "outputId": "58b7a304-7a10-4689-a8e2-a6c07c11b0b3"
      },
      "outputs": [
        {
          "data": {
            "text/plain": [
              "True"
            ]
          },
          "execution_count": 41,
          "metadata": {},
          "output_type": "execute_result"
        }
      ],
      "source": [
        "## less than <\n",
        "\n",
        "num1 < num2"
      ]
    },
    {
      "cell_type": "code",
      "execution_count": null,
      "id": "dec6760e",
      "metadata": {
        "id": "dec6760e",
        "outputId": "f7f934c0-aaa0-44ec-ab8b-583138152233"
      },
      "outputs": [
        {
          "name": "stdout",
          "output_type": "stream",
          "text": [
            "True\n"
          ]
        }
      ],
      "source": [
        "## greater than or equal to\n",
        "\n",
        "number1 = 45\n",
        "number2 = 45\n",
        "\n",
        "print(number1 >= number2)"
      ]
    },
    {
      "cell_type": "code",
      "execution_count": null,
      "id": "42daa4bb",
      "metadata": {
        "id": "42daa4bb",
        "outputId": "e6693833-35b4-4e84-b586-06ab4b558d83"
      },
      "outputs": [
        {
          "name": "stdout",
          "output_type": "stream",
          "text": [
            "True\n"
          ]
        }
      ],
      "source": [
        "## less than or equal to\n",
        "\n",
        "number1 = 44\n",
        "number2 = 45\n",
        "\n",
        "print(number1 <= number2)"
      ]
    },
    {
      "cell_type": "code",
      "execution_count": null,
      "id": "6de6993d",
      "metadata": {
        "id": "6de6993d",
        "outputId": "01f92cca-ca61-43c1-aec4-7196b85dced1"
      },
      "outputs": [
        {
          "name": "stdout",
          "output_type": "stream",
          "text": [
            "True\n"
          ]
        }
      ],
      "source": [
        "## Logical Operators\n",
        "\n",
        "## And , Not, OR\n",
        "X = True\n",
        "Y = True\n",
        "\n",
        "result = X and Y\n",
        "print(result)"
      ]
    },
    {
      "cell_type": "code",
      "execution_count": null,
      "id": "5099a317",
      "metadata": {
        "id": "5099a317",
        "outputId": "a763cf51-54fe-4b41-b3ef-9d3bdeb21f9b"
      },
      "outputs": [
        {
          "name": "stdout",
          "output_type": "stream",
          "text": [
            "False\n"
          ]
        }
      ],
      "source": [
        "X = False\n",
        "Y = True\n",
        "\n",
        "result = X and Y\n",
        "print(result)"
      ]
    },
    {
      "cell_type": "code",
      "execution_count": null,
      "id": "c34c989c",
      "metadata": {
        "id": "c34c989c",
        "outputId": "65126303-7fbc-424d-c7cb-d6e116ba1996"
      },
      "outputs": [
        {
          "name": "stdout",
          "output_type": "stream",
          "text": [
            "False\n"
          ]
        }
      ],
      "source": [
        "## OR\n",
        "X = False\n",
        "Y = False\n",
        "\n",
        "result = X or Y\n",
        "print(result)"
      ]
    },
    {
      "cell_type": "code",
      "execution_count": null,
      "id": "af4b6bfa",
      "metadata": {
        "id": "af4b6bfa",
        "outputId": "f560dc1e-e580-4c05-ab81-82095d04406c"
      },
      "outputs": [
        {
          "data": {
            "text/plain": [
              "True"
            ]
          },
          "execution_count": 49,
          "metadata": {},
          "output_type": "execute_result"
        }
      ],
      "source": [
        "# Not operator\n",
        "X = False\n",
        "not X"
      ]
    },
    {
      "cell_type": "markdown",
      "id": "fb163b82",
      "metadata": {
        "id": "fb163b82"
      },
      "source": [
        "## Control Flows"
      ]
    },
    {
      "cell_type": "markdown",
      "id": "ce6daa30",
      "metadata": {
        "id": "ce6daa30"
      },
      "source": [
        "### 5 - Conditional Statements (if, elif, else)"
      ]
    },
    {
      "cell_type": "code",
      "execution_count": null,
      "id": "b5496d3d",
      "metadata": {
        "id": "b5496d3d",
        "outputId": "29202be6-26f8-4e4a-a949-8d0a5680bcfb"
      },
      "outputs": [
        {
          "name": "stdout",
          "output_type": "stream",
          "text": [
            "You are allowed to vote in the elections\n"
          ]
        }
      ],
      "source": [
        "## if statement\n",
        "\n",
        "age = 20\n",
        "\n",
        "if age >= 18:\n",
        "    print(\"You are allowed to vote in the elections\")"
      ]
    },
    {
      "cell_type": "code",
      "execution_count": null,
      "id": "389865e8",
      "metadata": {
        "id": "389865e8",
        "outputId": "6353160d-4cb7-4e30-b8f6-12007ede1a84"
      },
      "outputs": [
        {
          "data": {
            "text/plain": [
              "True"
            ]
          },
          "execution_count": 2,
          "metadata": {},
          "output_type": "execute_result"
        }
      ],
      "source": [
        "age >= 18"
      ]
    },
    {
      "cell_type": "code",
      "execution_count": null,
      "id": "820f9943",
      "metadata": {
        "id": "820f9943",
        "outputId": "14d02145-a784-4695-d7a9-7eaa50eb8505"
      },
      "outputs": [
        {
          "name": "stdout",
          "output_type": "stream",
          "text": [
            "You are a minor\n"
          ]
        }
      ],
      "source": [
        "## else\n",
        "## The else statement executes a block of code if the condition in the if statement is False.\n",
        "\n",
        "age = 16\n",
        "\n",
        "if age >= 18:\n",
        "    print(\"You are eligible for voting\")\n",
        "else:\n",
        "    print(\"You are a minor\")"
      ]
    },
    {
      "cell_type": "code",
      "execution_count": null,
      "id": "2c5a358e",
      "metadata": {
        "id": "2c5a358e",
        "outputId": "064ec263-ec9d-42ac-85a8-bdcef31249ac"
      },
      "outputs": [
        {
          "name": "stdout",
          "output_type": "stream",
          "text": [
            "You are a teenager\n"
          ]
        }
      ],
      "source": [
        "## elif\n",
        "## The elif statement allows you to check multiple conditions. It stands for \"else if\"\n",
        "\n",
        "age = 17\n",
        "\n",
        "if age < 13:\n",
        "    print(\"You are a child\")\n",
        "elif age < 18:\n",
        "    print(\"You are a teenager\")\n",
        "else:\n",
        "    print(\"You are an adult\")"
      ]
    },
    {
      "cell_type": "code",
      "execution_count": null,
      "id": "0b6ef023",
      "metadata": {
        "id": "0b6ef023",
        "outputId": "345a91d4-0c58-4e5f-fe32-8a6f03aad218"
      },
      "outputs": [
        {
          "name": "stdout",
          "output_type": "stream",
          "text": [
            "The number is zero or negative\n"
          ]
        }
      ],
      "source": [
        "## Nested Conditional Statements\n",
        "\n",
        "## You can place one or more if, elif, or else statements inside another if, elif, or else statement to create nested conditional statements.\n",
        "\n",
        "## number is even, odd, negative\n",
        "\n",
        "num = int(input(\"Enter the number\"))\n",
        "\n",
        "if num > 0:\n",
        "    print(\"The number is positive\")\n",
        "    if num%2 == 0:\n",
        "        print(\"The number is even\")\n",
        "    else:\n",
        "        print(\"The number is odd\")\n",
        "\n",
        "else:\n",
        "    print(\"The number is zero or negative\")"
      ]
    },
    {
      "cell_type": "code",
      "execution_count": null,
      "id": "64d7a3fd",
      "metadata": {
        "id": "64d7a3fd",
        "outputId": "5ec8cfd4-dd1a-48f7-e9c0-06e7dd45221f"
      },
      "outputs": [
        {
          "name": "stdout",
          "output_type": "stream",
          "text": [
            "2000 is a leap year\n"
          ]
        }
      ],
      "source": [
        "## Determine if a year is a leap year using nested condition statement\n",
        "\n",
        "year = int(input(\"Enter the year\"))\n",
        "\n",
        "if year%4 == 0:\n",
        "    if year%100 == 0:\n",
        "        if year%400 == 0:\n",
        "            print(year,\"is a leap year\")\n",
        "        else:\n",
        "            print(year,\"is not a leap year\")\n",
        "    else:\n",
        "        print(year,\"is a leap year\")\n",
        "\n",
        "else:\n",
        "    print(year,\"is not a leap year\")"
      ]
    },
    {
      "cell_type": "markdown",
      "id": "341fade9",
      "metadata": {
        "id": "341fade9"
      },
      "source": [
        "### 6 - Loops"
      ]
    },
    {
      "cell_type": "code",
      "execution_count": null,
      "id": "34cb539b",
      "metadata": {
        "id": "34cb539b",
        "outputId": "83db9966-a963-45f9-93e1-a20376ea82b7"
      },
      "outputs": [
        {
          "name": "stdout",
          "output_type": "stream",
          "text": [
            "0\n",
            "1\n",
            "2\n",
            "3\n",
            "4\n"
          ]
        }
      ],
      "source": [
        "\"\"\"for Loop\n",
        "   - Iterating over a range\n",
        "   - Iterating over a string\"\"\"\n",
        "\n",
        "for i in range(5):\n",
        "    print(i)"
      ]
    },
    {
      "cell_type": "code",
      "execution_count": null,
      "id": "8f40e541",
      "metadata": {
        "id": "8f40e541",
        "outputId": "caabd19e-e000-43bc-bc6d-17292ee75d08"
      },
      "outputs": [
        {
          "name": "stdout",
          "output_type": "stream",
          "text": [
            "1\n",
            "2\n",
            "3\n",
            "4\n",
            "5\n"
          ]
        }
      ],
      "source": [
        "for i in range(1,6):\n",
        "    print(i)"
      ]
    },
    {
      "cell_type": "code",
      "execution_count": null,
      "id": "547450da",
      "metadata": {
        "id": "547450da",
        "outputId": "1022d4e0-87c0-40df-fde7-30b2ef72f0d9"
      },
      "outputs": [
        {
          "name": "stdout",
          "output_type": "stream",
          "text": [
            "1\n",
            "3\n",
            "5\n",
            "7\n",
            "9\n"
          ]
        }
      ],
      "source": [
        "for i in range(1,10,2):\n",
        "    print(i)"
      ]
    },
    {
      "cell_type": "code",
      "execution_count": null,
      "id": "07249341",
      "metadata": {
        "id": "07249341",
        "outputId": "04016b6f-b6ad-4069-f100-43eec204cb69"
      },
      "outputs": [
        {
          "name": "stdout",
          "output_type": "stream",
          "text": [
            "10\n",
            "9\n",
            "8\n",
            "7\n",
            "6\n",
            "5\n",
            "4\n",
            "3\n",
            "2\n"
          ]
        }
      ],
      "source": [
        "for i in range(10,1,-1):\n",
        "    print(i)"
      ]
    },
    {
      "cell_type": "code",
      "execution_count": null,
      "id": "35296f59",
      "metadata": {
        "id": "35296f59",
        "outputId": "e86e0d63-d850-4502-924d-79ce8fa187ec"
      },
      "outputs": [
        {
          "name": "stdout",
          "output_type": "stream",
          "text": [
            "10\n",
            "8\n",
            "6\n",
            "4\n",
            "2\n"
          ]
        }
      ],
      "source": [
        "for i in range(10,1,-2):\n",
        "    print(i)"
      ]
    },
    {
      "cell_type": "code",
      "execution_count": null,
      "id": "01ccb37b",
      "metadata": {
        "id": "01ccb37b",
        "outputId": "54df8271-a27f-43ca-eb41-166bffbd6971"
      },
      "outputs": [
        {
          "name": "stdout",
          "output_type": "stream",
          "text": [
            "M\n",
            "a\n",
            "t\n",
            "h\n",
            "u\n",
            "j\n",
            "a\n",
            "n\n"
          ]
        }
      ],
      "source": [
        "## Strings\n",
        "\n",
        "str = \"Mathujan\"\n",
        "\n",
        "for i in str:\n",
        "    print(i)"
      ]
    },
    {
      "cell_type": "code",
      "execution_count": null,
      "id": "5572b963",
      "metadata": {
        "id": "5572b963",
        "outputId": "cc8aa0d4-7667-48ef-8ddd-ce5a6be684a4"
      },
      "outputs": [
        {
          "name": "stdout",
          "output_type": "stream",
          "text": [
            "0\n",
            "1\n",
            "2\n",
            "3\n",
            "4\n"
          ]
        }
      ],
      "source": [
        "## while loop\n",
        "## The while loop continues to execute as long as the condition is True.\n",
        "\n",
        "count = 0\n",
        "\n",
        "while count < 5:\n",
        "    print(count)\n",
        "    count = count + 1"
      ]
    },
    {
      "cell_type": "code",
      "execution_count": null,
      "id": "34687a1d",
      "metadata": {
        "id": "34687a1d",
        "outputId": "dab4cda1-39ba-4fe6-9e04-610a389e53d1"
      },
      "outputs": [
        {
          "name": "stdout",
          "output_type": "stream",
          "text": [
            "0\n",
            "1\n",
            "2\n",
            "3\n",
            "4\n"
          ]
        }
      ],
      "source": [
        "## Loop Control Statements\n",
        "\n",
        "## break\n",
        "## The break statement exits the loop permaturely\n",
        "\n",
        "## break statement\n",
        "\n",
        "for i in range(10):\n",
        "    if i == 5:\n",
        "        break\n",
        "    print(i)"
      ]
    },
    {
      "cell_type": "code",
      "execution_count": null,
      "id": "382e5b09",
      "metadata": {
        "id": "382e5b09",
        "outputId": "5fc5cd15-28f5-4a82-dc63-52207b75ad57"
      },
      "outputs": [
        {
          "name": "stdout",
          "output_type": "stream",
          "text": [
            "1\n",
            "3\n",
            "5\n",
            "7\n",
            "9\n"
          ]
        }
      ],
      "source": [
        "## continue\n",
        "\n",
        "## The continue statement skips the current iteration and continues with the next.\n",
        "\n",
        "for i in range(10):\n",
        "    if i%2 == 0:\n",
        "        continue\n",
        "    print(i)"
      ]
    },
    {
      "cell_type": "code",
      "execution_count": null,
      "id": "11b0bab8",
      "metadata": {
        "id": "11b0bab8",
        "outputId": "db32c3f4-fcee-4dcc-a0a7-616beb47f830"
      },
      "outputs": [
        {
          "name": "stdout",
          "output_type": "stream",
          "text": [
            "0\n",
            "1\n",
            "2\n",
            "3\n",
            "4\n"
          ]
        }
      ],
      "source": [
        "## pass\n",
        "## The pass statement is a null operation; it does nothing.\n",
        "\n",
        "for i in range(5):\n",
        "    if i == 3:\n",
        "        pass\n",
        "    print(i)"
      ]
    },
    {
      "cell_type": "code",
      "execution_count": null,
      "id": "f09a9d8a",
      "metadata": {
        "id": "f09a9d8a",
        "outputId": "5e88015e-0d1b-4633-dd6c-a00b3700819a"
      },
      "outputs": [
        {
          "name": "stdout",
          "output_type": "stream",
          "text": [
            "i:0 and j:0\n",
            "i:0 and j:1\n",
            "i:1 and j:0\n",
            "i:1 and j:1\n",
            "i:2 and j:0\n",
            "i:2 and j:1\n"
          ]
        }
      ],
      "source": [
        "## Nested loopss\n",
        "## a loop inside a loop\n",
        "\n",
        "for i in range(3):\n",
        "    for j in range(2):\n",
        "        print(f\"i:{i} and j:{j}\")"
      ]
    },
    {
      "cell_type": "markdown",
      "id": "46b99dfe",
      "metadata": {
        "id": "46b99dfe"
      },
      "source": [
        "## Data Structures"
      ]
    },
    {
      "cell_type": "markdown",
      "id": "40b8328c",
      "metadata": {
        "id": "40b8328c"
      },
      "source": [
        "### 7 - Lists"
      ]
    },
    {
      "cell_type": "code",
      "execution_count": null,
      "id": "2a6abe5a",
      "metadata": {
        "id": "2a6abe5a"
      },
      "outputs": [],
      "source": [
        "## - Lists are ordered, mutable collections of items.\n",
        "## - They can contain items of different data types."
      ]
    },
    {
      "cell_type": "code",
      "execution_count": null,
      "id": "a173f352",
      "metadata": {
        "id": "a173f352",
        "outputId": "3cd4a78c-47c4-482e-f997-bbeb27534f0d"
      },
      "outputs": [
        {
          "name": "stdout",
          "output_type": "stream",
          "text": [
            "<class 'list'>\n"
          ]
        }
      ],
      "source": [
        "lst = []\n",
        "print(type(lst))"
      ]
    },
    {
      "cell_type": "code",
      "execution_count": null,
      "id": "0ecfc94a",
      "metadata": {
        "id": "0ecfc94a",
        "outputId": "ee229e57-4d99-4b28-e922-e8ec56846621"
      },
      "outputs": [
        {
          "name": "stdout",
          "output_type": "stream",
          "text": [
            "['Mathujan', 'Sivananthan', 'Jacob']\n"
          ]
        }
      ],
      "source": [
        "names = [\"Mathujan\", \"Sivananthan\", \"Jacob\"]\n",
        "print(names)"
      ]
    },
    {
      "cell_type": "code",
      "execution_count": null,
      "id": "2e91ee27",
      "metadata": {
        "id": "2e91ee27",
        "outputId": "ab02a92a-ebd1-4850-b060-78fbcc7c2805"
      },
      "outputs": [
        {
          "name": "stdout",
          "output_type": "stream",
          "text": [
            "[1, 'Hello', 3.14, True]\n"
          ]
        }
      ],
      "source": [
        "mixed_list = [1, \"Hello\", 3.14, True]\n",
        "print(mixed_list)"
      ]
    },
    {
      "cell_type": "code",
      "execution_count": null,
      "id": "105fb9f1",
      "metadata": {
        "id": "105fb9f1",
        "outputId": "e16ba369-5b45-48e9-eea5-86e6bd26ec08"
      },
      "outputs": [
        {
          "name": "stdout",
          "output_type": "stream",
          "text": [
            "apple\n",
            "cherry\n",
            "gauva\n",
            "gauva\n"
          ]
        }
      ],
      "source": [
        "## Accessing List Elements\n",
        "\n",
        "fruits = [\"apple\", \"banana\", \"cherry\", \"kiwi\", \"gauva\"]\n",
        "\n",
        "print(fruits[0])\n",
        "print(fruits[2])\n",
        "print(fruits[4])\n",
        "print(fruits[-1])"
      ]
    },
    {
      "cell_type": "code",
      "execution_count": null,
      "id": "7b0acc5b",
      "metadata": {
        "id": "7b0acc5b",
        "outputId": "0fdf2c05-b364-4adc-e5ba-a5af3e6357c0"
      },
      "outputs": [
        {
          "name": "stdout",
          "output_type": "stream",
          "text": [
            "['banana', 'cherry', 'kiwi', 'gauva']\n",
            "['banana', 'cherry']\n"
          ]
        }
      ],
      "source": [
        "print(fruits[1:])\n",
        "print(fruits[1:3])"
      ]
    },
    {
      "cell_type": "code",
      "execution_count": null,
      "id": "39c39b05",
      "metadata": {
        "id": "39c39b05",
        "outputId": "eb43d283-2745-4c44-be7c-6534cd859f5d"
      },
      "outputs": [
        {
          "data": {
            "text/plain": [
              "['apple', 'banana', 'cherry', 'kiwi', 'gauva']"
            ]
          },
          "execution_count": 9,
          "metadata": {},
          "output_type": "execute_result"
        }
      ],
      "source": [
        "## Modifying the List elements\n",
        "\n",
        "fruits"
      ]
    },
    {
      "cell_type": "code",
      "execution_count": null,
      "id": "a2721dae",
      "metadata": {
        "id": "a2721dae",
        "outputId": "86968ec3-63cc-4c54-b6fa-354517be75ee"
      },
      "outputs": [
        {
          "name": "stdout",
          "output_type": "stream",
          "text": [
            "['apple', 'watermelon', 'cherry', 'kiwi', 'gauva']\n"
          ]
        }
      ],
      "source": [
        "fruits[1] = \"watermelon\"\n",
        "print(fruits)"
      ]
    },
    {
      "cell_type": "code",
      "execution_count": null,
      "id": "a48136e7",
      "metadata": {
        "id": "a48136e7",
        "outputId": "67cbde46-92db-4d38-8131-25ddfb2a8f68"
      },
      "outputs": [
        {
          "data": {
            "text/plain": [
              "['apple', 'w', 'a', 't', 'e', 'r', 'm', 'e', 'l', 'o', 'n']"
            ]
          },
          "execution_count": 11,
          "metadata": {},
          "output_type": "execute_result"
        }
      ],
      "source": [
        "fruits[1:] = \"watermelon\"\n",
        "fruits"
      ]
    },
    {
      "cell_type": "code",
      "execution_count": null,
      "id": "81745d02",
      "metadata": {
        "id": "81745d02"
      },
      "outputs": [],
      "source": [
        "fruits = [\"apple\", \"banana\", \"cherry\", \"kiwi\", \"gauva\"]"
      ]
    },
    {
      "cell_type": "code",
      "execution_count": null,
      "id": "ed8403e1",
      "metadata": {
        "id": "ed8403e1",
        "outputId": "f787df4c-3388-46f6-ee7d-021b686e2dac"
      },
      "outputs": [
        {
          "name": "stdout",
          "output_type": "stream",
          "text": [
            "['apple', 'banana', 'cherry', 'kiwi', 'gauva', 'orange']\n"
          ]
        }
      ],
      "source": [
        "## List Methods\n",
        "\n",
        "fruits.append(\"orange\") ## Add an item to the end\n",
        "print(fruits)"
      ]
    },
    {
      "cell_type": "code",
      "execution_count": null,
      "id": "1df44ff9",
      "metadata": {
        "id": "1df44ff9",
        "outputId": "f045659e-d0fe-4987-cbdc-6268d840b671"
      },
      "outputs": [
        {
          "name": "stdout",
          "output_type": "stream",
          "text": [
            "['apple', 'watermelon', 'banana', 'cherry', 'kiwi', 'gauva', 'orange']\n"
          ]
        }
      ],
      "source": [
        "fruits.insert(1, \"watermelon\")\n",
        "print(fruits)"
      ]
    },
    {
      "cell_type": "code",
      "execution_count": null,
      "id": "69f3105c",
      "metadata": {
        "id": "69f3105c",
        "outputId": "0027fc0f-9520-4a25-8425-54b3b36e31dc"
      },
      "outputs": [
        {
          "name": "stdout",
          "output_type": "stream",
          "text": [
            "['apple', 'watermelon', 'banana', 'banana', 'cherry', 'kiwi', 'gauva', 'orange']\n"
          ]
        }
      ],
      "source": [
        "fruits.insert(2, \"banana\")\n",
        "print(fruits)"
      ]
    },
    {
      "cell_type": "code",
      "execution_count": null,
      "id": "b4bcf042",
      "metadata": {
        "id": "b4bcf042",
        "outputId": "3d227612-7f38-4caa-b425-08fa2bafd26e"
      },
      "outputs": [
        {
          "name": "stdout",
          "output_type": "stream",
          "text": [
            "['apple', 'watermelon', 'banana', 'cherry', 'kiwi', 'gauva', 'orange']\n"
          ]
        }
      ],
      "source": [
        "fruits.remove(\"banana\") ## Removing the first occurance of an item\n",
        "print(fruits)"
      ]
    },
    {
      "cell_type": "code",
      "execution_count": null,
      "id": "b7d2946d",
      "metadata": {
        "id": "b7d2946d",
        "outputId": "15218bc9-0162-483f-d97f-c0448679df06"
      },
      "outputs": [
        {
          "name": "stdout",
          "output_type": "stream",
          "text": [
            "orange\n",
            "['apple', 'watermelon', 'banana', 'cherry', 'kiwi', 'gauva']\n"
          ]
        }
      ],
      "source": [
        "## Remove and return the last element\n",
        "popped_fruits = fruits.pop()\n",
        "print(popped_fruits)\n",
        "print(fruits)"
      ]
    },
    {
      "cell_type": "code",
      "execution_count": null,
      "id": "cc3d3758",
      "metadata": {
        "id": "cc3d3758",
        "outputId": "fa59c9e9-16ff-4277-9393-2908809f374c"
      },
      "outputs": [
        {
          "name": "stdout",
          "output_type": "stream",
          "text": [
            "3\n"
          ]
        }
      ],
      "source": [
        "index = fruits.index(\"cherry\")\n",
        "print(index)"
      ]
    },
    {
      "cell_type": "code",
      "execution_count": null,
      "id": "016edd3e",
      "metadata": {
        "id": "016edd3e",
        "outputId": "cf0c9846-1825-43e5-d56e-784bcb4b2dfb"
      },
      "outputs": [
        {
          "name": "stdout",
          "output_type": "stream",
          "text": [
            "2\n"
          ]
        }
      ],
      "source": [
        "fruits.insert(2,\"banana\")\n",
        "print(fruits.count(\"banana\"))"
      ]
    },
    {
      "cell_type": "code",
      "execution_count": null,
      "id": "3f22312f",
      "metadata": {
        "id": "3f22312f",
        "outputId": "6bdc97f3-0e33-41f0-9b0f-1f532ac5640b"
      },
      "outputs": [
        {
          "data": {
            "text/plain": [
              "['apple', 'watermelon', 'banana', 'banana', 'cherry', 'kiwi', 'gauva']"
            ]
          },
          "execution_count": 26,
          "metadata": {},
          "output_type": "execute_result"
        }
      ],
      "source": [
        "fruits"
      ]
    },
    {
      "cell_type": "code",
      "execution_count": null,
      "id": "fb8219e5",
      "metadata": {
        "id": "fb8219e5"
      },
      "outputs": [],
      "source": [
        "fruits.sort() ## Sorts the list in ascending order"
      ]
    },
    {
      "cell_type": "code",
      "execution_count": null,
      "id": "d25cb33d",
      "metadata": {
        "id": "d25cb33d",
        "outputId": "2181e53c-0aa0-4a27-9bdb-2c2a3656c677"
      },
      "outputs": [
        {
          "data": {
            "text/plain": [
              "['apple', 'banana', 'banana', 'cherry', 'gauva', 'kiwi', 'watermelon']"
            ]
          },
          "execution_count": 28,
          "metadata": {},
          "output_type": "execute_result"
        }
      ],
      "source": [
        "fruits"
      ]
    },
    {
      "cell_type": "code",
      "execution_count": null,
      "id": "07d7a2a3",
      "metadata": {
        "id": "07d7a2a3"
      },
      "outputs": [],
      "source": [
        "fruits.reverse() ## Reverse the list"
      ]
    },
    {
      "cell_type": "code",
      "execution_count": null,
      "id": "639153dd",
      "metadata": {
        "id": "639153dd",
        "outputId": "a13807f2-39ea-4d9c-9cce-da5243cd2b76"
      },
      "outputs": [
        {
          "data": {
            "text/plain": [
              "['watermelon', 'kiwi', 'gauva', 'cherry', 'banana', 'banana', 'apple']"
            ]
          },
          "execution_count": 30,
          "metadata": {},
          "output_type": "execute_result"
        }
      ],
      "source": [
        "fruits"
      ]
    },
    {
      "cell_type": "code",
      "execution_count": null,
      "id": "6eb70a2a",
      "metadata": {
        "id": "6eb70a2a",
        "outputId": "44511ff4-5cc1-4c6b-87c6-915ef28f7d23"
      },
      "outputs": [
        {
          "name": "stdout",
          "output_type": "stream",
          "text": [
            "[]\n"
          ]
        }
      ],
      "source": [
        "fruits.clear() ## Remove all items from the list\n",
        "\n",
        "print(fruits)"
      ]
    },
    {
      "cell_type": "code",
      "execution_count": null,
      "id": "90ce15b9",
      "metadata": {
        "id": "90ce15b9",
        "outputId": "98cea59b-d53e-46d4-e851-6f9e6af479cf"
      },
      "outputs": [
        {
          "name": "stdout",
          "output_type": "stream",
          "text": [
            "[3, 4, 5]\n",
            "[1, 2, 3, 4, 5]\n",
            "[6, 7, 8, 9, 10]\n",
            "[1, 3, 5, 7, 9]\n",
            "[10, 9, 8, 7, 6, 5, 4, 3, 2, 1]\n"
          ]
        }
      ],
      "source": [
        "## Slicing List\n",
        "\n",
        "numbers = [1, 2, 3, 4, 5, 6, 7, 8, 9, 10]\n",
        "print(numbers[2:5])\n",
        "print(numbers[:5])\n",
        "print(numbers[5:])\n",
        "print(numbers[::2])\n",
        "print(numbers[::-1])"
      ]
    },
    {
      "cell_type": "code",
      "execution_count": null,
      "id": "a19f1154",
      "metadata": {
        "id": "a19f1154",
        "outputId": "f5b489e1-464d-4ded-90bc-e5df02510118"
      },
      "outputs": [
        {
          "data": {
            "text/plain": [
              "[1, 4, 7, 10]"
            ]
          },
          "execution_count": 33,
          "metadata": {},
          "output_type": "execute_result"
        }
      ],
      "source": [
        "numbers[::3]"
      ]
    },
    {
      "cell_type": "code",
      "execution_count": null,
      "id": "6c47d7f0",
      "metadata": {
        "id": "6c47d7f0",
        "outputId": "7b6c36d2-feca-490f-95ca-6148f2c0ffaf"
      },
      "outputs": [
        {
          "data": {
            "text/plain": [
              "[10, 8, 6, 4, 2]"
            ]
          },
          "execution_count": 34,
          "metadata": {},
          "output_type": "execute_result"
        }
      ],
      "source": [
        "numbers[::-2]"
      ]
    },
    {
      "cell_type": "code",
      "execution_count": null,
      "id": "3e89ccef",
      "metadata": {
        "id": "3e89ccef",
        "outputId": "4d74c66c-3685-4430-8f0b-299cc82a04f9"
      },
      "outputs": [
        {
          "name": "stdout",
          "output_type": "stream",
          "text": [
            "1\n",
            "2\n",
            "3\n",
            "4\n",
            "5\n",
            "6\n",
            "7\n",
            "8\n",
            "9\n",
            "10\n"
          ]
        }
      ],
      "source": [
        "## Iterating Over List\n",
        "\n",
        "for number in numbers:\n",
        "    print(number)"
      ]
    },
    {
      "cell_type": "code",
      "execution_count": null,
      "id": "24279088",
      "metadata": {
        "id": "24279088",
        "outputId": "e15d9b1c-030b-4d7b-c5e9-716a3e874e93"
      },
      "outputs": [
        {
          "name": "stdout",
          "output_type": "stream",
          "text": [
            "0 1\n",
            "1 2\n",
            "2 3\n",
            "3 4\n",
            "4 5\n",
            "5 6\n",
            "6 7\n",
            "7 8\n",
            "8 9\n",
            "9 10\n"
          ]
        }
      ],
      "source": [
        "## Iterating with index\n",
        "for index, number in enumerate(numbers):\n",
        "    print(index, number)"
      ]
    },
    {
      "cell_type": "code",
      "execution_count": null,
      "id": "280bff5c",
      "metadata": {
        "id": "280bff5c",
        "outputId": "2cef6c08-d03a-48eb-e222-629f214f5f34"
      },
      "outputs": [
        {
          "name": "stdout",
          "output_type": "stream",
          "text": [
            "[0, 1, 4, 9, 16, 25, 36, 49, 64, 81]\n"
          ]
        }
      ],
      "source": [
        "## List comprehension\n",
        "\n",
        "lst = []\n",
        "for x in range(10):\n",
        "    lst.append(x**2)\n",
        "\n",
        "print(lst)"
      ]
    },
    {
      "cell_type": "code",
      "execution_count": null,
      "id": "d38a6093",
      "metadata": {
        "id": "d38a6093",
        "outputId": "2e759502-8916-45c0-814c-882f24fb7218"
      },
      "outputs": [
        {
          "data": {
            "text/plain": [
              "[0, 1, 4, 9, 16, 25, 36, 49, 64, 81]"
            ]
          },
          "execution_count": 38,
          "metadata": {},
          "output_type": "execute_result"
        }
      ],
      "source": [
        "[x**2 for x in range(10)]"
      ]
    },
    {
      "cell_type": "code",
      "execution_count": null,
      "id": "8b87b8ec",
      "metadata": {
        "id": "8b87b8ec",
        "outputId": "48522ac4-4606-442b-bbd4-ba4890727ca8"
      },
      "outputs": [
        {
          "name": "stdout",
          "output_type": "stream",
          "text": [
            "[0, 1, 4, 9, 16, 25, 36, 49, 64, 81]\n"
          ]
        }
      ],
      "source": [
        "## Basic List Comprehension\n",
        "\n",
        "sqaure = [num**2 for num in range(10)]\n",
        "print(sqaure)"
      ]
    },
    {
      "cell_type": "code",
      "execution_count": null,
      "id": "6ba7bc6c",
      "metadata": {
        "id": "6ba7bc6c",
        "outputId": "e0a02fc3-4b5e-4104-90e8-12c8d2a13b61"
      },
      "outputs": [
        {
          "name": "stdout",
          "output_type": "stream",
          "text": [
            "[0, 2, 4, 6, 8]\n"
          ]
        }
      ],
      "source": [
        "## List Comprehension with Condition\n",
        "\n",
        "lst = []\n",
        "for i in range(10):\n",
        "    if i%2 == 0:\n",
        "        lst.append(i)\n",
        "\n",
        "print(lst)"
      ]
    },
    {
      "cell_type": "code",
      "execution_count": null,
      "id": "8320a52b",
      "metadata": {
        "id": "8320a52b",
        "outputId": "675896c3-e025-4add-9eeb-77673dd79f9f"
      },
      "outputs": [
        {
          "name": "stdout",
          "output_type": "stream",
          "text": [
            "[0, 2, 4, 6, 8]\n"
          ]
        }
      ],
      "source": [
        "even_numbers = [num for num in range(10) if num%2==0]\n",
        "print(even_numbers)"
      ]
    },
    {
      "cell_type": "code",
      "execution_count": null,
      "id": "9d292683",
      "metadata": {
        "id": "9d292683",
        "outputId": "88c8d3c8-6fc5-4818-f8d9-470402d51190"
      },
      "outputs": [
        {
          "name": "stdout",
          "output_type": "stream",
          "text": [
            "[[1, 'a'], [1, 'b'], [1, 'c'], [1, 'd'], [2, 'a'], [2, 'b'], [2, 'c'], [2, 'd'], [3, 'a'], [3, 'b'], [3, 'c'], [3, 'd'], [4, 'a'], [4, 'b'], [4, 'c'], [4, 'd']]\n"
          ]
        }
      ],
      "source": [
        "## Nested List Comphrension\n",
        "\n",
        "lst1 = [1, 2, 3, 4]\n",
        "lst2 = ['a', 'b', 'c', 'd']\n",
        "\n",
        "pair = [[i, j] for i in lst1 for j in lst2]\n",
        "\n",
        "print(pair)"
      ]
    },
    {
      "cell_type": "code",
      "execution_count": null,
      "id": "c57db8b8",
      "metadata": {
        "id": "c57db8b8",
        "outputId": "57d5831c-3604-4eec-b3f7-df6d1331aed6"
      },
      "outputs": [
        {
          "name": "stdout",
          "output_type": "stream",
          "text": [
            "[5, 5, 6, 4, 13]\n"
          ]
        }
      ],
      "source": [
        "## List Comprehension with function calls\n",
        "\n",
        "words = [\"hello\", \"world\", \"python\", \"list\", \"comprehension\"]\n",
        "lengths = [len(word) for word in words]\n",
        "print(lengths)  # Output: [5, 5, 6, 4, 13]"
      ]
    },
    {
      "cell_type": "markdown",
      "id": "5256fc0a",
      "metadata": {
        "id": "5256fc0a"
      },
      "source": [
        "### 8 - Tuples"
      ]
    },
    {
      "cell_type": "code",
      "execution_count": null,
      "id": "de3ceb85",
      "metadata": {
        "id": "de3ceb85"
      },
      "outputs": [],
      "source": [
        "## - Tuples are ordered collections of items that are immutable.\n",
        "## - They are similar to lists, but their immutability makes them different."
      ]
    },
    {
      "cell_type": "code",
      "execution_count": null,
      "id": "38b2b2f2",
      "metadata": {
        "id": "38b2b2f2",
        "outputId": "9d8b2852-22f2-49c4-85df-dec532471109"
      },
      "outputs": [
        {
          "name": "stdout",
          "output_type": "stream",
          "text": [
            "()\n",
            "<class 'tuple'>\n"
          ]
        }
      ],
      "source": [
        "## Creating a tuple\n",
        "\n",
        "empty_tuple = ()\n",
        "print(empty_tuple)\n",
        "print(type(empty_tuple))"
      ]
    },
    {
      "cell_type": "code",
      "execution_count": null,
      "id": "5abd15fc",
      "metadata": {
        "id": "5abd15fc",
        "outputId": "e541ae1d-989a-4f86-9320-3380011d73bd"
      },
      "outputs": [
        {
          "name": "stdout",
          "output_type": "stream",
          "text": [
            "<class 'list'>\n",
            "<class 'tuple'>\n"
          ]
        }
      ],
      "source": [
        "lst = list()\n",
        "print(type(lst))\n",
        "tpl = tuple()\n",
        "print(type(tpl))"
      ]
    },
    {
      "cell_type": "code",
      "execution_count": null,
      "id": "be786ced",
      "metadata": {
        "id": "be786ced",
        "outputId": "c0ecbdf8-f002-4d25-d86d-53ff95786c88"
      },
      "outputs": [
        {
          "data": {
            "text/plain": [
              "(1, 2, 3, 4, 5, 6)"
            ]
          },
          "execution_count": 47,
          "metadata": {},
          "output_type": "execute_result"
        }
      ],
      "source": [
        "numbers = tuple([1,2,3,4,5,6])\n",
        "numbers"
      ]
    },
    {
      "cell_type": "code",
      "execution_count": null,
      "id": "1944d9fd",
      "metadata": {
        "id": "1944d9fd",
        "outputId": "1ef1b869-0f0d-4801-d0dd-0c7fa82b7f4e"
      },
      "outputs": [
        {
          "data": {
            "text/plain": [
              "[1, 2, 3, 4, 5, 6]"
            ]
          },
          "execution_count": 48,
          "metadata": {},
          "output_type": "execute_result"
        }
      ],
      "source": [
        "list((1,2,3,4,5,6))"
      ]
    },
    {
      "cell_type": "code",
      "execution_count": null,
      "id": "dad1d11a",
      "metadata": {
        "id": "dad1d11a",
        "outputId": "fa9262ab-fd1d-49e2-d180-153f7739cc73"
      },
      "outputs": [
        {
          "name": "stdout",
          "output_type": "stream",
          "text": [
            "(1, 'Hello World', 3.14, True)\n"
          ]
        }
      ],
      "source": [
        "mixed_tuple = (1, \"Hello World\", 3.14, True)\n",
        "print(mixed_tuple)"
      ]
    },
    {
      "cell_type": "code",
      "execution_count": null,
      "id": "b2c523a3",
      "metadata": {
        "id": "b2c523a3",
        "outputId": "39119782-61b4-4484-d6d4-caebae8f9522"
      },
      "outputs": [
        {
          "data": {
            "text/plain": [
              "(1, 2, 3, 4, 5, 6)"
            ]
          },
          "execution_count": 50,
          "metadata": {},
          "output_type": "execute_result"
        }
      ],
      "source": [
        "## Accessing Tuple Elements\n",
        "\n",
        "numbers"
      ]
    },
    {
      "cell_type": "code",
      "execution_count": null,
      "id": "761cded8",
      "metadata": {
        "id": "761cded8",
        "outputId": "591bcd38-0326-477b-d50e-7b8a885c6bbd"
      },
      "outputs": [
        {
          "name": "stdout",
          "output_type": "stream",
          "text": [
            "3\n",
            "6\n"
          ]
        }
      ],
      "source": [
        "print(numbers[2])\n",
        "print(numbers[-1])"
      ]
    },
    {
      "cell_type": "code",
      "execution_count": null,
      "id": "463c770b",
      "metadata": {
        "id": "463c770b",
        "outputId": "064edd6d-9939-49cf-882d-41344b80a380"
      },
      "outputs": [
        {
          "data": {
            "text/plain": [
              "(1, 2, 3, 4)"
            ]
          },
          "execution_count": 52,
          "metadata": {},
          "output_type": "execute_result"
        }
      ],
      "source": [
        "numbers[0:4]"
      ]
    },
    {
      "cell_type": "code",
      "execution_count": null,
      "id": "edbc0828",
      "metadata": {
        "id": "edbc0828",
        "outputId": "df859a4e-c275-4f58-dc9d-a7a3ebe0d759"
      },
      "outputs": [
        {
          "data": {
            "text/plain": [
              "(6, 5, 4, 3, 2, 1)"
            ]
          },
          "execution_count": 53,
          "metadata": {},
          "output_type": "execute_result"
        }
      ],
      "source": [
        "numbers[::-1]"
      ]
    },
    {
      "cell_type": "code",
      "execution_count": null,
      "id": "1aeb9613",
      "metadata": {
        "id": "1aeb9613",
        "outputId": "8556bc6e-f92e-4310-eb88-9c05b05bc054"
      },
      "outputs": [
        {
          "name": "stdout",
          "output_type": "stream",
          "text": [
            "(1, 2, 3, 4, 5, 6, 1, 'Hello World', 3.14, True)\n"
          ]
        }
      ],
      "source": [
        "## Tuple Operations\n",
        "\n",
        "concatenation_tuple = numbers + mixed_tuple\n",
        "print(concatenation_tuple)"
      ]
    },
    {
      "cell_type": "code",
      "execution_count": null,
      "id": "8e26b242",
      "metadata": {
        "id": "8e26b242",
        "outputId": "8a5e3395-66b3-4010-cbd9-4df2fa92d3a2"
      },
      "outputs": [
        {
          "data": {
            "text/plain": [
              "(1,\n",
              " 'Hello World',\n",
              " 3.14,\n",
              " True,\n",
              " 1,\n",
              " 'Hello World',\n",
              " 3.14,\n",
              " True,\n",
              " 1,\n",
              " 'Hello World',\n",
              " 3.14,\n",
              " True)"
            ]
          },
          "execution_count": 55,
          "metadata": {},
          "output_type": "execute_result"
        }
      ],
      "source": [
        "mixed_tuple * 3"
      ]
    },
    {
      "cell_type": "code",
      "execution_count": null,
      "id": "c676e4b0",
      "metadata": {
        "id": "c676e4b0",
        "outputId": "41ff475b-5d27-4cc3-e4b4-bfb8f38f6637"
      },
      "outputs": [
        {
          "ename": "TypeError",
          "evalue": "'tuple' object does not support item assignment",
          "output_type": "error",
          "traceback": [
            "\u001b[31m---------------------------------------------------------------------------\u001b[39m",
            "\u001b[31mTypeError\u001b[39m                                 Traceback (most recent call last)",
            "\u001b[36mCell\u001b[39m\u001b[36m \u001b[39m\u001b[32mIn[56]\u001b[39m\u001b[32m, line 5\u001b[39m\n\u001b[32m      1\u001b[39m \u001b[38;5;66;03m## Immutable Nature Of Tuples\u001b[39;00m\n\u001b[32m      2\u001b[39m \n\u001b[32m      3\u001b[39m \u001b[38;5;66;03m## Tuples are immutable, meaning their elements cannot be changed once assigned.\u001b[39;00m\n\u001b[32m----> \u001b[39m\u001b[32m5\u001b[39m \u001b[43mnumbers\u001b[49m\u001b[43m[\u001b[49m\u001b[32;43m1\u001b[39;49m\u001b[43m]\u001b[49m = \u001b[33m\"\u001b[39m\u001b[33mMathujan\u001b[39m\u001b[33m\"\u001b[39m\n",
            "\u001b[31mTypeError\u001b[39m: 'tuple' object does not support item assignment"
          ]
        }
      ],
      "source": [
        "## Immutable Nature Of Tuples\n",
        "\n",
        "## Tuples are immutable, meaning their elements cannot be changed once assigned.\n",
        "\n",
        "numbers[1] = \"Mathujan\""
      ]
    },
    {
      "cell_type": "code",
      "execution_count": null,
      "id": "7ac10793",
      "metadata": {
        "id": "7ac10793",
        "outputId": "8c15fbae-6b14-42f7-b16c-040f620eff11"
      },
      "outputs": [
        {
          "data": {
            "text/plain": [
              "(1, 2, 3, 4, 5, 6)"
            ]
          },
          "execution_count": 58,
          "metadata": {},
          "output_type": "execute_result"
        }
      ],
      "source": [
        "numbers"
      ]
    },
    {
      "cell_type": "code",
      "execution_count": null,
      "id": "1441571a",
      "metadata": {
        "id": "1441571a",
        "outputId": "10a783b4-b019-4826-fced-ccf272227d18"
      },
      "outputs": [
        {
          "name": "stdout",
          "output_type": "stream",
          "text": [
            "1\n",
            "2\n"
          ]
        }
      ],
      "source": [
        "## Tuple Methods\n",
        "\n",
        "print(numbers.count(1))\n",
        "print(numbers.index(3))"
      ]
    },
    {
      "cell_type": "code",
      "execution_count": null,
      "id": "7fe8d46c",
      "metadata": {
        "id": "7fe8d46c",
        "outputId": "461ed92e-ca4f-4630-8a0d-214316a741bb"
      },
      "outputs": [
        {
          "name": "stdout",
          "output_type": "stream",
          "text": [
            "(1, 'Hello', 3.14)\n",
            "<class 'tuple'>\n"
          ]
        }
      ],
      "source": [
        "## Packing and Unpacking tuple\n",
        "\n",
        "## packing\n",
        "packed_tuple = 1, \"Hello\", 3.14\n",
        "print(packed_tuple)\n",
        "print(type(packed_tuple))"
      ]
    },
    {
      "cell_type": "code",
      "execution_count": null,
      "id": "eddd17cc",
      "metadata": {
        "id": "eddd17cc",
        "outputId": "96151885-975a-488b-a836-3fa3e63fe20a"
      },
      "outputs": [
        {
          "name": "stdout",
          "output_type": "stream",
          "text": [
            "1\n",
            "Hello\n",
            "3.14\n"
          ]
        }
      ],
      "source": [
        "## unpacking a tuple\n",
        "\n",
        "a, b, c = packed_tuple\n",
        "\n",
        "print(a)\n",
        "print(b)\n",
        "print(c)"
      ]
    },
    {
      "cell_type": "code",
      "execution_count": null,
      "id": "55d27693",
      "metadata": {
        "id": "55d27693",
        "outputId": "e6b8d190-e841-4224-9631-945decbea861"
      },
      "outputs": [
        {
          "name": "stdout",
          "output_type": "stream",
          "text": [
            "1\n",
            "[2, 3, 4, 5]\n",
            "6\n"
          ]
        }
      ],
      "source": [
        "## Unpacking with *\n",
        "\n",
        "numbers = (1, 2, 3, 4, 5, 6)\n",
        "first, *middle, last = numbers\n",
        "print(first)\n",
        "print(middle)\n",
        "print(last)"
      ]
    },
    {
      "cell_type": "code",
      "execution_count": null,
      "id": "d2cbd1b4",
      "metadata": {
        "id": "d2cbd1b4",
        "outputId": "6fabfe65-2929-4937-de6f-0bf404380299"
      },
      "outputs": [
        {
          "name": "stdout",
          "output_type": "stream",
          "text": [
            "(1, 2, 3)\n",
            "c\n"
          ]
        }
      ],
      "source": [
        "nested_tuple = ((1, 2, 3), (\"a\", \"b\", \"c\"), (True, False))\n",
        "\n",
        "## access the elements inside a tuple\n",
        "print(nested_tuple[0])\n",
        "print(nested_tuple[1][2])"
      ]
    },
    {
      "cell_type": "code",
      "execution_count": null,
      "id": "3362e152",
      "metadata": {
        "id": "3362e152",
        "outputId": "03ca632d-28e4-433d-fca1-f19ceeea98f2"
      },
      "outputs": [
        {
          "name": "stdout",
          "output_type": "stream",
          "text": [
            "1 2 3 \n",
            "a b c \n",
            "True False \n"
          ]
        }
      ],
      "source": [
        "## Iterating over nested tuples\n",
        "for sub_tuple in nested_tuple:\n",
        "    for item in sub_tuple:\n",
        "        print(item, end=\" \")\n",
        "    print()"
      ]
    },
    {
      "cell_type": "markdown",
      "id": "0817e198",
      "metadata": {
        "id": "0817e198"
      },
      "source": [
        "### 9 - Sets"
      ]
    },
    {
      "cell_type": "code",
      "execution_count": null,
      "id": "96bfb476",
      "metadata": {
        "id": "96bfb476",
        "outputId": "da9c4da8-3671-44d1-81d4-de86a6cd1c4b"
      },
      "outputs": [
        {
          "data": {
            "text/plain": [
              "'\"\\nSets are a built-in data type in Python used to store collections of unique items. \\nThey are unordered, meaning that the elements do not follow a specific order, \\nand they do not allow duplicate elements. Sets are useful for membership tests, \\neliminating duplicate entries, and performing mathematical set operations \\nlike union, intersection, difference, and symmetric difference.\\n'"
            ]
          },
          "execution_count": 65,
          "metadata": {},
          "output_type": "execute_result"
        }
      ],
      "source": [
        "\"\"\"\"\n",
        "Sets are a built-in data type in Python used to store collections of unique items.\n",
        "They are unordered, meaning that the elements do not follow a specific order,\n",
        "and they do not allow duplicate elements. Sets are useful for membership tests,\n",
        "eliminating duplicate entries, and performing mathematical set operations\n",
        "like union, intersection, difference, and symmetric difference.\n",
        "\"\"\""
      ]
    },
    {
      "cell_type": "code",
      "execution_count": null,
      "id": "35b4ae28",
      "metadata": {
        "id": "35b4ae28",
        "outputId": "b5176db2-a1a0-4edf-fffb-cb1ab1c5f909"
      },
      "outputs": [
        {
          "name": "stdout",
          "output_type": "stream",
          "text": [
            "{1, 2, 3, 4, 5}\n",
            "<class 'set'>\n"
          ]
        }
      ],
      "source": [
        "## Create a set\n",
        "\n",
        "my_set = {1, 2, 3, 4, 5}\n",
        "print(my_set)\n",
        "print(type(my_set))"
      ]
    },
    {
      "cell_type": "code",
      "execution_count": null,
      "id": "cb30ee68",
      "metadata": {
        "id": "cb30ee68",
        "outputId": "90849409-4b45-4b82-ee2c-00d729c91156"
      },
      "outputs": [
        {
          "name": "stdout",
          "output_type": "stream",
          "text": [
            "<class 'set'>\n"
          ]
        }
      ],
      "source": [
        "my_empty_set = set()\n",
        "print(type(my_empty_set))"
      ]
    },
    {
      "cell_type": "code",
      "execution_count": null,
      "id": "377dc0de",
      "metadata": {
        "id": "377dc0de",
        "outputId": "fcdb74f0-a0bc-4b89-ad98-8df0281ce5e3"
      },
      "outputs": [
        {
          "name": "stdout",
          "output_type": "stream",
          "text": [
            "{1, 2, 3, 4, 5, 6}\n"
          ]
        }
      ],
      "source": [
        "my_set = set([1, 2, 3, 4, 5, 6])\n",
        "print(my_set)"
      ]
    },
    {
      "cell_type": "code",
      "execution_count": null,
      "id": "2cfbe746",
      "metadata": {
        "id": "2cfbe746",
        "outputId": "6e108bb8-8d93-41cf-cc50-a81cdcdc7a2a"
      },
      "outputs": [
        {
          "name": "stdout",
          "output_type": "stream",
          "text": [
            "{1, 2, 3, 4, 5, 6, 7}\n"
          ]
        }
      ],
      "source": [
        "## Basics Sets Operation\n",
        "\n",
        "## Adding and Removing Elements\n",
        "\n",
        "my_set.add(7)\n",
        "print(my_set)"
      ]
    },
    {
      "cell_type": "code",
      "execution_count": null,
      "id": "714c8b94",
      "metadata": {
        "id": "714c8b94",
        "outputId": "079b599b-2094-4577-e48d-40bbaaf6a751"
      },
      "outputs": [
        {
          "name": "stdout",
          "output_type": "stream",
          "text": [
            "{1, 2, 4, 5, 6, 7}\n"
          ]
        }
      ],
      "source": [
        "## Remove the elements from a set\n",
        "\n",
        "my_set.remove(3)\n",
        "print(my_set)"
      ]
    },
    {
      "cell_type": "code",
      "execution_count": null,
      "id": "f41a089b",
      "metadata": {
        "id": "f41a089b",
        "outputId": "6ed08cd6-b69c-43f8-fa2f-217340531495"
      },
      "outputs": [
        {
          "ename": "KeyError",
          "evalue": "10",
          "output_type": "error",
          "traceback": [
            "\u001b[31m---------------------------------------------------------------------------\u001b[39m",
            "\u001b[31mKeyError\u001b[39m                                  Traceback (most recent call last)",
            "\u001b[36mCell\u001b[39m\u001b[36m \u001b[39m\u001b[32mIn[71]\u001b[39m\u001b[32m, line 1\u001b[39m\n\u001b[32m----> \u001b[39m\u001b[32m1\u001b[39m \u001b[43mmy_set\u001b[49m\u001b[43m.\u001b[49m\u001b[43mremove\u001b[49m\u001b[43m(\u001b[49m\u001b[32;43m10\u001b[39;49m\u001b[43m)\u001b[49m\n",
            "\u001b[31mKeyError\u001b[39m: 10"
          ]
        }
      ],
      "source": [
        "my_set.remove(10)"
      ]
    },
    {
      "cell_type": "code",
      "execution_count": null,
      "id": "bc2df333",
      "metadata": {
        "id": "bc2df333",
        "outputId": "a6523e62-7918-4b9e-ca97-ee32b4d5a9b7"
      },
      "outputs": [
        {
          "name": "stdout",
          "output_type": "stream",
          "text": [
            "{1, 2, 4, 5, 6, 7}\n"
          ]
        }
      ],
      "source": [
        "my_set.discard(11)\n",
        "print(my_set)"
      ]
    },
    {
      "cell_type": "code",
      "execution_count": null,
      "id": "d237292f",
      "metadata": {
        "id": "d237292f",
        "outputId": "958bd007-50e4-4989-e13e-8f218e94df26"
      },
      "outputs": [
        {
          "name": "stdout",
          "output_type": "stream",
          "text": [
            "1\n",
            "{2, 4, 5, 6, 7}\n"
          ]
        }
      ],
      "source": [
        "## pop method\n",
        "\n",
        "removed_element = my_set.pop()\n",
        "print(removed_element)\n",
        "print(my_set)"
      ]
    },
    {
      "cell_type": "code",
      "execution_count": null,
      "id": "2a864a86",
      "metadata": {
        "id": "2a864a86",
        "outputId": "608a14d7-d7f8-460c-e759-7bb3f7086f98"
      },
      "outputs": [
        {
          "name": "stdout",
          "output_type": "stream",
          "text": [
            "set()\n"
          ]
        }
      ],
      "source": [
        "## clear all the elements\n",
        "\n",
        "my_set.clear()\n",
        "print(my_set)"
      ]
    },
    {
      "cell_type": "code",
      "execution_count": null,
      "id": "db1726c5",
      "metadata": {
        "id": "db1726c5",
        "outputId": "d143a74c-ef63-410d-9854-d353bce6e684"
      },
      "outputs": [
        {
          "name": "stdout",
          "output_type": "stream",
          "text": [
            "True\n",
            "False\n"
          ]
        }
      ],
      "source": [
        "## Set Memebership test\n",
        "\n",
        "my_set={1, 2, 3, 4, 5}\n",
        "print(3 in my_set)\n",
        "print(10 in my_set)"
      ]
    },
    {
      "cell_type": "code",
      "execution_count": null,
      "id": "6c5cd246",
      "metadata": {
        "id": "6c5cd246",
        "outputId": "84b3d640-0748-4c5f-99bf-60ae2f287bca"
      },
      "outputs": [
        {
          "name": "stdout",
          "output_type": "stream",
          "text": [
            "{1, 2, 3, 4, 5, 6, 7, 8, 9}\n",
            "{4, 5, 6}\n",
            "{4, 5, 6}\n"
          ]
        }
      ],
      "source": [
        "## Mathematical Operation\n",
        "\n",
        "set1 = {1, 2, 3, 4, 5, 6}\n",
        "set2 = {4, 5, 6, 7, 8, 9}\n",
        "\n",
        "## Union\n",
        "union_set = set1.union(set2)\n",
        "print(union_set)\n",
        "\n",
        "## Intersection\n",
        "intersection_set = set1.intersection(set2)\n",
        "print(intersection_set)\n",
        "\n",
        "set1.intersection_update(set2)\n",
        "print(set1)"
      ]
    },
    {
      "cell_type": "code",
      "execution_count": null,
      "id": "5495cc08",
      "metadata": {
        "id": "5495cc08",
        "outputId": "f34daccf-557e-49a8-c935-4f2fb49dfd83"
      },
      "outputs": [
        {
          "name": "stdout",
          "output_type": "stream",
          "text": [
            "{1, 2, 3}\n"
          ]
        }
      ],
      "source": [
        "set1 = {1, 2, 3, 4, 5, 6}\n",
        "set2={4, 5, 6, 7, 8, 9}\n",
        "\n",
        "## Difference\n",
        "print(set1.difference(set2))"
      ]
    },
    {
      "cell_type": "code",
      "execution_count": null,
      "id": "63874caf",
      "metadata": {
        "id": "63874caf",
        "outputId": "fbade079-44b5-4799-da09-693ea15ffdd7"
      },
      "outputs": [
        {
          "data": {
            "text/plain": [
              "{7, 8, 9}"
            ]
          },
          "execution_count": 78,
          "metadata": {},
          "output_type": "execute_result"
        }
      ],
      "source": [
        "set2.difference(set1)"
      ]
    },
    {
      "cell_type": "code",
      "execution_count": null,
      "id": "eba1dc42",
      "metadata": {
        "id": "eba1dc42",
        "outputId": "7366bec5-999b-4d29-e84a-43929e1625f0"
      },
      "outputs": [
        {
          "data": {
            "text/plain": [
              "{1, 2, 3, 7, 8, 9}"
            ]
          },
          "execution_count": 79,
          "metadata": {},
          "output_type": "execute_result"
        }
      ],
      "source": [
        "## Symmetric Difference\n",
        "set1.symmetric_difference(set2)"
      ]
    },
    {
      "cell_type": "code",
      "execution_count": null,
      "id": "fab39c56",
      "metadata": {
        "id": "fab39c56",
        "outputId": "4f906b70-5fca-49e6-bc31-f69498ce94dc"
      },
      "outputs": [
        {
          "name": "stdout",
          "output_type": "stream",
          "text": [
            "False\n",
            "True\n"
          ]
        }
      ],
      "source": [
        "## Sets Methods\n",
        "set1={1, 2, 3, 4, 5}\n",
        "set2={3, 4, 5}\n",
        "\n",
        "## is subset\n",
        "print(set1.issubset(set2))\n",
        "\n",
        "print(set1.issuperset(set2))"
      ]
    },
    {
      "cell_type": "code",
      "execution_count": null,
      "id": "b0d17980",
      "metadata": {
        "id": "b0d17980",
        "outputId": "e061ae89-3981-4a8f-df97-bd20c2e2106e"
      },
      "outputs": [
        {
          "name": "stdout",
          "output_type": "stream",
          "text": [
            "{'we', 'this', 'are', 'about', 'sets', 'discussing', 'In', 'tutorial'}\n",
            "8\n"
          ]
        }
      ],
      "source": [
        "## Counting Unique words in text\n",
        "\n",
        "text = \"In this tutorial we are discussing about sets\"\n",
        "words = text.split()\n",
        "\n",
        "## convert list of words to set to get unique words\n",
        "\n",
        "unique_words = set(words)\n",
        "print(unique_words)\n",
        "print(len(unique_words))"
      ]
    },
    {
      "cell_type": "markdown",
      "id": "e151ee97",
      "metadata": {
        "id": "e151ee97"
      },
      "source": [
        "### 10 - Dictionaries"
      ]
    },
    {
      "cell_type": "code",
      "execution_count": null,
      "id": "05e5d150",
      "metadata": {
        "id": "05e5d150",
        "outputId": "50e3a7bd-dab2-4ed8-e2f5-4f149bdab4a3"
      },
      "outputs": [
        {
          "data": {
            "text/plain": [
              "'\\nDictionaries are unordered collections of items. \\nThey store data in key-value pairs.\\nKeys must be unique and immutable (e.g., strings, numbers, or tuples), \\nwhile values can be of any type.\\n'"
            ]
          },
          "execution_count": 82,
          "metadata": {},
          "output_type": "execute_result"
        }
      ],
      "source": [
        "\"\"\"\n",
        "Dictionaries are unordered collections of items.\n",
        "They store data in key-value pairs.\n",
        "Keys must be unique and immutable (e.g., strings, numbers, or tuples),\n",
        "while values can be of any type.\n",
        "\"\"\""
      ]
    },
    {
      "cell_type": "code",
      "execution_count": null,
      "id": "613c870b",
      "metadata": {
        "id": "613c870b",
        "outputId": "f1ccde96-ddea-4803-82fd-afb7e5cb3fa6"
      },
      "outputs": [
        {
          "name": "stdout",
          "output_type": "stream",
          "text": [
            "<class 'dict'>\n"
          ]
        }
      ],
      "source": [
        "## Creating Dictionaries\n",
        "\n",
        "empty_dict = {}\n",
        "print(type(empty_dict))"
      ]
    },
    {
      "cell_type": "code",
      "execution_count": null,
      "id": "2e55e1a1",
      "metadata": {
        "id": "2e55e1a1",
        "outputId": "bd3c0164-85dd-4990-d7ce-9e73a3b644de"
      },
      "outputs": [
        {
          "data": {
            "text/plain": [
              "{}"
            ]
          },
          "execution_count": 84,
          "metadata": {},
          "output_type": "execute_result"
        }
      ],
      "source": [
        "empty_dict = dict()\n",
        "empty_dict"
      ]
    },
    {
      "cell_type": "code",
      "execution_count": null,
      "id": "ba49477b",
      "metadata": {
        "id": "ba49477b",
        "outputId": "ad1c9842-8f42-404f-a2d3-7234bcf85df9"
      },
      "outputs": [
        {
          "name": "stdout",
          "output_type": "stream",
          "text": [
            "{'name': 'Mathujan', 'age': 12, 'grade': 100}\n",
            "<class 'dict'>\n"
          ]
        }
      ],
      "source": [
        "student = {\"name\": \"Mathujan\", \"age\": 12, \"grade\": 100}\n",
        "print(student)\n",
        "print(type(student))"
      ]
    },
    {
      "cell_type": "code",
      "execution_count": null,
      "id": "b7429466",
      "metadata": {
        "id": "b7429466",
        "outputId": "39c6175f-62b9-4afd-88d4-41ab917a83ba"
      },
      "outputs": [
        {
          "name": "stdout",
          "output_type": "stream",
          "text": [
            "{'name': 24, 'age': 12}\n"
          ]
        }
      ],
      "source": [
        "# Single key is always used\n",
        "student = {\"name\": \"Mathujan\", \"age\": 12, \"name\": 24}\n",
        "print(student)"
      ]
    },
    {
      "cell_type": "code",
      "execution_count": null,
      "id": "2592924a",
      "metadata": {
        "id": "2592924a",
        "outputId": "936e4e0c-971a-4d71-a267-3026f22a2dc7"
      },
      "outputs": [
        {
          "name": "stdout",
          "output_type": "stream",
          "text": [
            "{'name': 'Mathujan', 'age': 12, 'grade': 'A'}\n"
          ]
        }
      ],
      "source": [
        "## Accessing Dictionary Elements\n",
        "student={\"name\": \"Mathujan\", \"age\": 12, \"grade\": 'A'}\n",
        "print(student)"
      ]
    },
    {
      "cell_type": "code",
      "execution_count": null,
      "id": "f934abb0",
      "metadata": {
        "id": "f934abb0",
        "outputId": "7fdb5fed-3790-405b-9622-0a88a9e2828a"
      },
      "outputs": [
        {
          "name": "stdout",
          "output_type": "stream",
          "text": [
            "A\n",
            "12\n",
            "A\n",
            "None\n",
            "Not Available\n"
          ]
        }
      ],
      "source": [
        "## Accessing Dictionary elements\n",
        "print(student['grade'])\n",
        "print(student['age'])\n",
        "\n",
        "## Accessing using get() method\n",
        "print(student.get('grade'))\n",
        "print(student.get('last_name'))\n",
        "print(student.get('last_name', \"Not Available\"))"
      ]
    },
    {
      "cell_type": "code",
      "execution_count": null,
      "id": "db78b169",
      "metadata": {
        "id": "db78b169",
        "outputId": "1f87e7e4-1330-42d8-90c3-9de32603b34b"
      },
      "outputs": [
        {
          "name": "stdout",
          "output_type": "stream",
          "text": [
            "{'name': 'Mathujan', 'age': 12, 'grade': 'A'}\n"
          ]
        }
      ],
      "source": [
        "## Modifying Dicitonary Elements\n",
        "\n",
        "## Dictionary are mutable, so you can add, update or delete elements\n",
        "print(student)"
      ]
    },
    {
      "cell_type": "code",
      "execution_count": null,
      "id": "603024a9",
      "metadata": {
        "id": "603024a9",
        "outputId": "147ab4e7-82eb-4d29-c51d-400aca851b91"
      },
      "outputs": [
        {
          "name": "stdout",
          "output_type": "stream",
          "text": [
            "{'name': 'Mathujan', 'age': 14, 'grade': 'A'}\n",
            "{'name': 'Mathujan', 'age': 14, 'grade': 'A', 'address': 'UK'}\n"
          ]
        }
      ],
      "source": [
        "student[\"age\"] = 14  ## update value for the key\n",
        "print(student)\n",
        "student[\"address\"] = \"UK\" ## added a new key and value\n",
        "print(student)"
      ]
    },
    {
      "cell_type": "code",
      "execution_count": null,
      "id": "3a000b24",
      "metadata": {
        "id": "3a000b24",
        "outputId": "ac03bb0d-1fd9-4e0f-ffd4-e9411db7199e"
      },
      "outputs": [
        {
          "name": "stdout",
          "output_type": "stream",
          "text": [
            "{'name': 'Mathujan', 'age': 14, 'address': 'UK'}\n"
          ]
        }
      ],
      "source": [
        "del student['grade'] ## delete key and value pair\n",
        "\n",
        "print(student)"
      ]
    },
    {
      "cell_type": "code",
      "execution_count": null,
      "id": "86822af2",
      "metadata": {
        "id": "86822af2",
        "outputId": "91f0057e-dab6-4393-831e-cbe6b5637074"
      },
      "outputs": [
        {
          "name": "stdout",
          "output_type": "stream",
          "text": [
            "dict_keys(['name', 'age', 'address'])\n",
            "dict_values(['Mathujan', 14, 'UK'])\n",
            "dict_items([('name', 'Mathujan'), ('age', 14), ('address', 'UK')])\n"
          ]
        }
      ],
      "source": [
        "## Dictionary methods\n",
        "\n",
        "keys = student.keys() ## get all the keys\n",
        "print(keys)\n",
        "values = student.values() ## get all values\n",
        "print(values)\n",
        "items = student.items() ## get all key value pairs\n",
        "print(items)"
      ]
    },
    {
      "cell_type": "code",
      "execution_count": null,
      "id": "ba55c78d",
      "metadata": {
        "id": "ba55c78d",
        "outputId": "9130c65b-1968-4252-d266-cf7bdfe5b771"
      },
      "outputs": [
        {
          "name": "stdout",
          "output_type": "stream",
          "text": [
            "{'name': 'Mathujan', 'age': 14, 'address': 'UK'}\n",
            "{'name': 'Mathujan', 'age': 14, 'address': 'UK'}\n"
          ]
        }
      ],
      "source": [
        "## Shallow copy\n",
        "\n",
        "student_copy = student\n",
        "print(student)\n",
        "print(student_copy)"
      ]
    },
    {
      "cell_type": "code",
      "execution_count": null,
      "id": "5af5a800",
      "metadata": {
        "id": "5af5a800",
        "outputId": "238a32ed-93ba-41ab-9495-7c143102fcae"
      },
      "outputs": [
        {
          "name": "stdout",
          "output_type": "stream",
          "text": [
            "{'name': 'Mathujan2', 'age': 14, 'address': 'UK'}\n",
            "{'name': 'Mathujan2', 'age': 14, 'address': 'UK'}\n"
          ]
        }
      ],
      "source": [
        "student[\"name\"] = \"Mathujan2\"\n",
        "print(student)\n",
        "print(student_copy)"
      ]
    },
    {
      "cell_type": "code",
      "execution_count": null,
      "id": "9bbd5219",
      "metadata": {
        "id": "9bbd5219",
        "outputId": "99c45a2b-6b57-4c14-96e3-2f793448d2bd"
      },
      "outputs": [
        {
          "name": "stdout",
          "output_type": "stream",
          "text": [
            "{'name': 'Mathujan2', 'age': 14, 'address': 'UK'}\n",
            "{'name': 'Mathujan2', 'age': 14, 'address': 'UK'}\n"
          ]
        }
      ],
      "source": [
        "student_copy1 = student.copy()\n",
        "print(student_copy1)\n",
        "print(student)"
      ]
    },
    {
      "cell_type": "code",
      "execution_count": null,
      "id": "6a611081",
      "metadata": {
        "id": "6a611081",
        "outputId": "69793960-b90b-4c3c-9f14-514094918f5e"
      },
      "outputs": [
        {
          "name": "stdout",
          "output_type": "stream",
          "text": [
            "{'name': 'Mathujan2', 'age': 14, 'address': 'UK'}\n",
            "{'name': 'Mathujan3', 'age': 14, 'address': 'UK'}\n"
          ]
        }
      ],
      "source": [
        "student[\"name\"] = \"Mathujan3\"\n",
        "print(student_copy1)\n",
        "print(student)"
      ]
    },
    {
      "cell_type": "code",
      "execution_count": null,
      "id": "e7a6ae37",
      "metadata": {
        "id": "e7a6ae37",
        "outputId": "81dc1c4a-c8d3-43f1-f7f9-5a9d686f664e"
      },
      "outputs": [
        {
          "name": "stdout",
          "output_type": "stream",
          "text": [
            "name\n",
            "age\n",
            "address\n"
          ]
        }
      ],
      "source": [
        "## Iterating Over Dictionaries\n",
        "## You can use loops to iterate over dictionatries, keys, values, or items\n",
        "\n",
        "## Iterating over keys\n",
        "for keys in student.keys():\n",
        "    print(keys)"
      ]
    },
    {
      "cell_type": "code",
      "execution_count": null,
      "id": "146a1db6",
      "metadata": {
        "id": "146a1db6",
        "outputId": "2d7682eb-120b-447e-e79d-14f0ebc99d17"
      },
      "outputs": [
        {
          "name": "stdout",
          "output_type": "stream",
          "text": [
            "Mathujan3\n",
            "14\n",
            "UK\n"
          ]
        }
      ],
      "source": [
        "## Iterate over values\n",
        "for value in student.values():\n",
        "    print(value)"
      ]
    },
    {
      "cell_type": "code",
      "execution_count": null,
      "id": "e542a38c",
      "metadata": {
        "id": "e542a38c",
        "outputId": "234c175e-bfe9-4c08-bf41-19e069f8a9af"
      },
      "outputs": [
        {
          "name": "stdout",
          "output_type": "stream",
          "text": [
            "name: Mathujan3\n",
            "age: 14\n",
            "address: UK\n"
          ]
        }
      ],
      "source": [
        "## Iterate over key value pairs\n",
        "for key, value in student.items():\n",
        "    print(f\"{key}: {value}\")"
      ]
    },
    {
      "cell_type": "code",
      "execution_count": null,
      "id": "ecaa8ca2",
      "metadata": {
        "id": "ecaa8ca2",
        "outputId": "44b80c6b-2fa1-4428-85b5-bcf3de29a0ab"
      },
      "outputs": [
        {
          "name": "stdout",
          "output_type": "stream",
          "text": [
            "{'student1': {'name': 'Mathujan', 'age': 14}, 'student2': {'name': 'Peter', 'age': 35}}\n"
          ]
        }
      ],
      "source": [
        "## Nested Disctionaries\n",
        "students={\n",
        "    \"student1\": {\"name\": \"Mathujan\", \"age\": 14},\n",
        "    \"student2\": {\"name\": \"Peter\", \"age\":35}\n",
        "}\n",
        "print(students)"
      ]
    },
    {
      "cell_type": "code",
      "execution_count": null,
      "id": "7b9dd321",
      "metadata": {
        "id": "7b9dd321",
        "outputId": "6972921c-d8ca-4b67-fb0e-b69e78edeab7"
      },
      "outputs": [
        {
          "name": "stdout",
          "output_type": "stream",
          "text": [
            "Peter\n",
            "35\n"
          ]
        }
      ],
      "source": [
        "## Access nested dictionaries elements\n",
        "\n",
        "print(students[\"student2\"][\"name\"])\n",
        "print(students[\"student2\"][\"age\"])"
      ]
    },
    {
      "cell_type": "code",
      "execution_count": null,
      "id": "611e969b",
      "metadata": {
        "id": "611e969b",
        "outputId": "fa8025ad-9cb3-4625-e813-145f1dd29e0a"
      },
      "outputs": [
        {
          "data": {
            "text/plain": [
              "dict_items([('student1', {'name': 'Mathujan', 'age': 14}), ('student2', {'name': 'Peter', 'age': 35})])"
            ]
          },
          "execution_count": 103,
          "metadata": {},
          "output_type": "execute_result"
        }
      ],
      "source": [
        "students.items()"
      ]
    },
    {
      "cell_type": "code",
      "execution_count": null,
      "id": "ad39736c",
      "metadata": {
        "id": "ad39736c",
        "outputId": "041e6ecf-3227-4c5e-fa9c-49b9ae619315"
      },
      "outputs": [
        {
          "name": "stdout",
          "output_type": "stream",
          "text": [
            "student1: {'name': 'Mathujan', 'age': 14}\n",
            "name: Mathujan\n",
            "age: 14\n",
            "student2: {'name': 'Peter', 'age': 35}\n",
            "name: Peter\n",
            "age: 35\n"
          ]
        }
      ],
      "source": [
        "## Iterating over nested dictionaries\n",
        "\n",
        "for student_id, student_info in students.items():\n",
        "    print(f\"{student_id}: {student_info}\")\n",
        "    for key, value in student_info.items():\n",
        "        print(f\"{key}: {value}\")"
      ]
    },
    {
      "cell_type": "code",
      "execution_count": null,
      "id": "148da8d2",
      "metadata": {
        "id": "148da8d2",
        "outputId": "fb9ef084-f0f5-49b4-8546-187447e87fc0"
      },
      "outputs": [
        {
          "name": "stdout",
          "output_type": "stream",
          "text": [
            "{0: 0, 1: 1, 2: 4, 3: 9, 4: 16}\n"
          ]
        }
      ],
      "source": [
        "## Dictionary Comprehension\n",
        "\n",
        "squares = {x:x**2 for x in range(5)}\n",
        "print(squares)"
      ]
    },
    {
      "cell_type": "code",
      "execution_count": null,
      "id": "418aee82",
      "metadata": {
        "id": "418aee82",
        "outputId": "26279b75-143e-4ba9-9e80-63c1a3d50a85"
      },
      "outputs": [
        {
          "name": "stdout",
          "output_type": "stream",
          "text": [
            "{0: 0, 2: 4, 4: 16, 6: 36, 8: 64}\n"
          ]
        }
      ],
      "source": [
        "## Condition dictionary comprehension\n",
        "evens = {x:x**2 for x in range(10) if x%2==0}\n",
        "print(evens)"
      ]
    },
    {
      "cell_type": "code",
      "execution_count": null,
      "id": "571ecbf3",
      "metadata": {
        "id": "571ecbf3",
        "outputId": "85767244-9adf-4e69-e313-559a6119246c"
      },
      "outputs": [
        {
          "name": "stdout",
          "output_type": "stream",
          "text": [
            "{'a': 1, 'b': 3, 'c': 4}\n"
          ]
        }
      ],
      "source": [
        "## Merge 2 dictionaries into one\n",
        "\n",
        "dict1 = {\"a\": 1, \"b\": 2}\n",
        "dict2 = {\"b\": 3, \"c\": 4}\n",
        "merged_dict = {**dict1, **dict2}\n",
        "print(merged_dict)"
      ]
    },
    {
      "cell_type": "code",
      "execution_count": null,
      "id": "b4721753",
      "metadata": {
        "id": "b4721753",
        "outputId": "dfca0df1-bf28-42f4-8027-055dfc670712"
      },
      "outputs": [
        {
          "name": "stdout",
          "output_type": "stream",
          "text": [
            "{1: 1, 2: 2, 3: 3, 4: 4}\n"
          ]
        }
      ],
      "source": [
        "## Use a dictionary to count he frequency of elements in list\n",
        "\n",
        "numbers = [1,2,2,3,3,3,4,4,4,4]\n",
        "frequency = {}\n",
        "\n",
        "for number in numbers:\n",
        "    if number in frequency:\n",
        "        frequency[number]+=1\n",
        "    else:\n",
        "        frequency[number]=1\n",
        "print(frequency)"
      ]
    },
    {
      "cell_type": "markdown",
      "id": "749d0719",
      "metadata": {
        "id": "749d0719"
      },
      "source": [
        "## Functions"
      ]
    },
    {
      "cell_type": "code",
      "execution_count": null,
      "id": "df21e070",
      "metadata": {
        "id": "df21e070"
      },
      "outputs": [],
      "source": [
        "# - A function is a block of code that performs a specific task.\n",
        "#Functions help in organizing code, reusing code, and improving readability."
      ]
    },
    {
      "cell_type": "code",
      "execution_count": null,
      "id": "0e2b8576",
      "metadata": {
        "id": "0e2b8576"
      },
      "outputs": [],
      "source": [
        "## Syntax\n",
        "\n",
        "def function_name(parameters):\n",
        "    \"\"\"Docstring\"\"\"\n",
        "    # Function body\n",
        "    return expression"
      ]
    },
    {
      "cell_type": "code",
      "execution_count": null,
      "id": "b23126f2",
      "metadata": {
        "id": "b23126f2",
        "outputId": "2613bf84-6cb9-4198-b001-743d5215c928"
      },
      "outputs": [
        {
          "name": "stdout",
          "output_type": "stream",
          "text": [
            "the number is even\n"
          ]
        }
      ],
      "source": [
        "def even_or_odd(num):\n",
        "    \"\"\"This function finds even or odd\"\"\"\n",
        "    if num%2 == 0:\n",
        "        print(\"the number is even\")\n",
        "    else:\n",
        "        print(\"the number is odd\")\n",
        "\n",
        "## Call this function\n",
        "even_or_odd(24)"
      ]
    },
    {
      "cell_type": "code",
      "execution_count": null,
      "id": "529d6f49",
      "metadata": {
        "id": "529d6f49",
        "outputId": "b618ad84-f171-4752-b4fe-98d68c6a17a0"
      },
      "outputs": [
        {
          "name": "stdout",
          "output_type": "stream",
          "text": [
            "6\n"
          ]
        }
      ],
      "source": [
        "## Function with multiple parameters\n",
        "\n",
        "def add(a, b):\n",
        "    return a + b\n",
        "\n",
        "result = add(2, 4)\n",
        "print(result)"
      ]
    },
    {
      "cell_type": "code",
      "execution_count": null,
      "id": "8172a25c",
      "metadata": {
        "id": "8172a25c",
        "outputId": "37c09eac-47ab-4538-a02b-0889a1554670"
      },
      "outputs": [
        {
          "name": "stdout",
          "output_type": "stream",
          "text": [
            "1\n",
            "2\n",
            "3\n",
            "4\n",
            "5\n",
            "6\n",
            "7\n",
            "8\n",
            "Mathujan\n",
            "Sivanathan\n"
          ]
        }
      ],
      "source": [
        "## Positional arguments\n",
        "\n",
        "def print_numbers(*args):\n",
        "    for number in args:\n",
        "        print(number)\n",
        "\n",
        "print_numbers(1, 2, 3, 4, 5, 6, 7, 8, \"Mathujan\", \"Sivanathan\")"
      ]
    },
    {
      "cell_type": "code",
      "execution_count": null,
      "id": "ed904327",
      "metadata": {
        "id": "ed904327",
        "outputId": "8dda20ba-9e27-4536-8239-c3a87cda1cff"
      },
      "outputs": [
        {
          "name": "stdout",
          "output_type": "stream",
          "text": [
            "name: Mathujan\n",
            "age: 12\n",
            "country: UK\n"
          ]
        }
      ],
      "source": [
        "## Keywords Arguments\n",
        "\n",
        "def print_details(**kwargs):\n",
        "    for key, value in kwargs.items():\n",
        "        print(f\"{key}: {value}\")\n",
        "\n",
        "print_details(name=\"Mathujan\", age=\"12\", country=\"UK\")"
      ]
    },
    {
      "cell_type": "code",
      "execution_count": null,
      "id": "cc52a44f",
      "metadata": {
        "id": "cc52a44f",
        "outputId": "356b1053-26ce-42ca-f80a-1bb630e1791a"
      },
      "outputs": [
        {
          "name": "stdout",
          "output_type": "stream",
          "text": [
            " Positional arument :Mathujan\n",
            " Positional arument :Sivanathan\n",
            "name: Mathujan\n",
            "age: 12\n",
            "country: UK\n"
          ]
        }
      ],
      "source": [
        "def print_details(*args, **kwargs):\n",
        "    for val in args:\n",
        "        print(f\" Positional arument :{val}\")\n",
        "\n",
        "    for key,value in kwargs.items():\n",
        "        print(f\"{key}: {value}\")\n",
        "\n",
        "print_details(\"Mathujan\", \"Sivanathan\", name=\"Mathujan\", age=\"12\", country=\"UK\")"
      ]
    },
    {
      "cell_type": "code",
      "execution_count": null,
      "id": "08e66e80",
      "metadata": {
        "id": "08e66e80",
        "outputId": "3a0b5c74-c8bf-454a-b1ba-ac3e075128b5"
      },
      "outputs": [
        {
          "data": {
            "text/plain": [
              "6"
            ]
          },
          "execution_count": 8,
          "metadata": {},
          "output_type": "execute_result"
        }
      ],
      "source": [
        "## Return statements\n",
        "def multiply(a, b):\n",
        "    return a*b\n",
        "\n",
        "multiply(2, 3)"
      ]
    },
    {
      "cell_type": "code",
      "execution_count": null,
      "id": "35a202fc",
      "metadata": {
        "id": "35a202fc",
        "outputId": "9284300d-1485-4282-889d-64aaabcf4d75"
      },
      "outputs": [
        {
          "data": {
            "text/plain": [
              "(6, 2)"
            ]
          },
          "execution_count": 9,
          "metadata": {},
          "output_type": "execute_result"
        }
      ],
      "source": [
        "## Return multiple parameters\n",
        "def multiply(a, b):\n",
        "    return a*b, a\n",
        "\n",
        "multiply(2, 3)"
      ]
    },
    {
      "cell_type": "markdown",
      "id": "35cf78df",
      "metadata": {
        "id": "35cf78df"
      },
      "source": [
        "### 11 - Lambda Function"
      ]
    },
    {
      "cell_type": "code",
      "execution_count": null,
      "id": "f76447c1",
      "metadata": {
        "id": "f76447c1",
        "outputId": "2d44adb5-048a-40de-dae6-0f894bc752f3"
      },
      "outputs": [
        {
          "data": {
            "text/plain": [
              "<function __main__.<lambda>(arguments)>"
            ]
          },
          "execution_count": 10,
          "metadata": {},
          "output_type": "execute_result"
        }
      ],
      "source": [
        "## Syntax\n",
        "\n",
        "lambda arguments: expression"
      ]
    },
    {
      "cell_type": "code",
      "execution_count": null,
      "id": "682539cc",
      "metadata": {
        "id": "682539cc",
        "outputId": "c2ee9a8f-426c-40bc-cfa8-cc0c5b5a7570"
      },
      "outputs": [
        {
          "data": {
            "text/plain": [
              "11"
            ]
          },
          "execution_count": 11,
          "metadata": {},
          "output_type": "execute_result"
        }
      ],
      "source": [
        "addition = lambda a, b : a+b\n",
        "addition(5, 6)"
      ]
    },
    {
      "cell_type": "code",
      "execution_count": null,
      "id": "9a308ad1",
      "metadata": {
        "id": "9a308ad1",
        "outputId": "57119733-e145-4d31-c74b-facaf46b4b66"
      },
      "outputs": [
        {
          "data": {
            "text/plain": [
              "True"
            ]
          },
          "execution_count": 12,
          "metadata": {},
          "output_type": "execute_result"
        }
      ],
      "source": [
        "is_even = lambda num : num % 2 == 0\n",
        "is_even(12)"
      ]
    },
    {
      "cell_type": "markdown",
      "id": "20572658",
      "metadata": {
        "id": "20572658"
      },
      "source": [
        "### 12 - Map Function"
      ]
    },
    {
      "cell_type": "code",
      "execution_count": null,
      "id": "90c15340",
      "metadata": {
        "id": "90c15340",
        "outputId": "450d4ff3-d459-4789-c3b3-e200a84e683b"
      },
      "outputs": [
        {
          "data": {
            "text/plain": [
              "[1, 4, 9, 16, 25, 36, 49, 64]"
            ]
          },
          "execution_count": 13,
          "metadata": {},
          "output_type": "execute_result"
        }
      ],
      "source": [
        "def square(x):\n",
        "    return x * x\n",
        "\n",
        "numbers=[1, 2, 3, 4, 5, 6, 7, 8]\n",
        "\n",
        "list(map(square, numbers))"
      ]
    },
    {
      "cell_type": "code",
      "execution_count": null,
      "id": "a580987a",
      "metadata": {
        "id": "a580987a",
        "outputId": "98f31035-7554-4d22-b900-6c34e9a2ae40"
      },
      "outputs": [
        {
          "data": {
            "text/plain": [
              "[1, 4, 9, 16, 25, 36, 49, 64]"
            ]
          },
          "execution_count": 14,
          "metadata": {},
          "output_type": "execute_result"
        }
      ],
      "source": [
        "## Lambda function with map\n",
        "\n",
        "numbers = [1, 2, 3, 4, 5, 6, 7, 8]\n",
        "list(map(lambda x : x*x, numbers))"
      ]
    },
    {
      "cell_type": "code",
      "execution_count": null,
      "id": "3765f89a",
      "metadata": {
        "id": "3765f89a",
        "outputId": "f3c689e9-2339-44ce-b1cc-0af08af69ec3"
      },
      "outputs": [
        {
          "name": "stdout",
          "output_type": "stream",
          "text": [
            "[5, 7, 9]\n"
          ]
        }
      ],
      "source": [
        "## Map multiple iterables\n",
        "\n",
        "numbers1 = [1, 2, 3]\n",
        "numbers2 = [4, 5, 6]\n",
        "\n",
        "added_numbers = list(map(lambda x, y : x+y, numbers1, numbers2))\n",
        "print(added_numbers)"
      ]
    },
    {
      "cell_type": "code",
      "execution_count": null,
      "id": "6179abfc",
      "metadata": {
        "id": "6179abfc",
        "outputId": "7d0dcd07-e714-4e70-ceb5-b7256915cc82"
      },
      "outputs": [
        {
          "name": "stdout",
          "output_type": "stream",
          "text": [
            "[1, 2, 3, 4, 5]\n"
          ]
        }
      ],
      "source": [
        "## map() to convert a list of strings to integers\n",
        "# Use map to convert strings to integers\n",
        "\n",
        "str_numbers = ['1', '2', '3', '4', '5']\n",
        "int_numbers = list(map(int, str_numbers))\n",
        "\n",
        "print(int_numbers)  # Output: [1, 2, 3, 4, 5]"
      ]
    },
    {
      "cell_type": "markdown",
      "id": "7a7fd550",
      "metadata": {
        "id": "7a7fd550"
      },
      "source": [
        "### 13 - Filter Function"
      ]
    },
    {
      "cell_type": "code",
      "execution_count": null,
      "id": "1a9f2677",
      "metadata": {
        "id": "1a9f2677",
        "outputId": "66547b11-f4c8-4503-906b-518a8691f1ca"
      },
      "outputs": [
        {
          "data": {
            "text/plain": [
              "[2, 4, 6, 8, 10, 12]"
            ]
          },
          "execution_count": 17,
          "metadata": {},
          "output_type": "execute_result"
        }
      ],
      "source": [
        "def even(num):\n",
        "    if num % 2 == 0:\n",
        "        return True\n",
        "\n",
        "lst = [1, 2, 3, 4, 5, 6, 7, 8, 9, 10, 11, 12]\n",
        "\n",
        "list(filter(even, lst))"
      ]
    },
    {
      "cell_type": "code",
      "execution_count": null,
      "id": "b2dd83b1",
      "metadata": {
        "id": "b2dd83b1",
        "outputId": "c53a84ee-07b5-49f8-d103-d98c3bcb0cb2"
      },
      "outputs": [
        {
          "name": "stdout",
          "output_type": "stream",
          "text": [
            "[6, 8]\n"
          ]
        }
      ],
      "source": [
        "## Filter with a lambda function and multiple conditions\n",
        "\n",
        "numbers = [1, 2, 3, 4, 5, 6, 7, 8, 9]\n",
        "even_and_greater_than_five = list(filter(lambda x:x>5 and x%2==0, numbers))\n",
        "print(even_and_greater_than_five)"
      ]
    },
    {
      "cell_type": "markdown",
      "id": "86c408c3",
      "metadata": {
        "id": "86c408c3"
      },
      "source": [
        "## Modules and Packages"
      ]
    },
    {
      "cell_type": "markdown",
      "id": "9a74e263",
      "metadata": {
        "id": "9a74e263"
      },
      "source": [
        "### 14 - Importing Modules"
      ]
    },
    {
      "cell_type": "code",
      "execution_count": null,
      "id": "4aee1ea1",
      "metadata": {
        "id": "4aee1ea1",
        "outputId": "fe402452-1041-4e19-9288-5b065b4c6198"
      },
      "outputs": [
        {
          "name": "stdout",
          "output_type": "stream",
          "text": [
            "4.0\n",
            "5.0\n",
            "3.141592653589793\n"
          ]
        }
      ],
      "source": [
        "from math import sqrt, pi\n",
        "\n",
        "print(sqrt(16))\n",
        "print(sqrt(25))\n",
        "print(pi)"
      ]
    },
    {
      "cell_type": "code",
      "execution_count": null,
      "id": "be251520",
      "metadata": {
        "id": "be251520",
        "outputId": "ba3ed37a-499d-4b41-86be-0dcf2367bfd5"
      },
      "outputs": [
        {
          "data": {
            "text/plain": [
              "array([1, 2, 3, 4])"
            ]
          },
          "execution_count": 22,
          "metadata": {},
          "output_type": "execute_result"
        }
      ],
      "source": [
        "import numpy as np\n",
        "\n",
        "np.array([1, 2, 3, 4])"
      ]
    },
    {
      "cell_type": "markdown",
      "id": "aebb5f8f",
      "metadata": {
        "id": "aebb5f8f"
      },
      "source": [
        "### 15 - Standard Library"
      ]
    },
    {
      "cell_type": "code",
      "execution_count": null,
      "id": "ce946906",
      "metadata": {
        "id": "ce946906",
        "outputId": "7b217e04-33aa-4770-d662-4e3b77ad08fc"
      },
      "outputs": [
        {
          "name": "stdout",
          "output_type": "stream",
          "text": [
            "7\n",
            "apple\n"
          ]
        }
      ],
      "source": [
        "## Random\n",
        "\n",
        "import random\n",
        "print(random.randint(1, 10))\n",
        "print(random.choice(['apple', 'banana', 'cherry']))"
      ]
    },
    {
      "cell_type": "code",
      "execution_count": null,
      "id": "619c1f7a",
      "metadata": {
        "id": "619c1f7a",
        "outputId": "afab646a-68ed-4ba6-a14a-4784e52d0a73"
      },
      "outputs": [
        {
          "name": "stdout",
          "output_type": "stream",
          "text": [
            "f:\\Master Data Analysis\\3 - Complete Python with Important Libraries\n"
          ]
        }
      ],
      "source": [
        "## File and Directory Access\n",
        "\n",
        "import os\n",
        "print(os.getcwd())"
      ]
    },
    {
      "cell_type": "code",
      "execution_count": null,
      "id": "8ef09541",
      "metadata": {
        "id": "8ef09541",
        "outputId": "a6dd4a9b-8437-4d51-93f8-d23d054590c3"
      },
      "outputs": [
        {
          "name": "stdout",
          "output_type": "stream",
          "text": [
            "{\"name\": \"Mathujan\", \"age\": 12}\n",
            "<class 'str'>\n",
            "{'name': 'Mathujan', 'age': 12}\n",
            "<class 'dict'>\n"
          ]
        }
      ],
      "source": [
        "## Data Serialization\n",
        "\n",
        "import json\n",
        "data = {'name': 'Mathujan', 'age': 12}\n",
        "\n",
        "json_str = json.dumps(data)\n",
        "print(json_str)\n",
        "print(type(json_str))\n",
        "\n",
        "parsed_data = json.loads(json_str)\n",
        "print(parsed_data)\n",
        "print(type(parsed_data))"
      ]
    },
    {
      "cell_type": "code",
      "execution_count": null,
      "id": "980696af",
      "metadata": {
        "id": "980696af",
        "outputId": "2b0ffc20-6d55-4e96-df26-fa7ed1ae242a"
      },
      "outputs": [
        {
          "name": "stdout",
          "output_type": "stream",
          "text": [
            "2025-06-24 16:32:32.267977\n",
            "2025-06-23 16:32:32.267977\n"
          ]
        }
      ],
      "source": [
        "## Datetime\n",
        "\n",
        "from datetime import datetime, timedelta\n",
        "\n",
        "now = datetime.now()\n",
        "print(now)\n",
        "\n",
        "yesterday = now - timedelta(days=1)\n",
        "\n",
        "print(yesterday)"
      ]
    },
    {
      "cell_type": "markdown",
      "id": "1cd99067",
      "metadata": {
        "id": "1cd99067"
      },
      "source": [
        "## File Operation"
      ]
    },
    {
      "cell_type": "markdown",
      "id": "cfef351a",
      "metadata": {
        "id": "cfef351a"
      },
      "source": [
        "### 16 - Read and Write Files"
      ]
    },
    {
      "cell_type": "code",
      "execution_count": null,
      "id": "bd113141",
      "metadata": {
        "id": "bd113141",
        "outputId": "24190845-eee2-44a1-d7f0-144ddc91d08f"
      },
      "outputs": [
        {
          "name": "stdout",
          "output_type": "stream",
          "text": [
            "Hey There!\n",
            "I am Mathujan.\n"
          ]
        }
      ],
      "source": [
        "## Read a Whole File\n",
        "\n",
        "with open('example.txt', 'r') as file:\n",
        "    content = file.read()\n",
        "    print(content)"
      ]
    },
    {
      "cell_type": "code",
      "execution_count": null,
      "id": "66cfc3b2",
      "metadata": {
        "id": "66cfc3b2",
        "outputId": "5377506f-9827-43c3-b226-af0629a11f5c"
      },
      "outputs": [
        {
          "name": "stdout",
          "output_type": "stream",
          "text": [
            "Hey There!\n",
            "I am Mathujan.\n"
          ]
        }
      ],
      "source": [
        "## Read a file line by line\n",
        "\n",
        "with open('example.txt', 'r') as file:\n",
        "    for line in file:\n",
        "        print(line.strip()) # strip() removes the newline character"
      ]
    },
    {
      "cell_type": "code",
      "execution_count": null,
      "id": "569c8ab7",
      "metadata": {
        "id": "569c8ab7"
      },
      "outputs": [],
      "source": [
        "## Writing a file (Overwriting)\n",
        "\n",
        "with open('example.txt', 'w') as file:\n",
        "    file.write('Hello World!\\n')\n",
        "    file.write('This is a new line.')"
      ]
    },
    {
      "cell_type": "code",
      "execution_count": null,
      "id": "8b7d4aae",
      "metadata": {
        "id": "8b7d4aae"
      },
      "outputs": [],
      "source": [
        "## Write a file (without Overwriting)\n",
        "with open('example.txt', 'a') as file:\n",
        "    file.write(\"Append operation taking place!\\n\")"
      ]
    },
    {
      "cell_type": "code",
      "execution_count": null,
      "id": "a1406651",
      "metadata": {
        "id": "a1406651"
      },
      "outputs": [],
      "source": [
        "## Read the content from a source text fiile and write to a destination text file\n",
        "## Copying a text file\n",
        "\n",
        "with open('example.txt', 'r') as source_file:\n",
        "    content = source_file.read()\n",
        "\n",
        "with open('destination.txt', 'w') as destination_file:\n",
        "    destination_file.write(content)\n"
      ]
    },
    {
      "cell_type": "code",
      "execution_count": null,
      "id": "3240632e",
      "metadata": {
        "id": "3240632e",
        "outputId": "cd3a625b-34bc-4542-e7d1-0994e5de18a5"
      },
      "outputs": [
        {
          "name": "stdout",
          "output_type": "stream",
          "text": [
            "Lines: 2, Words: 10, Characters: 63\n"
          ]
        }
      ],
      "source": [
        "## Read a text file and count the number of lines, words, and characters.\n",
        "## Counting lines, words, and characters in a text file\n",
        "\n",
        "def count_text_file(file_path):\n",
        "    with open(file_path, 'r') as file:\n",
        "        lines = file.readlines()\n",
        "        line_count = len(lines)\n",
        "        word_count = sum(len(line.split()) for line in lines)\n",
        "        char_count = sum(len(line) for line in lines)\n",
        "    return line_count, word_count, char_count\n",
        "\n",
        "file_path = 'example.txt'\n",
        "lines, words, characters = count_text_file(file_path)\n",
        "print(f'Lines: {lines}, Words: {words}, Characters: {characters}')"
      ]
    },
    {
      "cell_type": "code",
      "execution_count": null,
      "id": "05bd16ae",
      "metadata": {
        "id": "05bd16ae",
        "outputId": "107d7b20-a85c-4487-906f-43624a76bfde"
      },
      "outputs": [
        {
          "name": "stdout",
          "output_type": "stream",
          "text": [
            "Hello world\n",
            "This is a new line \n",
            "\n"
          ]
        }
      ],
      "source": [
        "## Writing and then reading a file\n",
        "\"\"\"\n",
        "The w+ mode in Python is used to open a file for both reading and writing.\n",
        "If the file does not exist, it will be created. If the file exists,\n",
        "its content is truncated (i.e., the file is overwritten).\n",
        "\"\"\"\n",
        "\n",
        "with open('example.txt', 'w+') as file:\n",
        "    file.write(\"Hello world\\n\")\n",
        "    file.write(\"This is a new line \\n\")\n",
        "\n",
        "    ## Move the file cursor to the beginning\n",
        "    file.seek(0)\n",
        "\n",
        "    ## Read the content of the file\n",
        "    content = file.read()\n",
        "    print(content)"
      ]
    },
    {
      "cell_type": "markdown",
      "id": "cfa58ade",
      "metadata": {
        "id": "cfa58ade"
      },
      "source": [
        "### 17 - Working with File Paths"
      ]
    },
    {
      "cell_type": "code",
      "execution_count": null,
      "id": "476dc929",
      "metadata": {
        "id": "476dc929",
        "outputId": "f3e1e4ba-250d-4927-ecb1-f0fdda553d69"
      },
      "outputs": [
        {
          "name": "stdout",
          "output_type": "stream",
          "text": [
            "Current working directory is f:\\Master Data Analysis\\3 - Complete Python with Important Libraries\n"
          ]
        }
      ],
      "source": [
        "## Using the os module\n",
        "\n",
        "import os\n",
        "cwd = os.getcwd()\n",
        "print(f\"Current working directory is {cwd}\")"
      ]
    },
    {
      "cell_type": "code",
      "execution_count": null,
      "id": "07ed2d6b",
      "metadata": {
        "id": "07ed2d6b",
        "outputId": "ba1c5c42-fc09-40f2-a291-01bd03858e3a"
      },
      "outputs": [
        {
          "name": "stdout",
          "output_type": "stream",
          "text": [
            "Directory 'package' created.\n"
          ]
        }
      ],
      "source": [
        "## Create a new directory\n",
        "\n",
        "new_directory = \"package\"\n",
        "os.mkdir(new_directory)\n",
        "print(f\"Directory '{new_directory}' created.\")\n"
      ]
    },
    {
      "cell_type": "code",
      "execution_count": null,
      "id": "ca07b79a",
      "metadata": {
        "id": "ca07b79a",
        "outputId": "cfd21b5e-b97e-4d21-88a8-967b8ab3ae98"
      },
      "outputs": [
        {
          "name": "stdout",
          "output_type": "stream",
          "text": [
            "['1.0-basic.ipynb', '1.1-Variables.ipynb', '1.2-Datatypes.ipynb', '1.3-operators.ipynb', '3.1-Lists.ipynb', '3.2-Tuples.ipynb', '3.3-Sets.ipynb', '3.4-Dictionaries.ipynb', '4.1-functions.ipynb', '4.2-examplesfunctions.ipynb', '4.3-Lambda.ipynb', '4.4-Mapsfunction.ipynb', '4.5-filterfunction.ipynb', '5.1-import.ipynb', '5.2-Standardlibrary.ipynb', '6.1-fileoperation.ipynb', '6.2-filepath.ipynb', 'assignment_solution', 'assignment_solutions', 'assignment_solutions.zip', 'Conditionalstatements.ipynb', 'destination.txt', 'example.txt', 'functionsassignmentsoln.ipynb', 'list_assignment_solution', 'list_assignment_solution.zip', 'Loops.ipynb', 'package', 'Python for Data Analytics.ipynb', 'requirements.txt', 'set_assignments_solution.zip', 'tuple_assignment_solution', 'tuple_assignment_solution.zip', 'venv']\n"
          ]
        }
      ],
      "source": [
        "## Listing Files and Directories\n",
        "items = os.listdir('.')\n",
        "print(items)"
      ]
    },
    {
      "cell_type": "code",
      "execution_count": null,
      "id": "f920c815",
      "metadata": {
        "id": "f920c815",
        "outputId": "5d79f896-893c-4f42-a955-1338c261117f"
      },
      "outputs": [
        {
          "name": "stdout",
          "output_type": "stream",
          "text": [
            "folder\\file.txt\n"
          ]
        }
      ],
      "source": [
        "## Joining Paths\n",
        "\n",
        "dir_name = \"folder\"\n",
        "file_name = \"file.txt\"\n",
        "full_path = os.path.join(dir_name, file_name)\n",
        "print(full_path)"
      ]
    },
    {
      "cell_type": "code",
      "execution_count": null,
      "id": "2ca8baee",
      "metadata": {
        "id": "2ca8baee",
        "outputId": "60b313e6-1170-4346-81c8-ab3b9605a19a"
      },
      "outputs": [
        {
          "name": "stdout",
          "output_type": "stream",
          "text": [
            "f:\\Master Data Analysis\\3 - Complete Python with Important Libraries\\folder\\file.txt\n"
          ]
        }
      ],
      "source": [
        "dir_name = \"folder\"\n",
        "file_name = \"file.txt\"\n",
        "full_path = os.path.join(os.getcwd(), dir_name, file_name)\n",
        "print(full_path)"
      ]
    },
    {
      "cell_type": "code",
      "execution_count": null,
      "id": "d53be87f",
      "metadata": {
        "id": "d53be87f",
        "outputId": "4da260ce-ddb0-45a8-c0d8-40711a3411a8"
      },
      "outputs": [
        {
          "name": "stdout",
          "output_type": "stream",
          "text": [
            "The path 'example.txt' exists\n"
          ]
        }
      ],
      "source": [
        "path = 'example.txt'\n",
        "if os.path.exists(path):\n",
        "    print(f\"The path '{path}' exists\")\n",
        "else:\n",
        "    print(f\"The path '{path}' does not exists\")"
      ]
    },
    {
      "cell_type": "code",
      "execution_count": null,
      "id": "aa35ebdb",
      "metadata": {
        "id": "aa35ebdb",
        "outputId": "1b0806e0-9953-4309-c155-28a2c9fbc452"
      },
      "outputs": [
        {
          "name": "stdout",
          "output_type": "stream",
          "text": [
            "The path 'example.txt' is a file.\n"
          ]
        }
      ],
      "source": [
        "## Checking if a Path is a File or Directory\n",
        "import os\n",
        "\n",
        "path = 'example.txt'\n",
        "if os.path.isfile(path):\n",
        "    print(f\"The path '{path}' is a file.\")\n",
        "elif os.path.isdir(path):\n",
        "    print(f\"The path '{path}' is a directory.\")\n",
        "else:\n",
        "    print(f\"The path '{path}' is neither a file nor a directory.\")"
      ]
    },
    {
      "cell_type": "code",
      "execution_count": null,
      "id": "f61fb78b",
      "metadata": {
        "id": "f61fb78b",
        "outputId": "3ea6429b-6a65-4acb-e319-0631674685a9"
      },
      "outputs": [
        {
          "name": "stdout",
          "output_type": "stream",
          "text": [
            "f:\\Master Data Analysis\\3 - Complete Python with Important Libraries\\example.txt\n"
          ]
        }
      ],
      "source": [
        "## Getting the absolute path\n",
        "relative_path = 'example.txt'\n",
        "absolute_path = os.path.abspath(relative_path)\n",
        "print(absolute_path)"
      ]
    },
    {
      "cell_type": "markdown",
      "id": "d4d47737",
      "metadata": {
        "id": "d4d47737"
      },
      "source": [
        "## Exception Handling"
      ]
    },
    {
      "cell_type": "code",
      "execution_count": null,
      "id": "d3e3cf47",
      "metadata": {
        "id": "d3e3cf47"
      },
      "outputs": [],
      "source": [
        "\"\"\"\"\n",
        "Exceptions are events that disrupt the normal flow of a program.\n",
        "They occur when an error is encountered during program execution.\n",
        "Common exceptions include:\n",
        "\n",
        "- ZeroDivisionError: Dividing by zero.\n",
        "- FileNotFoundError: File not found.\n",
        "- ValueError: Invalid value.\n",
        "- TypeError: Invalid type.\n",
        "\"\"\""
      ]
    },
    {
      "cell_type": "code",
      "execution_count": null,
      "id": "6ffaa9b3",
      "metadata": {
        "id": "6ffaa9b3",
        "outputId": "d2cb752a-773b-411f-f93f-2f0db4354be6"
      },
      "outputs": [
        {
          "name": "stdout",
          "output_type": "stream",
          "text": [
            "The variable has not been assigned\n"
          ]
        }
      ],
      "source": [
        "## Exception try, except block\n",
        "\n",
        "try:\n",
        "    a = b\n",
        "except:\n",
        "    print(\"The variable has not been assigned\")"
      ]
    },
    {
      "cell_type": "code",
      "execution_count": null,
      "id": "d9a60d7a",
      "metadata": {
        "id": "d9a60d7a",
        "outputId": "4227e48b-56c7-48c8-e7e5-a82b9eac34ac"
      },
      "outputs": [
        {
          "ename": "NameError",
          "evalue": "name 'b' is not defined",
          "output_type": "error",
          "traceback": [
            "\u001b[31m---------------------------------------------------------------------------\u001b[39m",
            "\u001b[31mNameError\u001b[39m                                 Traceback (most recent call last)",
            "\u001b[36mCell\u001b[39m\u001b[36m \u001b[39m\u001b[32mIn[44]\u001b[39m\u001b[32m, line 1\u001b[39m\n\u001b[32m----> \u001b[39m\u001b[32m1\u001b[39m a = \u001b[43mb\u001b[49m\n",
            "\u001b[31mNameError\u001b[39m: name 'b' is not defined"
          ]
        }
      ],
      "source": [
        "a = b"
      ]
    },
    {
      "cell_type": "code",
      "execution_count": null,
      "id": "fa756e31",
      "metadata": {
        "id": "fa756e31",
        "outputId": "d7ca3808-ac71-451b-af0b-0118d1803711"
      },
      "outputs": [
        {
          "name": "stdout",
          "output_type": "stream",
          "text": [
            "name 'b' is not defined\n"
          ]
        }
      ],
      "source": [
        "try:\n",
        "    a = b\n",
        "except NameError as ex:\n",
        "    print(ex)"
      ]
    },
    {
      "cell_type": "code",
      "execution_count": null,
      "id": "5fed41ae",
      "metadata": {
        "id": "5fed41ae",
        "outputId": "20026d80-10ed-4f67-fc73-a01e070271ad"
      },
      "outputs": [
        {
          "name": "stdout",
          "output_type": "stream",
          "text": [
            "division by zero\n",
            "Please enter the denominator greater than 0\n"
          ]
        }
      ],
      "source": [
        "try:\n",
        "    result = 1 / 0\n",
        "except ZeroDivisionError as ex:\n",
        "    print(ex)\n",
        "    print(\"Please enter the denominator greater than 0\")"
      ]
    },
    {
      "cell_type": "code",
      "execution_count": null,
      "id": "fd8410b0",
      "metadata": {
        "id": "fd8410b0",
        "outputId": "0ef42754-ff10-47a9-d285-b55c6d256f98"
      },
      "outputs": [
        {
          "name": "stdout",
          "output_type": "stream",
          "text": [
            "name 'b' is not defined\n",
            "Main exception got caught here\n"
          ]
        }
      ],
      "source": [
        "try:\n",
        "    result = 1 / 2\n",
        "    a = b\n",
        "except ZeroDivisionError as ex:\n",
        "    print(ex)\n",
        "    print(\"Please enter the denominator greater than 0\")\n",
        "except Exception as ex1:\n",
        "    print(ex1)\n",
        "    print('Main exception got caught here')"
      ]
    },
    {
      "cell_type": "code",
      "execution_count": null,
      "id": "2cc06263",
      "metadata": {
        "id": "2cc06263",
        "outputId": "63b4cb11-3eba-433d-9942-1feb4932fcf2"
      },
      "outputs": [
        {
          "name": "stdout",
          "output_type": "stream",
          "text": [
            "That's not a valid number!\n"
          ]
        }
      ],
      "source": [
        "## try, except, else block\n",
        "\n",
        "try:\n",
        "    num = int(input(\"Enter a number:\"))\n",
        "    result = 10 / num\n",
        "except ValueError:\n",
        "    print(\"That's not a valid number!\")\n",
        "except ZeroDivisionError:\n",
        "    print(\"You can't divide by zero!\")\n",
        "except Exception as ex:\n",
        "    print(ex)\n",
        "else:\n",
        "    print(f\"The result is {result}\")"
      ]
    },
    {
      "cell_type": "code",
      "execution_count": null,
      "id": "4203c9e1",
      "metadata": {
        "id": "4203c9e1",
        "outputId": "8bba1b56-2df9-4a00-f122-74c5d235139a"
      },
      "outputs": [
        {
          "name": "stdout",
          "output_type": "stream",
          "text": [
            "The result is 3.3333333333333335\n",
            "Execution complete.\n"
          ]
        }
      ],
      "source": [
        "## try, except, else and finally\n",
        "try:\n",
        "    num = int(input(\"Enter a number: \"))\n",
        "    result = 10 / num\n",
        "except ValueError:\n",
        "    print(\"That's not a valid number!\")\n",
        "except ZeroDivisionError:\n",
        "    print(\"You can't divide by zero!\")\n",
        "except Exception as ex:\n",
        "    print(ex)\n",
        "else:\n",
        "    print(f\"The result is {result}\")\n",
        "finally:\n",
        "    print(\"Execution complete.\")"
      ]
    },
    {
      "cell_type": "code",
      "execution_count": null,
      "id": "4fd4742e",
      "metadata": {
        "id": "4fd4742e",
        "outputId": "ed5ef03e-b18e-485a-b0d4-0be26871b2c1"
      },
      "outputs": [
        {
          "name": "stdout",
          "output_type": "stream",
          "text": [
            "The file does not exists\n",
            "file close\n"
          ]
        }
      ],
      "source": [
        "## File handling and Exception handling\n",
        "\n",
        "try:\n",
        "    file = open('example1.txt', 'r')\n",
        "    content = file.read()\n",
        "    a = b\n",
        "    print(content)\n",
        "\n",
        "except FileNotFoundError:\n",
        "    print(\"The file does not exists\")\n",
        "except Exception as ex:\n",
        "    print(ex)\n",
        "\n",
        "finally:\n",
        "    if 'file' in locals() or not file.closed():\n",
        "        file.close()\n",
        "        print('file close')"
      ]
    }
  ],
  "metadata": {
    "kernelspec": {
      "display_name": "Python 3 (ipykernel)",
      "language": "python",
      "name": "python3"
    },
    "language_info": {
      "codemirror_mode": {
        "name": "ipython",
        "version": 3
      },
      "file_extension": ".py",
      "mimetype": "text/x-python",
      "name": "python",
      "nbconvert_exporter": "python",
      "pygments_lexer": "ipython3",
      "version": "3.9.13"
    },
    "colab": {
      "provenance": [],
      "include_colab_link": true
    }
  },
  "nbformat": 4,
  "nbformat_minor": 5
}